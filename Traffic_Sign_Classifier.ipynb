{
 "cells": [
  {
   "cell_type": "code",
   "execution_count": 1,
   "metadata": {},
   "outputs": [
    {
     "data": {
      "text/html": [
       "<style>.container { width:80% !important; }</style>"
      ],
      "text/plain": [
       "<IPython.core.display.HTML object>"
      ]
     },
     "metadata": {},
     "output_type": "display_data"
    }
   ],
   "source": [
    "from IPython.core.display import display, HTML\n",
    "display(HTML(\"<style>.container { width:80% !important; }</style>\"))"
   ]
  },
  {
   "cell_type": "markdown",
   "metadata": {},
   "source": [
    "## Building a Traffic Sign Recognition Classifier, Deep Learning Approach \n",
    "\n",
    "### Overview  \n",
    "\n",
    "In this project, I train train and validate a CNN model to classify traffic sign images using the [German Traffic Sign Dataset](http://benchmark.ini.rub.de/?section=gtsrb&subsection=dataset). Below are the following steps of the pipeline that I have developed:  \n",
    "\n",
    "- Loading the provided raw data, **trainin**, **validation**, and **test** data sets. \n",
    "- exploring the raw data, data set size for each category, visualizing, and identifying how it can be pre=-processed to improve model performance in general \n",
    "- Applying the modifications to the images and storing the processed data to be loaded for the next runs \n",
    "- Defining the CNN model and finetuning hyper-parameters  \n",
    "- Test and visualize the performance on provided (and processed) **test** data set \n",
    "- Visualize itermediate layers' output \n",
    "\n",
    "> **Note**: `Cnn` wrapper class is created alongside this jupyter notebook for better code review and readability. In a sense, it is similar to `Keras` library, but of course a lot more limited functionality, just to cover the requirements of this project.  \n",
    "\n",
    "### 1. Laoding and exploring the provided raw data  \n",
    "\n",
    "- **Whitenning Images**:  \n",
    "    While exploring the raw data, I noticed several images that were dark, not really highlighting the features that the CNN could clearly capture. To improve on it, I developed function `Cnn.whiten_images_self_mean` that takes an image as input and slightly enlighten - or whiten - it with respect to its own average RGB values. That can also be performed on HLS space, increasing the light component. But that has worked well for now. Below you can see some examples of the images before and after whitening.  \n",
    "\n",
    "Before Whitenning             |  After Whitenning\n",
    ":-------------------------:|:-------------------------:\n",
    "![Before](Images/sample-01-d.png)  |  ![After](Images/sample-01.png)  \n",
    " | \n",
    "![Before](Images/sample-02-d.png)  |  ![After](Images/sample-02.png)  \n",
    " |\n",
    "\n",
    "***\n",
    "> **Note**:\n",
    "There are couple of other appraoches proposed in literatures for image whitenning that I tried, but they did not work as expected. One of them that I already tried is called **Zero Components Analysis** or **ZCA** for short. I think this method requires some basic requirements of training data set that are not met here. After exploring some of the whitenned images, the results were so deviated from the original image that one could not identify the original image. But it is still worth exploring... future work  \n",
    "- [LINK-1: Preprocessing for deep learning: from covariance matrix to image whitening](https://hadrienj.github.io/posts/Preprocessing-for-deep-learning/)\n",
    "- [LINK-2: Preprocessing for deep learning: from covariance matrix to image whitening](https://www.freecodecamp.org/news/preprocessing-for-deep-learning-from-covariance-matrix-to-image-whitening-9e2b9c75165c/)  \n",
    "There are also some general useful guidelines that I followed, such as the link below: \n",
    "- [Image Pre-processing for Deep Learning](https://towardsdatascience.com/image-pre-processing-c1aec0be3edf) \n",
    "\n",
    "  \n",
    "\n",
    "- **Data Augmentation**:  \n",
    "    It is observed that the provided raw data does not have enough data for some categories. More importantly, some features have significantly more data than ohers. Here is the distribution of number of images of each category:  \n",
    "    \n",
    "    `features_counts: [ 180 1980 2010 1260 1770 1650  360 1290 1260 1320 1800 1170 1890 1920 690  540  360  990 1080  180  300  270  330 450  240 1350  540  210 480  240  390  690  210  599  360 1080  330  180 1860  270  300  210 210]`\n",
    "    \n",
    "    So it is needed to augment the data in a logical way. My simple approach is to generate some fake images of each category by applying slight noises. Function `Cnn.augment_data` is created to perform this job. After data augmentation, equal sample size of each category is selected form the post-processed and augmented data and the results are saved into the `traffic-signs-data` directory for future uses. \n",
    "    \n",
    "    > **Note**: This task needs to be run only once, therefore for future runs, the post-processed data will be loaded for training, validation, and test steps. \n",
    "    \n",
    "    After training-data augmentation process, each category will have enough number of data as follows. \n",
    "    \n",
    "    `features_counts: [1440, 3240, 3270, 2520, 3030, 2910, 1620, 2550, 2520, 2580, 3060, 2430, 3150, 3180, 1950, 1800, 1620, 2250, 2340, 1440, 1560, 1530, 1590, 1710, 1500, 2610, 1800, 1470, 1740, 1500, 1650, 1950, 1470, 1859, 1620, 2340, 1590, 1440, 3120, 1530, 1560, 1470, 1470]`  \n",
    "        \n",
    "    However, the training data is loaded such that each category has equal sample size as follows:  \n",
    "    \n",
    "    `features_counts: [1440, 1440, 1440, 1440, 1440, 1440, 1440, 1440, 1440, 1440, 1440, 1440, 1440, 1440, 1440, 1440, 1440, 1440, 1440, 1440, 1440, 1440, 1440, 1440, 1440, 1440, 1440, 1440, 1440, 1440, 1440, 1440, 1440, 1440, 1440, 1440, 1440, 1440, 1440, 1440, 1440, 1440, 1440]`  \n",
    "    \n",
    "### Defining the CNN model:  \n",
    "\n",
    "The model arcitecture consists of five CNN layers followed two fully-connected - FC - layers. The parameters of the CNN model is selected and tuned such that it becomes smallet as it goes deeper, i.e. more feature depths but smaller layers. The output of each CNN layer is fed into a batch-normalizer to ensure that the results - trained weights and biases - do not overshoot, causing numerical instability and poor training performance.  \n",
    "\n",
    "For the FC layers, dropout appraoch is used to prevent overfitting. \n",
    "\n",
    "### Results and Discussions  \n",
    "\n",
    "After going through 50 iterations on the training data batches - `epochs = 50` - the validatoin accuracy of close to `98%` is achieved. Tracking the training-loss suggets that the model performance is resonable and it did not overfit the training data. This is later confirmed by using the **test** data set that is not exposed to the model at all. The overall test accuracy is close to `95%`. \n",
    "\n",
    "### Potential Improvement Areas  \n",
    "\n",
    "I can think of couple of improvement areas that I would like to explore. \n",
    "\n",
    "-  **Utilizing more training data**:  \n",
    "   In general, by adding more clear and clean data of each category, the performance should be improved. Currently, the data augmentation is done by applying some level of noise. However, by adding more cear publicly-available data - that are clean and clear - one may improve the performance.  \n",
    "   \n",
    "-  By examining the wrong predictions, it is observed that some of them are actually from the first 9 categories that are related to speed limit signs. Therefore, One way is to train a CNN model solely for the first 9 categories and the other one for all 43 categories - or just the other 34 categories. The final score will be decided after passing the test images into both CNNs. One benefit is that one may use smaller CNN size to get better speed and accuracy performance.  \n",
    "\n"
   ]
  },
  {
   "cell_type": "code",
   "execution_count": 1,
   "metadata": {},
   "outputs": [
    {
     "name": "stderr",
     "output_type": "stream",
     "text": [
      "Using TensorFlow backend.\n"
     ]
    }
   ],
   "source": [
    "# Load pickled data\n",
    "import pickle\n",
    "\n",
    "import pandas as pd\n",
    "import cv2\n",
    "import numpy as np\n",
    "from sklearn import preprocessing\n",
    "import os\n",
    "from random import shuffle\n",
    "import glob\n",
    "from pathlib import Path\n",
    "import tensorflow as tf\n",
    "import matplotlib.pyplot as plt\n",
    "import math\n",
    "\n",
    "from keras.layers import Input, InputLayer, Dense, Activation, ZeroPadding2D, BatchNormalization, Flatten, Conv2D\n",
    "from keras.layers import AveragePooling2D, MaxPooling2D, Dropout\n",
    "from keras.models import Sequential,Model\n",
    "from keras.optimizers import SGD\n",
    "from keras.callbacks import ModelCheckpoint, LearningRateScheduler\n",
    "import keras\n",
    "from keras import backend as K"
   ]
  },
  {
   "cell_type": "code",
   "execution_count": 2,
   "metadata": {},
   "outputs": [],
   "source": [
    "training_raw_file = \"traffic-signs-data/train.p\"\n",
    "validation_raw_file = \"traffic-signs-data/valid.p\"\n",
    "testing_raw_file = \"traffic-signs-data/test.p\"\n",
    "\n",
    "training_processed_file = \"traffic-signs-data/train-processed.p\"\n",
    "validation_processed_file = \"traffic-signs-data/valid-processed.p\"\n",
    "testing_processed_file = \"traffic-signs-data/test-processed.p\"\n",
    "\n",
    "csv_features_file = \"signnames.csv\""
   ]
  },
  {
   "cell_type": "markdown",
   "metadata": {},
   "source": [
    "### Data explorations and processing    \n",
    "\n",
    "- loading the alread-provided raw data \n",
    "- data augmentation  \n",
    "- image whitenning \n",
    "- storing the processed data - augmented and whitenned \n",
    "\n",
    "> **Note**: This cell needs to be run only once - although it can be run several times, but not really needed. In the following cells below, the generated data file will be loaded and used for training purposes. "
   ]
  },
  {
   "cell_type": "code",
   "execution_count": null,
   "metadata": {},
   "outputs": [],
   "source": []
  },
  {
   "cell_type": "code",
   "execution_count": 76,
   "metadata": {
    "scrolled": false
   },
   "outputs": [
    {
     "name": "stdout",
     "output_type": "stream",
     "text": [
      "features count before augmentation: [ 180 1980 2010 1260 1770 1650  360 1290 1260 1320 1800 1170 1890 1920\n",
      "  690  540  360  990 1080  180  300  270  330  450  240 1350  540  210\n",
      "  480  240  390  690  210  599  360 1080  330  180 1860  270  300  210\n",
      "  210]\n",
      "features count after augmentation: [360, 2160, 2190, 1440, 1950, 1830, 540, 1470, 1440, 1500, 1980, 1350, 2070, 2100, 870, 720, 540, 1170, 1260, 360, 480, 450, 510, 630, 420, 1530, 720, 390, 660, 420, 570, 870, 390, 779, 540, 1260, 510, 360, 2040, 450, 480, 390, 390]\n",
      "features count before augmentation: [ 360 2160 2190 1440 1950 1830  540 1470 1440 1500 1980 1350 2070 2100\n",
      "  870  720  540 1170 1260  360  480  450  510  630  420 1530  720  390\n",
      "  660  420  570  870  390  779  540 1260  510  360 2040  450  480  390\n",
      "  390]\n",
      "features count after augmentation: [720, 2520, 2550, 1800, 2310, 2190, 900, 1830, 1800, 1860, 2340, 1710, 2430, 2460, 1230, 1080, 900, 1530, 1620, 720, 840, 810, 870, 990, 780, 1890, 1080, 750, 1020, 780, 930, 1230, 750, 1139, 900, 1620, 870, 720, 2400, 810, 840, 750, 750]\n",
      "features count before augmentation: [ 720 2520 2550 1800 2310 2190  900 1830 1800 1860 2340 1710 2430 2460\n",
      " 1230 1080  900 1530 1620  720  840  810  870  990  780 1890 1080  750\n",
      " 1020  780  930 1230  750 1139  900 1620  870  720 2400  810  840  750\n",
      "  750]\n",
      "features count after augmentation: [1440, 3240, 3270, 2520, 3030, 2910, 1620, 2550, 2520, 2580, 3060, 2430, 3150, 3180, 1950, 1800, 1620, 2250, 2340, 1440, 1560, 1530, 1590, 1710, 1500, 2610, 1800, 1470, 1740, 1500, 1650, 1950, 1470, 1859, 1620, 2340, 1590, 1440, 3120, 1530, 1560, 1470, 1470]\n",
      "- pre-processing raw images and applying self-mean correction to whiten them... started\n",
      "  completed!           \n",
      "- pre-processing raw images and applying self-mean correction to whiten them... started\n",
      "  completed!           \n",
      "- pre-processing raw images and applying self-mean correction to whiten them... started\n",
      "  completed!           \n"
     ]
    }
   ],
   "source": [
    "from importlib import reload\n",
    "import classificationModules\n",
    "reload(classificationModules)\n",
    "from classificationModules import Cnn\n",
    "\n",
    "# in case resizing is required - not used in this pipeline\n",
    "target_image_size = 32\n",
    "epsilon = 0.0\n",
    "\n",
    "with open(training_raw_file, mode=\"rb\") as f:\n",
    "    train_raw_data = pickle.load(f)\n",
    "with open(validation_raw_file, mode=\"rb\") as f:\n",
    "    valid_raw_data = pickle.load(f)\n",
    "with open(testing_raw_file, mode=\"rb\") as f:\n",
    "    test_raw_data = pickle.load(f)\n",
    "\n",
    "# pre-processing the raw data \n",
    "\n",
    "x_train_raw_data, y_train_raw_data = train_raw_data[\"features\"], train_raw_data[\"labels\"]\n",
    "x_valid_raw_data, y_valid_raw_data = valid_raw_data[\"features\"], valid_raw_data[\"labels\"]\n",
    "x_test_raw_data, y_test_raw_data = test_raw_data[\"features\"], test_raw_data[\"labels\"]\n",
    "\n",
    "x_train_norm_data = Cnn.normalize(x_train_raw_data, approach=\"scale\")\n",
    "x_valid_norm_data = Cnn.normalize(x_valid_raw_data, approach=\"scale\")\n",
    "x_test_norm_data = Cnn.normalize(x_test_raw_data, approach=\"scale\")\n",
    "\n",
    "y_train_norm_data = y_train_raw_data\n",
    "\n",
    "x_train_norm_data, y_train_norm_data, features_counts = Cnn.augment_data(x_train_norm_data, y_train_norm_data, epsilon=0.05)\n",
    "x_train_norm_data, y_train_norm_data, features_counts = Cnn.augment_data(x_train_norm_data, y_train_norm_data, epsilon=-0.05)\n",
    "x_train_norm_data, y_train_norm_data, features_counts = Cnn.augment_data(x_train_norm_data, y_train_norm_data, epsilon=0.05)\n",
    "\n",
    "# Note: ZCA approach is not used for now \n",
    "# Cnn.whiten_images_zca(x_train_norm_data, train_processed_data[\"features\"], batch_size=1000, epsilon=0.1)\n",
    "# Cnn.whiten_images_zca(x_valid_norm_data, valid_processed_data[\"features\"], batch_size=1000, epsilon=0.1)\n",
    "# Cnn.whiten_images_zca(x_test_norm_data, test_processed_data[\"features\"], batch_size=1000, epsilon=0.1)\n",
    "\n",
    "# np.zeros_like(x_train_norm_data).astype(np.uint8)\n",
    "train_processed_data = {\"features\":None, \"labels\":y_train_norm_data}\n",
    "valid_processed_data = {\"features\":None, \"labels\":y_valid_raw_data}\n",
    "test_processed_data = {\"features\":None, \"labels\":y_test_raw_data}\n",
    "\n",
    "train_processed_data[\"features\"] = Cnn.whiten_images_self_mean(x_train_norm_data, batch_size=1000, width_offset=1, height_offset=1, \n",
    "                                                               epsilon=0.0, verbose=True)\n",
    "valid_processed_data[\"features\"] = Cnn.whiten_images_self_mean(x_valid_norm_data, batch_size=1000, width_offset=1, height_offset=1, \n",
    "                                                               epsilon=0.0, verbose=True)\n",
    "test_processed_data[\"features\"] = Cnn.whiten_images_self_mean(x_test_norm_data, batch_size=1000, width_offset=1, height_offset=1, \n",
    "                                                              epsilon=0.0, verbose=True)\n",
    "# Note: useful for debugging only \n",
    "# train_processed_data = np.copy(train_raw_data)\n",
    "# valid_processed_data = np.copy(valid_raw_data)\n",
    "# test_processed_data = np.copy(test_raw_data)\n",
    "\n",
    "with open(training_processed_file, mode=\"wb\") as f:\n",
    "    pickle.dump(train_processed_data, f)\n",
    "with open(validation_processed_file, mode=\"wb\") as f:\n",
    "    pickle.dump(valid_processed_data, f)\n",
    "with open(testing_processed_file, mode=\"wb\") as f:\n",
    "    pickle.dump(test_processed_data, f)\n",
    "\n",
    "# releasing memory \n",
    "\n",
    "# train_raw_data = None\n",
    "valid_raw_data = None\n",
    "test_raw_data = None\n",
    "\n",
    "# train_processed_data = None\n",
    "valid_processed_data = None\n",
    "test_processed_data = None\n"
   ]
  },
  {
   "cell_type": "code",
   "execution_count": null,
   "metadata": {},
   "outputs": [],
   "source": []
  },
  {
   "cell_type": "markdown",
   "metadata": {},
   "source": [
    "### Exploring some of the post-processed images  \n"
   ]
  },
  {
   "cell_type": "code",
   "execution_count": 183,
   "metadata": {},
   "outputs": [
    {
     "data": {
      "text/plain": [
       "<matplotlib.image.AxesImage at 0x25d533c8940>"
      ]
     },
     "execution_count": 183,
     "metadata": {},
     "output_type": "execute_result"
    },
    {
     "data": {
      "image/png": "[encoded data removed]",
      "text/plain": [
       "<Figure size 108x108 with 1 Axes>"
      ]
     },
     "metadata": {
      "needs_background": "light"
     },
     "output_type": "display_data"
    },
    {
     "data": {
      "image/png": "[encoded data removed]",
      "text/plain": [
       "<Figure size 108x108 with 1 Axes>"
      ]
     },
     "metadata": {
      "needs_background": "light"
     },
     "output_type": "display_data"
    }
   ],
   "source": [
    "temp_images = train_processed_data[\"features\"]\n",
    "temp_labels = train_processed_data[\"labels\"]\n",
    "\n",
    "test_image_index = 2100\n",
    "\n",
    "plt.figure(figsize=(1.5, 1.5))\n",
    "plt.imshow(temp_images[test_image_index])\n",
    "\n",
    "# =============================================================\n",
    "\n",
    "temp_images = x_train_norm_data\n",
    "temp_labels = y_train_norm_data\n",
    "\n",
    "plt.figure(figsize=(1.5, 1.5))\n",
    "plt.imshow(temp_images[test_image_index])\n"
   ]
  },
  {
   "cell_type": "code",
   "execution_count": null,
   "metadata": {},
   "outputs": [],
   "source": []
  },
  {
   "cell_type": "markdown",
   "metadata": {},
   "source": [
    "### Loading data sets from the post-processed pickle files \n",
    "- In this cell, already-preprocessed data files are loaded for training, validation, and test purposes.  \n"
   ]
  },
  {
   "cell_type": "code",
   "execution_count": null,
   "metadata": {},
   "outputs": [],
   "source": []
  },
  {
   "cell_type": "code",
   "execution_count": 3,
   "metadata": {},
   "outputs": [
    {
     "data": {
      "text/plain": [
       "'\\nwith open(training_raw_file, mode=\"rb\") as f:\\n    train_data = pickle.load(f)\\nwith open(validation_raw_file, mode=\"rb\") as f:\\n    valid_data = pickle.load(f)\\nwith open(testing_raw_file, mode=\"rb\") as f:\\n    test_data = pickle.load(f)\\n'"
      ]
     },
     "execution_count": 3,
     "metadata": {},
     "output_type": "execute_result"
    }
   ],
   "source": [
    "with open(training_processed_file, mode=\"rb\") as f:\n",
    "    train_data = pickle.load(f)\n",
    "with open(validation_processed_file, mode=\"rb\") as f:\n",
    "    valid_data = pickle.load(f)\n",
    "with open(testing_processed_file, mode=\"rb\") as f:\n",
    "    test_data = pickle.load(f)\n",
    "\n",
    "\"\"\"\n",
    "with open(training_raw_file, mode=\"rb\") as f:\n",
    "    train_data = pickle.load(f)\n",
    "with open(validation_raw_file, mode=\"rb\") as f:\n",
    "    valid_data = pickle.load(f)\n",
    "with open(testing_raw_file, mode=\"rb\") as f:\n",
    "    test_data = pickle.load(f)\n",
    "\"\"\"\n"
   ]
  },
  {
   "cell_type": "markdown",
   "metadata": {},
   "source": [
    "### Preparing training, validation, and test data sets  "
   ]
  },
  {
   "cell_type": "code",
   "execution_count": 188,
   "metadata": {},
   "outputs": [],
   "source": [
    "from importlib import reload\n",
    "import classificationModules\n",
    "reload(classificationModules)\n",
    "from classificationModules import Cnn\n"
   ]
  },
  {
   "cell_type": "code",
   "execution_count": 5,
   "metadata": {},
   "outputs": [
    {
     "name": "stdout",
     "output_type": "stream",
     "text": [
      "Number of training examples = 88979\n",
      "Number of testing examples = 12630\n",
      "Image data shape = (32, 32, 3)\n",
      "Number of classes = 43\n",
      "\n",
      "Features count of training set\n",
      ": [1440, 3240, 3270, 2520, 3030, 2910, 1620, 2550, 2520, 2580, 3060, 2430, 3150, 3180, 1950, 1800, 1620, 2250, 2340, 1440, 1560, 1530, 1590, 1710, 1500, 2610, 1800, 1470, 1740, 1500, 1650, 1950, 1470, 1859, 1620, 2340, 1590, 1440, 3120, 1530, 1560, 1470, 1470]\n",
      "\n",
      "Features count of validation set\n",
      ": [30, 240, 240, 150, 210, 210, 60, 150, 150, 150, 210, 150, 210, 240, 90, 90, 60, 120, 120, 30, 60, 60, 60, 60, 30, 150, 60, 30, 60, 30, 60, 90, 30, 90, 60, 120, 60, 30, 210, 30, 60, 30, 30]\n",
      "\n",
      "Features count of test set\n",
      ": [60, 720, 750, 450, 660, 630, 150, 450, 450, 480, 660, 420, 690, 720, 270, 210, 150, 360, 390, 60, 90, 90, 120, 150, 90, 480, 180, 60, 150, 90, 150, 270, 60, 210, 120, 390, 120, 60, 690, 90, 90, 60, 90]\n",
      "\n",
      "Features counts after equal size selection:\n",
      " [1440, 1440, 1440, 1440, 1440, 1440, 1440, 1440, 1440, 1440, 1440, 1440, 1440, 1440, 1440, 1440, 1440, 1440, 1440, 1440, 1440, 1440, 1440, 1440, 1440, 1440, 1440, 1440, 1440, 1440, 1440, 1440, 1440, 1440, 1440, 1440, 1440, 1440, 1440, 1440, 1440, 1440, 1440]\n"
     ]
    }
   ],
   "source": [
    "x_train_raw_data, y_train_raw_data = train_data[\"features\"], train_data[\"labels\"]\n",
    "x_valid_raw_data, y_valid_raw_data = valid_data[\"features\"], valid_data[\"labels\"]\n",
    "x_test_raw_data, y_test_raw_data = test_data[\"features\"], test_data[\"labels\"]\n",
    "\n",
    "# in case resizing is required - not used in this pipeline\n",
    "target_image_size = 32\n",
    "    \n",
    "features_df = pd.read_csv(csv_features_file)\n",
    "unique_label_ids = [row[\"ClassId\"] for _, row in features_df.iterrows()]\n",
    "unique_label_names = [row[\"SignName\"] for _, row in features_df.iterrows()]\n",
    "\n",
    "n_train = x_train_raw_data.shape[0]\n",
    "n_validation = x_valid_raw_data.shape[0]\n",
    "n_test = x_test_raw_data.shape[0]\n",
    "\n",
    "# shape of an traffic sign image\n",
    "image_shape = x_train_raw_data.shape[1:4]\n",
    "\n",
    "# unique classes/labels there are in the dataset\n",
    "assert np.array_equal(np.sort(np.unique(y_train_raw_data)), np.sort(np.asarray(unique_label_ids))), \\\n",
    "    \"There is a mismatch in the training data\"\n",
    "\n",
    "n_classes = len(unique_label_ids)\n",
    "\n",
    "print(\"Number of training examples =\", n_train)\n",
    "print(\"Number of testing examples =\", n_test)\n",
    "print(\"Image data shape =\", image_shape)\n",
    "print(\"Number of classes =\", n_classes)\n",
    "\n",
    "# n_classes = len(cnn.label_ids)\n",
    "\n",
    "features_counts = [(np.where(train_data[\"labels\"] == label_id))[0].size for label_id in unique_label_ids]\n",
    "print(\"\\nFeatures count of training set\\n:\", features_counts)\n",
    "print(\"\\nFeatures count of validation set\\n:\", [(np.where(valid_data[\"labels\"] == label_id))[0].size for label_id in unique_label_ids])\n",
    "print(\"\\nFeatures count of test set\\n:\", [(np.where(test_data[\"labels\"] == label_id))[0].size for label_id in unique_label_ids])\n",
    "\n",
    "# =================================================================================================\n",
    "\n",
    "x_train_raw_data, y_train_raw_data, new_features_counts = \\\n",
    "    Cnn.select_equally_sized_data_sets(x_train_raw_data, y_train_raw_data, n_classes=n_classes, \n",
    "                                       unique_label_ids=unique_label_ids, features_counts=features_counts)\n",
    "\n",
    "print(\"\\nFeatures counts after equal size selection:\\n\", new_features_counts)"
   ]
  },
  {
   "cell_type": "code",
   "execution_count": null,
   "metadata": {},
   "outputs": [],
   "source": []
  },
  {
   "cell_type": "markdown",
   "metadata": {},
   "source": [
    "### Pre-processing loaded data  \n",
    "- Normalization of loaded data between 0 and 1 \n",
    "- One-hot encoding of the loaded labels "
   ]
  },
  {
   "cell_type": "code",
   "execution_count": 6,
   "metadata": {},
   "outputs": [],
   "source": [
    "import random\n",
    "\n",
    "from importlib import reload\n",
    "import classificationModules\n",
    "reload(classificationModules)\n",
    "from classificationModules import Cnn\n",
    "\n",
    "cnn = Cnn()\n",
    "cnn.init_model(unique_label_names, unique_label_ids)\n",
    "\n",
    "x_train_data, y_train_data = Cnn.normalize(x_train_raw_data, approach=\"scale\"), cnn.one_hot_encode(y_train_raw_data)\n",
    "x_valid_data, y_valid_data = Cnn.normalize(x_valid_raw_data, approach=\"scale\"), cnn.one_hot_encode(y_valid_raw_data)\n",
    "x_test_data, y_test_data = Cnn.normalize(x_test_raw_data, approach=\"scale\"), cnn.one_hot_encode(y_test_raw_data)\n"
   ]
  },
  {
   "cell_type": "code",
   "execution_count": null,
   "metadata": {},
   "outputs": [],
   "source": []
  },
  {
   "cell_type": "markdown",
   "metadata": {},
   "source": [
    "### Shuffle the traning data"
   ]
  },
  {
   "cell_type": "code",
   "execution_count": 184,
   "metadata": {},
   "outputs": [],
   "source": [
    "labelled_data = list(zip(x_train_data, y_train_data))\n",
    "random.shuffle(labelled_data)\n",
    "random_x_train_data, random_y_train_data = zip(*labelled_data)\n",
    "\n",
    "random_x_train_data = list(random_x_train_data)\n",
    "random_y_train_data = list(random_y_train_data)\n"
   ]
  },
  {
   "cell_type": "markdown",
   "metadata": {},
   "source": [
    "### Exploring and visualizing the shuffled training data  "
   ]
  },
  {
   "cell_type": "code",
   "execution_count": null,
   "metadata": {},
   "outputs": [],
   "source": []
  },
  {
   "cell_type": "code",
   "execution_count": 190,
   "metadata": {},
   "outputs": [
    {
     "data": {
      "image/png": "[encoded data removed]",
      "text/plain": [
       "<Figure size 360x720 with 5 Axes>"
      ]
     },
     "metadata": {
      "needs_background": "light"
     },
     "output_type": "display_data"
    }
   ],
   "source": [
    "%matplotlib inline\n",
    "\n",
    "cnn.display_images(random_x_train_data[0:5], random_y_train_data[0:5], normalized=True)"
   ]
  },
  {
   "cell_type": "markdown",
   "metadata": {},
   "source": [
    "### CNN Model Architecture"
   ]
  },
  {
   "cell_type": "code",
   "execution_count": null,
   "metadata": {},
   "outputs": [],
   "source": []
  },
  {
   "cell_type": "code",
   "execution_count": 10,
   "metadata": {},
   "outputs": [
    {
     "name": "stdout",
     "output_type": "stream",
     "text": [
      "conv2d_maxpool... Start\n",
      "Checking inputs dimensions...\n",
      "conv_ksize: (8, 8)\n",
      "conv_num_outputs: 16\n",
      "WARNING:tensorflow:From C:\\ProgramData\\Anaconda3\\lib\\site-packages\\tensorflow\\python\\framework\\op_def_library.py:263: colocate_with (from tensorflow.python.framework.ops) is deprecated and will be removed in a future version.\n",
      "Instructions for updating:\n",
      "Colocations handled automatically by placer.\n",
      "Checking strides dimensions...\n",
      "conv_strides: (1, 1, 1, 1)\n",
      "pool_ksize: (1, 2, 2, 1)\n",
      "pool_strides (1, 1, 1, 1)\n",
      "batch_normalizer: <tensorflow.python.keras.layers.normalization.BatchNormalizationV1 object at 0x0000025C13FF3C18>\n",
      "conv_layer: (?, 24, 24, 16)\n",
      "conv2d_maxpool... End\n",
      "\n",
      "conv2d_maxpool... Start\n",
      "Checking inputs dimensions...\n",
      "conv_ksize: (5, 5)\n",
      "conv_num_outputs: 32\n",
      "Checking strides dimensions...\n",
      "conv_strides: (1, 1, 1, 1)\n",
      "pool_ksize: (1, 2, 2, 1)\n",
      "pool_strides (1, 1, 1, 1)\n",
      "batch_normalizer: <tensorflow.python.keras.layers.normalization.BatchNormalizationV1 object at 0x0000025C13FF3668>\n",
      "conv_layer: (?, 19, 19, 32)\n",
      "conv2d_maxpool... End\n",
      "\n",
      "conv2d_maxpool... Start\n",
      "Checking inputs dimensions...\n",
      "conv_ksize: (5, 5)\n",
      "conv_num_outputs: 32\n",
      "Checking strides dimensions...\n",
      "conv_strides: (1, 1, 1, 1)\n",
      "pool_ksize: (1, 2, 2, 1)\n",
      "pool_strides (1, 1, 1, 1)\n",
      "batch_normalizer: <tensorflow.python.keras.layers.normalization.BatchNormalizationV1 object at 0x0000025C14061780>\n",
      "conv_layer: (?, 14, 14, 32)\n",
      "conv2d_maxpool... End\n",
      "\n",
      "conv2d_maxpool... Start\n",
      "Checking inputs dimensions...\n",
      "conv_ksize: (5, 5)\n",
      "conv_num_outputs: 64\n",
      "Checking strides dimensions...\n",
      "conv_strides: (1, 1, 1, 1)\n",
      "pool_ksize: (1, 2, 2, 1)\n",
      "pool_strides (1, 1, 1, 1)\n",
      "batch_normalizer: <tensorflow.python.keras.layers.normalization.BatchNormalizationV1 object at 0x0000025C141CCFD0>\n",
      "conv_layer: (?, 9, 9, 64)\n",
      "conv2d_maxpool... End\n",
      "\n",
      "conv2d_maxpool... Start\n",
      "Checking inputs dimensions...\n",
      "conv_ksize: (5, 5)\n",
      "conv_num_outputs: 64\n",
      "Checking strides dimensions...\n",
      "conv_strides: (1, 1, 1, 1)\n",
      "pool_ksize: (1, 2, 2, 1)\n",
      "pool_strides (1, 1, 1, 1)\n",
      "batch_normalizer: <tensorflow.python.keras.layers.normalization.BatchNormalizationV1 object at 0x0000025C0FE6FEF0>\n",
      "conv_layer: (?, 4, 4, 64)\n",
      "conv2d_maxpool... End\n",
      "\n",
      "conv2d_maxpool... Start\n",
      "Checking inputs dimensions...\n",
      "conv_ksize: (2, 2)\n",
      "conv_num_outputs: 128\n",
      "Checking strides dimensions...\n",
      "conv_strides: (1, 1, 1, 1)\n",
      "pool_ksize: (1, 2, 2, 1)\n",
      "pool_strides (1, 1, 1, 1)\n",
      "batch_normalizer: <tensorflow.python.keras.layers.normalization.BatchNormalizationV1 object at 0x0000025C105C78D0>\n",
      "conv_layer: (?, 2, 2, 128)\n",
      "conv2d_maxpool... End\n",
      "\n",
      "\n",
      "WARNING: The TensorFlow contrib module will not be included in TensorFlow 2.0.\n",
      "For more information, please see:\n",
      "  * https://github.com/tensorflow/community/blob/master/rfcs/20180907-contrib-sunset.md\n",
      "  * https://github.com/tensorflow/addons\n",
      "If you depend on functionality not listed there, please file an issue.\n",
      "\n",
      "WARNING:tensorflow:From C:\\ProgramData\\Anaconda3\\lib\\site-packages\\tensorflow\\contrib\\layers\\python\\layers\\layers.py:1624: flatten (from tensorflow.python.layers.core) is deprecated and will be removed in a future version.\n",
      "Instructions for updating:\n",
      "Use keras.layers.flatten instead.\n",
      "WARNING:tensorflow:From <ipython-input-10-b26f7075169b>:87: calling dropout (from tensorflow.python.ops.nn_ops) with keep_prob is deprecated and will be removed in a future version.\n",
      "Instructions for updating:\n",
      "Please use `rate` instead of `keep_prob`. Rate should be set to `rate = 1 - keep_prob`.\n"
     ]
    }
   ],
   "source": [
    "def create_conv_net(x, keep_prob, n_classes):\n",
    "    \"\"\"\n",
    "    Create a convolutional neural network model\n",
    "    : x: Placeholder tensor that holds image data - normalized image \n",
    "    : keep_prob: Placeholder tensor that hold dropout keep probability \n",
    "    : return: Tensor that represents logits\n",
    "    \"\"\"\n",
    "    # Applying a few Convolution and Max Pool layers\n",
    "    \n",
    "    conv_ksize = (8, 8)  # filter dimensions\n",
    "    # conv_ksize = (3, 3)  # filter dimensions\n",
    "    conv_strides = (1, 1)\n",
    "    pool_ksize = (2, 2)  # Filter kernel/patch dimensions [batch, height, width, channels]\n",
    "    pool_strides = (1, 1)\n",
    "    \n",
    "    # batch_normalizer = tf.keras.layers.BatchNormalization(trainable=False)\n",
    "    # x = batch_normalizer(x)\n",
    "    \n",
    "    # batch_normalizer = None\n",
    "    \n",
    "    #conv_layer = conv2d_maxpool(x, conv_num_outputs, conv_ksize, conv_strides, pool_ksize, pool_strides)\n",
    "    conv_num_outputs = 16  # D_out : number of out filters\n",
    "    batch_normalizer = tf.keras.layers.BatchNormalization(trainable=True)\n",
    "    conv_layer = cnn.conv2d_maxpool(x, conv_num_outputs, conv_ksize, conv_strides, pool_ksize, pool_strides, \n",
    "                                    wieghts_name=\"weights-layer-1\", layer_name=\"hidden-layer-1\", batch_normalizer=batch_normalizer)\n",
    "    #conv_layer = normalize_batch(conv_layer)\n",
    "    \n",
    "    # next layer\n",
    "    conv_ksize = (5, 5)  # output layers dimensions\n",
    "    conv_num_outputs = 32\n",
    "    batch_normalizer = tf.keras.layers.BatchNormalization(trainable=True)\n",
    "    conv_layer = cnn.conv2d_maxpool(conv_layer, conv_num_outputs, conv_ksize, conv_strides, pool_ksize, pool_strides, \n",
    "                                    wieghts_name=\"weights-layer-2\", layer_name=\"hidden-layer-2\", batch_normalizer=batch_normalizer)\n",
    "    \n",
    "    # next layer\n",
    "    conv_ksize = (5, 5)  # output layers dimensions\n",
    "    conv_num_outputs = 32\n",
    "    batch_normalizer = tf.keras.layers.BatchNormalization(trainable=True)\n",
    "    conv_layer = cnn.conv2d_maxpool(conv_layer, conv_num_outputs, conv_ksize, conv_strides, pool_ksize, pool_strides, \n",
    "                                    wieghts_name=\"weights-layer-2\", layer_name=\"hidden-layer-2\", batch_normalizer=batch_normalizer)\n",
    "    \n",
    "    # next layer\n",
    "    conv_ksize = (5, 5)  # output layers dimensions\n",
    "    conv_num_outputs = 64\n",
    "    batch_normalizer = tf.keras.layers.BatchNormalization(trainable=True)\n",
    "    conv_layer = cnn.conv2d_maxpool(conv_layer, conv_num_outputs, conv_ksize, conv_strides, pool_ksize, pool_strides, \n",
    "                                    wieghts_name=\"weights-layer-3\", layer_name=\"hidden-layer-3\", batch_normalizer=batch_normalizer)\n",
    "    \n",
    "    # next layer\n",
    "    conv_ksize = (5, 5)  # output layers dimensions\n",
    "    conv_num_outputs = 64\n",
    "    batch_normalizer = tf.keras.layers.BatchNormalization(trainable=True)\n",
    "    conv_layer = cnn.conv2d_maxpool(conv_layer, conv_num_outputs, conv_ksize, conv_strides, pool_ksize, pool_strides, \n",
    "                                    wieghts_name=\"weights-layer-4\", layer_name=\"hidden-layer-4\", batch_normalizer=batch_normalizer)\n",
    "    \n",
    "    # next layer\n",
    "    conv_ksize = (2, 2)  # output layers dimensions\n",
    "    conv_num_outputs = 128\n",
    "    batch_normalizer = tf.keras.layers.BatchNormalization(trainable=True)\n",
    "    conv_layer = cnn.conv2d_maxpool(conv_layer, conv_num_outputs, conv_ksize, conv_strides, pool_ksize, pool_strides, \n",
    "                                    wieghts_name=\"weights-layer-5\", layer_name=\"hidden-layer-5\", batch_normalizer=batch_normalizer)\n",
    "    \n",
    "    ################################################\n",
    "    # flattenning the layer\n",
    "    x_tensor = cnn.flatten(conv_layer)\n",
    "\n",
    "    # Applying a few fully connected layers\n",
    "    \n",
    "    # x_tensor = tf.layers.batch_normalization(x_tensor)\n",
    "    x_tensor = cnn.fully_conn(x_tensor, 128)\n",
    "    # normalize_batch = tf.keras.layers.BatchNormalization(trainable=True)\n",
    "    # x_tensor = normalize_batch(x_tensor)\n",
    "    x_tensor = tf.nn.dropout(x_tensor, keep_prob)\n",
    "    \n",
    "    x_tensor = cnn.fully_conn(x_tensor, 64)\n",
    "    # normalize_batch = tf.keras.layers.BatchNormalization(trainable=True)\n",
    "    # x_tensor = normalize_batch(x_tensor)\n",
    "    x_tensor = tf.nn.dropout(x_tensor, keep_prob)\n",
    "\n",
    "    # Applying an Output Layer\n",
    "    output_tensor = cnn.output(x_tensor, n_classes)\n",
    "    \n",
    "    return output_tensor\n",
    "\n",
    "\n",
    "##############################\n",
    "## Build the Neural Network ##\n",
    "##############################\n",
    "\n",
    "learning_rate = 1e-4\n",
    "\n",
    "# Remove previous weights, bias, inputs, etc..\n",
    "tf.reset_default_graph()\n",
    "\n",
    "# Inputs\n",
    "x = cnn.neural_net_image_input((target_image_size, target_image_size, 3))\n",
    "y = cnn.neural_net_label_input(n_classes)\n",
    "keep_prob = cnn.neural_net_keep_prob_input()\n",
    "\n",
    "# Model\n",
    "logits = create_conv_net(x, keep_prob, n_classes)\n",
    "\n",
    "# Name logits Tensor, so that is can be loaded from disk after training\n",
    "logits = tf.identity(logits, name=\"logits\")\n",
    "\n",
    "# Loss and Optimizer\n",
    "cost = tf.reduce_mean(tf.nn.softmax_cross_entropy_with_logits_v2(logits=logits, labels=y))\n",
    "optimizer = tf.train.AdamOptimizer(learning_rate=learning_rate).minimize(cost)\n",
    "#optimizer = tf.train.GradientDescentOptimizer(learning_rate=learning_rate).minimize(cost)\n",
    "\n",
    "# Accuracy\n",
    "correct_pred = tf.equal(tf.argmax(logits, 1), tf.argmax(y, 1))\n",
    "accuracy = tf.reduce_mean(tf.cast(correct_pred, tf.float32), name=\"accuracy\")\n",
    "\n",
    "# tests.test_conv_net(conv_net)"
   ]
  },
  {
   "cell_type": "markdown",
   "metadata": {},
   "source": [
    "### Setting up hyper parameters and training on batches"
   ]
  },
  {
   "cell_type": "code",
   "execution_count": null,
   "metadata": {},
   "outputs": [],
   "source": []
  },
  {
   "cell_type": "code",
   "execution_count": 11,
   "metadata": {},
   "outputs": [],
   "source": [
    "epochs = 50\n",
    "batch_size = 512\n",
    "keep_probability = 0.80\n",
    "save_model_path = \"saved-model-01/\""
   ]
  },
  {
   "cell_type": "code",
   "execution_count": null,
   "metadata": {},
   "outputs": [],
   "source": []
  },
  {
   "cell_type": "code",
   "execution_count": 12,
   "metadata": {
    "scrolled": false
   },
   "outputs": [
    {
     "name": "stdout",
     "output_type": "stream",
     "text": [
      "Training... start\n",
      "Epoch  1: Test Cost: 2.4643   ---   Valid Accuracy: 0.3846\n",
      "Epoch  2: Test Cost: 1.1712   ---   Valid Accuracy: 0.6844\n",
      "Epoch  3: Test Cost: 0.6787   ---   Valid Accuracy: 0.7900\n",
      "Epoch  4: Test Cost: 0.5025   ---   Valid Accuracy: 0.8605\n",
      "Epoch  5: Test Cost: 0.4114   ---   Valid Accuracy: 0.8914\n",
      "Epoch  6: Test Cost: 0.3224   ---   Valid Accuracy: 0.9152\n",
      "Epoch  7: Test Cost: 0.2836   ---   Valid Accuracy: 0.9227\n",
      "Epoch  8: Test Cost: 0.2344   ---   Valid Accuracy: 0.9374\n",
      "Epoch  9: Test Cost: 0.2092   ---   Valid Accuracy: 0.9420\n",
      "Epoch 10: Test Cost: 0.1697   ---   Valid Accuracy: 0.9422\n",
      "Epoch 11: Test Cost: 0.1443   ---   Valid Accuracy: 0.9488\n",
      "Epoch 12: Test Cost: 0.1321   ---   Valid Accuracy: 0.9492\n",
      "Epoch 13: Test Cost: 0.1070   ---   Valid Accuracy: 0.9537\n",
      "Epoch 14: Test Cost: 0.1032   ---   Valid Accuracy: 0.9590\n",
      "Epoch 15: Test Cost: 0.0800   ---   Valid Accuracy: 0.9590\n",
      "Epoch 16: Test Cost: 0.0763   ---   Valid Accuracy: 0.9565\n",
      "Epoch 17: Test Cost: 0.0630   ---   Valid Accuracy: 0.9669\n",
      "Epoch 18: Test Cost: 0.0652   ---   Valid Accuracy: 0.9626\n",
      "Epoch 19: Test Cost: 0.0586   ---   Valid Accuracy: 0.9642\n",
      "Epoch 20: Test Cost: 0.0509   ---   Valid Accuracy: 0.9683\n",
      "Epoch 21: Test Cost: 0.0545   ---   Valid Accuracy: 0.9646\n",
      "Epoch 22: Test Cost: 0.0463   ---   Valid Accuracy: 0.9658\n",
      "Epoch 23: Test Cost: 0.0394   ---   Valid Accuracy: 0.9683\n",
      "Epoch 24: Test Cost: 0.0360   ---   Valid Accuracy: 0.9696\n",
      "Epoch 25: Test Cost: 0.0400   ---   Valid Accuracy: 0.9667\n",
      "Epoch 26: Test Cost: 0.0286   ---   Valid Accuracy: 0.9680\n",
      "Epoch 27: Test Cost: 0.0260   ---   Valid Accuracy: 0.9714\n",
      "Epoch 28: Test Cost: 0.0297   ---   Valid Accuracy: 0.9644\n",
      "Epoch 29: Test Cost: 0.0271   ---   Valid Accuracy: 0.9701\n",
      "Epoch 30: Test Cost: 0.0219   ---   Valid Accuracy: 0.9735\n",
      "Epoch 31: Test Cost: 0.0234   ---   Valid Accuracy: 0.9689\n",
      "Epoch 32: Test Cost: 0.0245   ---   Valid Accuracy: 0.9685\n",
      "Epoch 33: Test Cost: 0.0205   ---   Valid Accuracy: 0.9680\n",
      "Epoch 34: Test Cost: 0.0204   ---   Valid Accuracy: 0.9678\n",
      "Epoch 35: Test Cost: 0.0161   ---   Valid Accuracy: 0.9696\n",
      "Epoch 36: Test Cost: 0.0133   ---   Valid Accuracy: 0.9741\n",
      "Epoch 37: Test Cost: 0.0168   ---   Valid Accuracy: 0.9735\n",
      "Epoch 38: Test Cost: 0.0116   ---   Valid Accuracy: 0.9744\n",
      "Epoch 39: Test Cost: 0.0093   ---   Valid Accuracy: 0.9757\n",
      "Epoch 40: Test Cost: 0.0126   ---   Valid Accuracy: 0.9707\n",
      "Epoch 41: Test Cost: 0.0114   ---   Valid Accuracy: 0.9712\n",
      "Epoch 42: Test Cost: 0.0080   ---   Valid Accuracy: 0.9744\n",
      "Epoch 43: Test Cost: 0.0083   ---   Valid Accuracy: 0.9744\n",
      "Epoch 44: Test Cost: 0.0063   ---   Valid Accuracy: 0.9721\n",
      "Epoch 45: Test Cost: 0.0052   ---   Valid Accuracy: 0.9780\n",
      "Epoch 46: Test Cost: 0.0062   ---   Valid Accuracy: 0.9753\n",
      "Epoch 47: Test Cost: 0.0073   ---   Valid Accuracy: 0.9787\n",
      "Epoch 48: Test Cost: 0.0045   ---   Valid Accuracy: 0.9766\n",
      "Epoch 49: Test Cost: 0.0049   ---   Valid Accuracy: 0.9721\n",
      "Epoch 50: Test Cost: 0.0043   ---   Valid Accuracy: 0.9778\n",
      "Training... end\n"
     ]
    }
   ],
   "source": [
    "print(\"Training... start\")\n",
    "\n",
    "with tf.Session() as sess:\n",
    "    # Initializing the variables\n",
    "    sess.run(tf.global_variables_initializer())\n",
    "    \n",
    "    # Training cycle\n",
    "    for epoch in range(epochs):\n",
    "        \n",
    "        batch_index = 0\n",
    "        \n",
    "        # for batch_features, batch_labels in CommonModules.load_preprocess_training_batch(batch_i, batch_size):\n",
    "        for batch_features, batch_labels in cnn.batch_features_labels(random_x_train_data, random_y_train_data, batch_size):\n",
    "            \n",
    "            print(\"batch_index\", batch_index, end=\"\\r\")\n",
    "            batch_index += 1\n",
    "            \n",
    "            cnn.train_neural_network(sess, x, y, keep_prob, optimizer, keep_probability, batch_features, batch_labels)\n",
    "            \n",
    "        cnn.print_stats(sess, x, y, keep_prob, batch_features, batch_labels, x_valid_data, y_valid_data, cost, accuracy, \"Epoch {0:>2}: \".format(epoch + 1))\n",
    "        \n",
    "        if((epoch + 1) % 1 == 0):\n",
    "            print(\"\")\n",
    "    \n",
    "    # Save the Model\n",
    "    saver = tf.train.Saver()\n",
    "    save_path = saver.save(sess, save_model_path)\n",
    "\n",
    "print(\"Training... end\")"
   ]
  },
  {
   "cell_type": "code",
   "execution_count": null,
   "metadata": {},
   "outputs": [],
   "source": []
  },
  {
   "cell_type": "markdown",
   "metadata": {},
   "source": [
    "### Testing the performance \n",
    "\n",
    "- Measuring and plotting ROC - AUC curve of the model  \n",
    "- Visualizing the first five predictions of 10 samples from test data set with the highest softmax scores "
   ]
  },
  {
   "cell_type": "code",
   "execution_count": 74,
   "metadata": {},
   "outputs": [],
   "source": [
    "fpr = {}\n",
    "tpr = {}\n",
    "auc = {}"
   ]
  },
  {
   "cell_type": "code",
   "execution_count": 75,
   "metadata": {
    "scrolled": false
   },
   "outputs": [
    {
     "name": "stdout",
     "output_type": "stream",
     "text": [
      "INFO:tensorflow:Restoring parameters from saved-model-01/\n",
      "Testing Accuracy: 0.947\n",
      "\n"
     ]
    },
    {
     "data": {
      "image/png": "[encoded data removed]",
      "text/plain": [
       "<Figure size 720x432 with 1 Axes>"
      ]
     },
     "metadata": {
      "needs_background": "light"
     },
     "output_type": "display_data"
    },
    {
     "data": {
      "image/png": "[encoded data removed]",
      "text/plain": [
       "<Figure size 864x1080 with 20 Axes>"
      ]
     },
     "metadata": {
      "needs_background": "light"
     },
     "output_type": "display_data"
    }
   ],
   "source": [
    "top_n_predictions = 3\n",
    "\n",
    "def test_model(test_features, test_labels, n_classes, n_samples):\n",
    "    \"\"\"\n",
    "    Test the saved model against the test dataset\n",
    "    \"\"\"\n",
    "\n",
    "    # test_images, test_labels = pickle.load(open('preprocess_test.p', mode='rb'))\n",
    "    loaded_graph = tf.Graph()\n",
    "    # loaded_graph = tf.get_default_graph()\n",
    "\n",
    "    with tf.Session(graph=loaded_graph) as sess:\n",
    "    # with tf.Session() as sess:\n",
    "        # sess.run(tf.global_variables_initializer())\n",
    "        \n",
    "        # Load model\n",
    "        loader = tf.train.import_meta_graph(save_model_path + \".meta\")\n",
    "        loader.restore(sess, save_model_path)\n",
    "\n",
    "        # Get Tensors from loaded model\n",
    "        loaded_x = loaded_graph.get_tensor_by_name(\"x:0\")\n",
    "        loaded_y = loaded_graph.get_tensor_by_name(\"y:0\")\n",
    "        loaded_keep_prob = loaded_graph.get_tensor_by_name(\"keep_prob:0\")\n",
    "        loaded_logits = loaded_graph.get_tensor_by_name(\"logits:0\")\n",
    "        loaded_acc = loaded_graph.get_tensor_by_name(\"accuracy:0\")\n",
    "        \n",
    "        # sess.run(tf.global_variables_initializer())\n",
    "        \n",
    "        # loaded_y = tf.expand_dims(loaded_y, 1)\n",
    "        \n",
    "        # Get accuracy in batches for memory limitations\n",
    "        test_batch_acc_total = 0\n",
    "        test_batch_count = 0\n",
    "        \n",
    "        for test_feature_batch, test_label_batch in cnn.batch_features_labels(test_features, test_labels, batch_size):\n",
    "            test_batch_acc_total += sess.run(\n",
    "                loaded_acc,\n",
    "                feed_dict={loaded_x: test_feature_batch, loaded_y: test_label_batch, loaded_keep_prob: 1.0})\n",
    "            \n",
    "            test_batch_count += 1\n",
    "            \n",
    "        print(\"Testing Accuracy: {0:0.3f}\\n\".format(test_batch_acc_total/test_batch_count))\n",
    "\n",
    "        # ROC\n",
    "        #all_test_predictions = sess.run(tf.nn.top_k(tf.nn.softmax(loaded_logits), label_categories_count), \n",
    "        #                                            feed_dict={loaded_x: test_features, loaded_y: test_labels, loaded_keep_prob: 1.0})\n",
    "        \n",
    "        all_test_predictions = sess.run(tf.nn.softmax(loaded_logits), \n",
    "                                        feed_dict={loaded_x: test_features, loaded_y: test_labels, loaded_keep_prob: 1.0})\n",
    "\n",
    "        predicted_y_probabilities = (all_test_predictions / all_test_predictions.sum(axis=0, keepdims=1))[::, 0]\n",
    "\n",
    "        #print(\"all_test_predictions\", all_test_predictions[:10])\n",
    "        #print(\"y_pred_proba\", y_pred_proba[:10])\n",
    "\n",
    "        #y_pred = all_test_predictions[1][::, 0]\n",
    "        #y_pred_proba = (all_test_predictions[0] / all_test_predictions[0].sum(axis=0, keepdims=1))[::, 0]\n",
    "        \n",
    "        # print(\"y_pred_proba\", y_pred_proba)\n",
    "        \n",
    "        fpr[\"model-a\"], tpr[\"model-a\"], auc[\"model-a\"] = cnn.plot_roc_curve(test_labels[::, 0], predicted_y_probabilities, \n",
    "                                                                            title=\"Model-2\", legend_title=\"Model-2, auc\")\n",
    "        \n",
    "        # Print Random Samples\n",
    "        random_test_features, random_test_labels = tuple(zip(*random.sample(list(zip(test_features, test_labels)), n_samples)))\n",
    "        \n",
    "        # random_test_predictions = sess.run(tf.nn.softmax(loaded_logits),\n",
    "        #                                   feed_dict={loaded_x: random_test_features, loaded_y: random_test_labels, loaded_keep_prob: 1.0})\n",
    "        \n",
    "        #random_test_predictions = sess.run(tf.nn.top_k(random_test_predictions, label_categories_count))\n",
    "\n",
    "        random_test_predictions = sess.run(tf.nn.top_k(tf.nn.softmax(loaded_logits), n_classes), \n",
    "                                                       feed_dict={loaded_x: random_test_features, loaded_y: random_test_labels, \n",
    "                                                                  loaded_keep_prob: 1.0})\n",
    "        \n",
    "        # print(\"random_test_predictions\", random_test_predictions.values[0])\n",
    "        # print(\"random_test_labels\", np.asanyarray(random_test_labels).shape)\n",
    "        # print(\"random_test_labels\", cnn.lb.inverse_transform(np.asanyarray(random_test_labels)))\n",
    "        \n",
    "        # random_test_predictions = sess.run(\n",
    "        #  tf.nn.top_k(tf.nn.softmax(loaded_logits), top_n_predictions),\n",
    "        #  feed_dict={loaded_x: random_test_features, loaded_y: random_test_labels, loaded_keep_prob: 1.0})\n",
    "        cnn.display_image_predictions(random_test_features, random_test_labels, random_test_predictions, max_top_count=5)\n",
    "        \n",
    "    return (random_test_features, random_test_labels, random_test_predictions)\n",
    "        \n",
    "tested_features, tested_labels, tested_predictions = test_model(x_test_data, y_test_data, n_classes, n_samples=10)"
   ]
  },
  {
   "cell_type": "code",
   "execution_count": null,
   "metadata": {},
   "outputs": [],
   "source": []
  },
  {
   "cell_type": "code",
   "execution_count": null,
   "metadata": {
    "scrolled": true
   },
   "outputs": [],
   "source": []
  },
  {
   "cell_type": "code",
   "execution_count": null,
   "metadata": {},
   "outputs": [],
   "source": []
  },
  {
   "cell_type": "code",
   "execution_count": null,
   "metadata": {},
   "outputs": [],
   "source": []
  },
  {
   "cell_type": "code",
   "execution_count": null,
   "metadata": {},
   "outputs": [],
   "source": []
  },
  {
   "cell_type": "code",
   "execution_count": null,
   "metadata": {},
   "outputs": [],
   "source": []
  },
  {
   "cell_type": "code",
   "execution_count": null,
   "metadata": {},
   "outputs": [],
   "source": []
  },
  {
   "cell_type": "code",
   "execution_count": null,
   "metadata": {},
   "outputs": [],
   "source": []
  },
  {
   "cell_type": "code",
   "execution_count": null,
   "metadata": {},
   "outputs": [],
   "source": []
  },
  {
   "cell_type": "code",
   "execution_count": null,
   "metadata": {},
   "outputs": [],
   "source": []
  },
  {
   "cell_type": "code",
   "execution_count": null,
   "metadata": {},
   "outputs": [],
   "source": []
  },
  {
   "cell_type": "code",
   "execution_count": null,
   "metadata": {},
   "outputs": [],
   "source": []
  },
  {
   "cell_type": "code",
   "execution_count": null,
   "metadata": {},
   "outputs": [],
   "source": []
  },
  {
   "cell_type": "code",
   "execution_count": null,
   "metadata": {},
   "outputs": [],
   "source": []
  },
  {
   "cell_type": "markdown",
   "metadata": {},
   "source": [
    "----\n",
    "\n",
    "## Design and Test a Model Architecture\n"
   ]
  },
  {
   "cell_type": "markdown",
   "metadata": {},
   "source": [
    "### Pre-process the Data Set (normalization, grayscale, etc.)"
   ]
  },
  {
   "cell_type": "markdown",
   "metadata": {},
   "source": [
    "Minimally, the image data should be normalized so that the data has mean zero and equal variance. For image data, `(pixel - 128)/ 128` is a quick way to approximately normalize the data and can be used in this project. \n",
    "\n",
    "Other pre-processing steps are optional. You can try different techniques to see if it improves performance. \n",
    "\n",
    "Use the code cell (or multiple code cells, if necessary) to implement the first step of your project."
   ]
  },
  {
   "cell_type": "code",
   "execution_count": 4,
   "metadata": {
    "collapsed": true
   },
   "outputs": [],
   "source": [
    "### Preprocess the data here. It is required to normalize the data. Other preprocessing steps could include \n",
    "### converting to grayscale, etc.\n",
    "### Feel free to use as many code cells as needed."
   ]
  },
  {
   "cell_type": "markdown",
   "metadata": {},
   "source": [
    "### Model Architecture"
   ]
  },
  {
   "cell_type": "code",
   "execution_count": null,
   "metadata": {
    "collapsed": true
   },
   "outputs": [],
   "source": [
    "### Define your architecture here.\n",
    "### Feel free to use as many code cells as needed."
   ]
  },
  {
   "cell_type": "markdown",
   "metadata": {},
   "source": [
    "### Train, Validate and Test the Model"
   ]
  },
  {
   "cell_type": "markdown",
   "metadata": {},
   "source": [
    "A validation set can be used to assess how well the model is performing. A low accuracy on the training and validation\n",
    "sets imply underfitting. A high accuracy on the training set but low accuracy on the validation set implies overfitting."
   ]
  },
  {
   "cell_type": "code",
   "execution_count": 1,
   "metadata": {
    "collapsed": true
   },
   "outputs": [],
   "source": [
    "### Train your model here.\n",
    "### Calculate and report the accuracy on the training and validation set.\n",
    "### Once a final model architecture is selected, \n",
    "### the accuracy on the test set should be calculated and reported as well.\n",
    "### Feel free to use as many code cells as needed."
   ]
  },
  {
   "cell_type": "markdown",
   "metadata": {},
   "source": [
    "---\n",
    "\n",
    "## Step 3: Test a Model on New Images\n",
    "\n",
    "To give yourself more insight into how your model is working, download at least five pictures of German traffic signs from the web and use your model to predict the traffic sign type.\n",
    "\n",
    "You may find `signnames.csv` useful as it contains mappings from the class id (integer) to the actual sign name."
   ]
  },
  {
   "cell_type": "markdown",
   "metadata": {},
   "source": [
    "### Load and Output the Images"
   ]
  },
  {
   "cell_type": "code",
   "execution_count": null,
   "metadata": {
    "collapsed": true
   },
   "outputs": [],
   "source": [
    "### Load the images and plot them here.\n",
    "### Feel free to use as many code cells as needed."
   ]
  },
  {
   "cell_type": "markdown",
   "metadata": {},
   "source": [
    "### Predict the Sign Type for Each Image"
   ]
  },
  {
   "cell_type": "code",
   "execution_count": 3,
   "metadata": {
    "collapsed": true
   },
   "outputs": [],
   "source": [
    "### Run the predictions here and use the model to output the prediction for each image.\n",
    "### Make sure to pre-process the images with the same pre-processing pipeline used earlier.\n",
    "### Feel free to use as many code cells as needed."
   ]
  },
  {
   "cell_type": "markdown",
   "metadata": {},
   "source": [
    "### Analyze Performance"
   ]
  },
  {
   "cell_type": "code",
   "execution_count": 4,
   "metadata": {
    "collapsed": true
   },
   "outputs": [],
   "source": [
    "### Calculate the accuracy for these 5 new images. \n",
    "### For example, if the model predicted 1 out of 5 signs correctly, it's 20% accurate on these new images."
   ]
  },
  {
   "cell_type": "markdown",
   "metadata": {},
   "source": [
    "### Output Top 5 Softmax Probabilities For Each Image Found on the Web"
   ]
  },
  {
   "cell_type": "markdown",
   "metadata": {},
   "source": [
    "For each of the new images, print out the model's softmax probabilities to show the **certainty** of the model's predictions (limit the output to the top 5 probabilities for each image). [`tf.nn.top_k`](https://www.tensorflow.org/versions/r0.12/api_docs/python/nn.html#top_k) could prove helpful here. \n",
    "\n",
    "The example below demonstrates how tf.nn.top_k can be used to find the top k predictions for each image.\n",
    "\n",
    "`tf.nn.top_k` will return the values and indices (class ids) of the top k predictions. So if k=3, for each sign, it'll return the 3 largest probabilities (out of a possible 43) and the correspoding class ids.\n",
    "\n",
    "Take this numpy array as an example. The values in the array represent predictions. The array contains softmax probabilities for five candidate images with six possible classes. `tf.nn.top_k` is used to choose the three classes with the highest probability:\n",
    "\n",
    "```\n",
    "# (5, 6) array\n",
    "a = np.array([[ 0.24879643,  0.07032244,  0.12641572,  0.34763842,  0.07893497,\n",
    "         0.12789202],\n",
    "       [ 0.28086119,  0.27569815,  0.08594638,  0.0178669 ,  0.18063401,\n",
    "         0.15899337],\n",
    "       [ 0.26076848,  0.23664738,  0.08020603,  0.07001922,  0.1134371 ,\n",
    "         0.23892179],\n",
    "       [ 0.11943333,  0.29198961,  0.02605103,  0.26234032,  0.1351348 ,\n",
    "         0.16505091],\n",
    "       [ 0.09561176,  0.34396535,  0.0643941 ,  0.16240774,  0.24206137,\n",
    "         0.09155967]])\n",
    "```\n",
    "\n",
    "Running it through `sess.run(tf.nn.top_k(tf.constant(a), k=3))` produces:\n",
    "\n",
    "```\n",
    "TopKV2(values=array([[ 0.34763842,  0.24879643,  0.12789202],\n",
    "       [ 0.28086119,  0.27569815,  0.18063401],\n",
    "       [ 0.26076848,  0.23892179,  0.23664738],\n",
    "       [ 0.29198961,  0.26234032,  0.16505091],\n",
    "       [ 0.34396535,  0.24206137,  0.16240774]]), indices=array([[3, 0, 5],\n",
    "       [0, 1, 4],\n",
    "       [0, 5, 1],\n",
    "       [1, 3, 5],\n",
    "       [1, 4, 3]], dtype=int32))\n",
    "```\n",
    "\n",
    "Looking just at the first row we get `[ 0.34763842,  0.24879643,  0.12789202]`, you can confirm these are the 3 largest probabilities in `a`. You'll also notice `[3, 0, 5]` are the corresponding indices."
   ]
  },
  {
   "cell_type": "code",
   "execution_count": 3,
   "metadata": {
    "collapsed": true
   },
   "outputs": [],
   "source": [
    "### Print out the top five softmax probabilities for the predictions on the German traffic sign images found on the web. \n",
    "### Feel free to use as many code cells as needed."
   ]
  },
  {
   "cell_type": "markdown",
   "metadata": {},
   "source": [
    "### Project Writeup\n",
    "\n",
    "Once you have completed the code implementation, document your results in a project writeup using this [template](https://github.com/udacity/CarND-Traffic-Sign-Classifier-Project/blob/master/writeup_template.md) as a guide. The writeup can be in a markdown or pdf file. "
   ]
  },
  {
   "cell_type": "markdown",
   "metadata": {},
   "source": [
    "> **Note**: Once you have completed all of the code implementations and successfully answered each question above, you may finalize your work by exporting the iPython Notebook as an HTML document. You can do this by using the menu above and navigating to  \\n\",\n",
    "    \"**File -> Download as -> HTML (.html)**. Include the finished document along with this notebook as your submission."
   ]
  },
  {
   "cell_type": "markdown",
   "metadata": {},
   "source": [
    "---\n",
    "\n",
    "## Step 4 (Optional): Visualize the Neural Network's State with Test Images\n",
    "\n",
    " This Section is not required to complete but acts as an additional excersise for understaning the output of a neural network's weights. While neural networks can be a great learning device they are often referred to as a black box. We can understand what the weights of a neural network look like better by plotting their feature maps. After successfully training your neural network you can see what it's feature maps look like by plotting the output of the network's weight layers in response to a test stimuli image. From these plotted feature maps, it's possible to see what characteristics of an image the network finds interesting. For a sign, maybe the inner network feature maps react with high activation to the sign's boundary outline or to the contrast in the sign's painted symbol.\n",
    "\n",
    " Provided for you below is the function code that allows you to get the visualization output of any tensorflow weight layer you want. The inputs to the function should be a stimuli image, one used during training or a new one you provided, and then the tensorflow variable name that represents the layer's state during the training process, for instance if you wanted to see what the [LeNet lab's](https://classroom.udacity.com/nanodegrees/nd013/parts/fbf77062-5703-404e-b60c-95b78b2f3f9e/modules/6df7ae49-c61c-4bb2-a23e-6527e69209ec/lessons/601ae704-1035-4287-8b11-e2c2716217ad/concepts/d4aca031-508f-4e0b-b493-e7b706120f81) feature maps looked like for it's second convolutional layer you could enter conv2 as the tf_activation variable.\n",
    "\n",
    "For an example of what feature map outputs look like, check out NVIDIA's results in their paper [End-to-End Deep Learning for Self-Driving Cars](https://devblogs.nvidia.com/parallelforall/deep-learning-self-driving-cars/) in the section Visualization of internal CNN State. NVIDIA was able to show that their network's inner weights had high activations to road boundary lines by comparing feature maps from an image with a clear path to one without. Try experimenting with a similar test to show that your trained network's weights are looking for interesting features, whether it's looking at differences in feature maps from images with or without a sign, or even what feature maps look like in a trained network vs a completely untrained one on the same sign image.\n",
    "\n",
    "<figure>\n",
    " <img src=\"visualize_cnn.png\" width=\"380\" alt=\"Combined Image\" />\n",
    " <figcaption>\n",
    " <p></p> \n",
    " <p style=\"text-align: center;\"> Your output should look something like this (above)</p> \n",
    " </figcaption>\n",
    "</figure>\n",
    " <p></p> \n"
   ]
  },
  {
   "cell_type": "code",
   "execution_count": null,
   "metadata": {
    "collapsed": true
   },
   "outputs": [],
   "source": [
    "### Visualize your network's feature maps here.\n",
    "### Feel free to use as many code cells as needed.\n",
    "\n",
    "# image_input: the test image being fed into the network to produce the feature maps\n",
    "# tf_activation: should be a tf variable name used during your training procedure that represents the calculated state of a specific weight layer\n",
    "# activation_min/max: can be used to view the activation contrast in more detail, by default matplot sets min and max to the actual min and max values of the output\n",
    "# plt_num: used to plot out multiple different weight feature map sets on the same block, just extend the plt number for each new feature map entry\n",
    "\n",
    "def outputFeatureMap(image_input, tf_activation, activation_min=-1, activation_max=-1 ,plt_num=1):\n",
    "    # Here make sure to preprocess your image_input in a way your network expects\n",
    "    # with size, normalization, ect if needed\n",
    "    # image_input =\n",
    "    # Note: x should be the same name as your network's tensorflow data placeholder variable\n",
    "    # If you get an error tf_activation is not defined it may be having trouble accessing the variable from inside a function\n",
    "    activation = tf_activation.eval(session=sess,feed_dict={x : image_input})\n",
    "    featuremaps = activation.shape[3]\n",
    "    plt.figure(plt_num, figsize=(15,15))\n",
    "    for featuremap in range(featuremaps):\n",
    "        plt.subplot(6,8, featuremap+1) # sets the number of feature maps to show on each row and column\n",
    "        plt.title('FeatureMap ' + str(featuremap)) # displays the feature map number\n",
    "        if activation_min != -1 & activation_max != -1:\n",
    "            plt.imshow(activation[0,:,:, featuremap], interpolation=\"nearest\", vmin =activation_min, vmax=activation_max, cmap=\"gray\")\n",
    "        elif activation_max != -1:\n",
    "            plt.imshow(activation[0,:,:, featuremap], interpolation=\"nearest\", vmax=activation_max, cmap=\"gray\")\n",
    "        elif activation_min !=-1:\n",
    "            plt.imshow(activation[0,:,:, featuremap], interpolation=\"nearest\", vmin=activation_min, cmap=\"gray\")\n",
    "        else:\n",
    "            plt.imshow(activation[0,:,:, featuremap], interpolation=\"nearest\", cmap=\"gray\")"
   ]
  },
  {
   "cell_type": "code",
   "execution_count": null,
   "metadata": {},
   "outputs": [],
   "source": []
  },
  {
   "cell_type": "markdown",
   "metadata": {},
   "source": [
    "## Building a Traffic Sign Recognition Classifier, Deep Learning Approach \n",
    "\n",
    "In this notebook, a template is provided for you to implement your functionality in stages, which is required to successfully complete this project. If additional code is required that cannot be included in the notebook, be sure that the Python code is successfully imported and included in your submission if necessary. \n",
    "\n",
    "> **Note**: Once you have completed all of the code implementations, you need to finalize your work by exporting the iPython Notebook as an HTML document. Before exporting the notebook to html, all of the code cells need to have been run so that reviewers can see the final implementation and output. You can then export the notebook by using the menu above and navigating to  \\n\",\n",
    "    \"**File -> Download as -> HTML (.html)**. Include the finished document along with this notebook as your submission. \n",
    "\n",
    "In addition to implementing code, there is a writeup to complete. The writeup should be completed in a separate file, which can be either a markdown file or a pdf document. There is a [write up template](https://github.com/udacity/CarND-Traffic-Sign-Classifier-Project/blob/master/writeup_template.md) that can be used to guide the writing process. Completing the code template and writeup template will cover all of the [rubric points](https://review.udacity.com/#!/rubrics/481/view) for this project.\n",
    "\n",
    "The [rubric](https://review.udacity.com/#!/rubrics/481/view) contains \"Stand Out Suggestions\" for enhancing the project beyond the minimum requirements. The stand out suggestions are optional. If you decide to pursue the \"stand out suggestions\", you can include the code in this Ipython notebook and also discuss the results in the writeup file.\n",
    "\n",
    "\n",
    ">**Note:** Code and Markdown cells can be executed using the **Shift + Enter** keyboard shortcut. In addition, Markdown cells can be edited by typically double-clicking the cell to enter edit mode."
   ]
  },
  {
   "cell_type": "markdown",
   "metadata": {},
   "source": [
    "Visualize the German Traffic Signs Dataset using the pickled file(s). This is open ended, suggestions include: plotting traffic sign images, plotting the count of each sign, etc. \n",
    "\n",
    "The [Matplotlib](http://matplotlib.org/) [examples](http://matplotlib.org/examples/index.html) and [gallery](http://matplotlib.org/gallery.html) pages are a great resource for doing visualizations in Python.\n",
    "\n",
    "**NOTE:** It's recommended you start with something simple first. If you wish to do more, come back to it after you've completed the rest of the sections. It can be interesting to look at the distribution of classes in the training, validation and test set. Is the distribution the same? Are there more examples of some classes than others?"
   ]
  },
  {
   "cell_type": "markdown",
   "metadata": {},
   "source": [
    "----\n",
    "\n",
    "## Design and Test a Model Architecture\n",
    "\n",
    "Design and implement a deep learning model that learns to recognize traffic signs. Train and test your model on the [German Traffic Sign Dataset](http://benchmark.ini.rub.de/?section=gtsrb&subsection=dataset).\n",
    "\n",
    "The LeNet-5 implementation shown in the [classroom](https://classroom.udacity.com/nanodegrees/nd013/parts/fbf77062-5703-404e-b60c-95b78b2f3f9e/modules/6df7ae49-c61c-4bb2-a23e-6527e69209ec/lessons/601ae704-1035-4287-8b11-e2c2716217ad/concepts/d4aca031-508f-4e0b-b493-e7b706120f81) at the end of the CNN lesson is a solid starting point. You'll have to change the number of classes and possibly the preprocessing, but aside from that it's plug and play! \n",
    "\n",
    "With the LeNet-5 solution from the lecture, you should expect a validation set accuracy of about 0.89. To meet specifications, the validation set accuracy will need to be at least 0.93. It is possible to get an even higher accuracy, but 0.93 is the minimum for a successful project submission. \n",
    "\n",
    "There are various aspects to consider when thinking about this problem:\n",
    "\n",
    "- Neural network architecture (is the network over or underfitting?)\n",
    "- Play around preprocessing techniques (normalization, rgb to grayscale, etc)\n",
    "- Number of examples per label (some have more than others).\n",
    "- Generate fake data.\n",
    "\n",
    "Here is an example of a [published baseline model on this problem](http://yann.lecun.com/exdb/publis/pdf/sermanet-ijcnn-11.pdf). It's not required to be familiar with the approach used in the paper but, it's good practice to try to read papers like these."
   ]
  },
  {
   "cell_type": "code",
   "execution_count": null,
   "metadata": {},
   "outputs": [],
   "source": []
  },
  {
   "cell_type": "code",
   "execution_count": null,
   "metadata": {},
   "outputs": [],
   "source": []
  }
 ],
 "metadata": {
  "anaconda-cloud": {},
  "kernelspec": {
   "display_name": "Python 3",
   "language": "python",
   "name": "python3"
  },
  "language_info": {
   "codemirror_mode": {
    "name": "ipython",
    "version": 3
   },
   "file_extension": ".py",
   "mimetype": "text/x-python",
   "name": "python",
   "nbconvert_exporter": "python",
   "pygments_lexer": "ipython3",
   "version": "3.7.3"
  }
 },
 "nbformat": 4,
 "nbformat_minor": 1
}
