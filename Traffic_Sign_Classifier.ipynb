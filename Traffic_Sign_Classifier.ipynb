{
 "cells": [
  {
   "cell_type": "code",
   "execution_count": 1,
   "metadata": {},
   "outputs": [
    {
     "data": {
      "text/html": [
       "<style>.container { width:80% !important; }</style>"
      ],
      "text/plain": [
       "<IPython.core.display.HTML object>"
      ]
     },
     "metadata": {},
     "output_type": "display_data"
    }
   ],
   "source": [
    "from IPython.core.display import display, HTML\n",
    "display(HTML(\"<style>.container { width:80% !important; }</style>\"))"
   ]
  },
  {
   "cell_type": "markdown",
   "metadata": {},
   "source": [
    "## Building a Traffic Sign Recognition Classifier, Deep Learning Approach \n",
    "\n",
    "### Loading the Data \n",
    "\n",
    "> **Note**: In this project, I use deep neural networks and convolutional neural networks to classify traffic signsusing traffic signs from the [German Traffic Sign Dataset](http://benchmark.ini.rub.de/?section=gtsrb&subsection=dataset). "
   ]
  },
  {
   "cell_type": "code",
   "execution_count": 1,
   "metadata": {},
   "outputs": [
    {
     "name": "stderr",
     "output_type": "stream",
     "text": [
      "Using TensorFlow backend.\n"
     ]
    }
   ],
   "source": [
    "# Load pickled data\n",
    "import pickle\n",
    "\n",
    "import pandas as pd\n",
    "import cv2\n",
    "import numpy as np\n",
    "from sklearn import preprocessing\n",
    "import os\n",
    "from random import shuffle\n",
    "import glob\n",
    "from pathlib import Path\n",
    "import tensorflow as tf\n",
    "import matplotlib.pyplot as plt\n",
    "import math\n",
    "\n",
    "from keras.layers import Input, InputLayer, Dense, Activation, ZeroPadding2D, BatchNormalization, Flatten, Conv2D\n",
    "from keras.layers import AveragePooling2D, MaxPooling2D, Dropout\n",
    "from keras.models import Sequential,Model\n",
    "from keras.optimizers import SGD\n",
    "from keras.callbacks import ModelCheckpoint, LearningRateScheduler\n",
    "import keras\n",
    "from keras import backend as K"
   ]
  },
  {
   "cell_type": "code",
   "execution_count": 2,
   "metadata": {},
   "outputs": [],
   "source": [
    "training_file = \"traffic-signs-data/train.p\"\n",
    "validation_file = \"traffic-signs-data/valid.p\"\n",
    "testing_file = \"traffic-signs-data/test.p\"\n",
    "\n",
    "csv_features_file = \"signnames.csv\"\n",
    "\n",
    "with open(training_file, mode=\"rb\") as f:\n",
    "    train_data = pickle.load(f)\n",
    "with open(validation_file, mode=\"rb\") as f:\n",
    "    valid_data = pickle.load(f)\n",
    "with open(testing_file, mode=\"rb\") as f:\n",
    "    test_data = pickle.load(f)\n",
    "\n",
    "features_df = pd.read_csv(csv_features_file)\n",
    "unique_label_ids = [row[\"ClassId\"] for _, row in features_df.iterrows()]\n",
    "unique_label_names = [row[\"SignName\"] for _, row in features_df.iterrows()]"
   ]
  },
  {
   "cell_type": "markdown",
   "metadata": {},
   "source": [
    "### Dataset Summary & Exploration\n",
    "\n",
    "The pickled data is a dictionary with 4 key/value pairs:\n",
    "\n",
    "- `'features'` is a 4D array containing raw pixel data of the traffic sign images, (num examples, width, height, channels).\n",
    "- `'labels'` is a 1D array containing the label/class id of the traffic sign. The file `signnames.csv` contains id -> name mappings for each id.\n",
    "- `'sizes'` is a list containing tuples, (width, height) representing the original width and height the image.\n",
    "- `'coords'` is a list containing tuples, (x1, y1, x2, y2) representing coordinates of a bounding box around the sign in the image. **THESE COORDINATES ASSUME THE ORIGINAL IMAGE. THE PICKLED DATA CONTAINS RESIZED VERSIONS (32 by 32) OF THESE IMAGES**\n"
   ]
  },
  {
   "cell_type": "code",
   "execution_count": null,
   "metadata": {},
   "outputs": [],
   "source": []
  },
  {
   "cell_type": "code",
   "execution_count": 3,
   "metadata": {},
   "outputs": [],
   "source": [
    "x_train_raw_data, y_train_raw_data = train_data[\"features\"], train_data[\"labels\"]\n",
    "x_valid_raw_data, y_valid_raw_data = valid_data[\"features\"], valid_data[\"labels\"]\n",
    "x_test_raw_data, y_test_raw_data = test_data[\"features\"], test_data[\"labels\"]\n",
    "\n",
    "# in case resizing is required - not used in this pipeline\n",
    "target_image_size = 32"
   ]
  },
  {
   "cell_type": "code",
   "execution_count": 4,
   "metadata": {},
   "outputs": [
    {
     "name": "stdout",
     "output_type": "stream",
     "text": [
      "Number of training examples = 34799\n",
      "Number of testing examples = 12630\n",
      "Image data shape = (32, 32, 3)\n",
      "Number of classes = 43\n"
     ]
    }
   ],
   "source": [
    "n_train = x_train_raw_data.shape[0]\n",
    "n_validation = x_valid_raw_data.shape[0]\n",
    "n_test = x_test_raw_data.shape[0]\n",
    "\n",
    "# shape of an traffic sign image\n",
    "image_shape = x_train_raw_data.shape[1:4]\n",
    "\n",
    "# unique classes/labels there are in the dataset\n",
    "assert np.array_equal(np.sort(np.unique(y_train_raw_data)), np.sort(np.asarray(unique_label_ids))), \\\n",
    "    \"There is a mismatch in the training data\"\n",
    "\n",
    "n_classes = len(unique_label_ids)\n",
    "\n",
    "print(\"Number of training examples =\", n_train)\n",
    "print(\"Number of testing examples =\", n_test)\n",
    "print(\"Image data shape =\", image_shape)\n",
    "print(\"Number of classes =\", n_classes)"
   ]
  },
  {
   "cell_type": "code",
   "execution_count": 5,
   "metadata": {},
   "outputs": [],
   "source": [
    "import random\n",
    "\n",
    "from importlib import reload\n",
    "import classificationModules\n",
    "reload(classificationModules)\n",
    "from classificationModules import Cnn\n",
    "\n",
    "cnn = Cnn()\n",
    "cnn.init_model(unique_label_names, unique_label_ids)\n",
    "\n",
    "x_train_data, y_train_data = cnn.normalize(x_train_raw_data), cnn.one_hot_encode(y_train_raw_data)\n",
    "x_valid_data, y_valid_data = cnn.normalize(x_valid_raw_data), cnn.one_hot_encode(y_valid_raw_data)\n",
    "x_test_data, y_test_data = cnn.normalize(x_test_raw_data), cnn.one_hot_encode(y_test_raw_data)\n",
    "\n",
    "labelled_data = list(zip(x_train_data, y_train_data))\n",
    "random.shuffle(labelled_data)\n",
    "random_x_train_data, random_y_train_data = zip(*labelled_data)\n",
    "\n",
    "random_x_train_data = list(random_x_train_data)\n",
    "random_y_train_data = list(random_y_train_data)\n",
    "\n",
    "#print(random_y_train_data[0])\n",
    "#print(random_x_train_data[0].shape)\n",
    "#plt.imshow(random_x_train_data[0])"
   ]
  },
  {
   "cell_type": "code",
   "execution_count": null,
   "metadata": {},
   "outputs": [],
   "source": []
  },
  {
   "cell_type": "markdown",
   "metadata": {},
   "source": [
    "### Exploring and visualizing the dataset"
   ]
  },
  {
   "cell_type": "code",
   "execution_count": null,
   "metadata": {},
   "outputs": [],
   "source": []
  },
  {
   "cell_type": "code",
   "execution_count": 6,
   "metadata": {},
   "outputs": [],
   "source": [
    "%matplotlib inline\n",
    "\n",
    "# cnn.display_images(x_test_data[:5], y_test_raw_data[:5], normalized=True)"
   ]
  },
  {
   "cell_type": "markdown",
   "metadata": {},
   "source": [
    "### Model Architecture"
   ]
  },
  {
   "cell_type": "code",
   "execution_count": 42,
   "metadata": {},
   "outputs": [
    {
     "name": "stdout",
     "output_type": "stream",
     "text": [
      "conv2d_maxpool... Start\n",
      "Checking inputs dimensions...\n",
      "conv_ksize: (3, 3)\n",
      "conv_num_outputs: 64\n",
      "Checking strides dimensions...\n",
      "conv_strides: (1, 1, 1, 1)\n",
      "pool_ksize: (1, 2, 2, 1)\n",
      "pool_strides (1, 1, 1, 1)\n",
      "conv2d_maxpool... End\n",
      "\n",
      "conv2d_maxpool... Start\n",
      "Checking inputs dimensions...\n",
      "conv_ksize: (3, 3)\n",
      "conv_num_outputs: 64\n",
      "Checking strides dimensions...\n",
      "conv_strides: (1, 1, 1, 1)\n",
      "pool_ksize: (1, 2, 2, 1)\n",
      "pool_strides (1, 1, 1, 1)\n",
      "conv2d_maxpool... End\n",
      "\n",
      "conv2d_maxpool... Start\n",
      "Checking inputs dimensions...\n",
      "conv_ksize: (3, 3)\n",
      "conv_num_outputs: 32\n",
      "Checking strides dimensions...\n",
      "conv_strides: (1, 1, 1, 1)\n",
      "pool_ksize: (1, 2, 2, 1)\n",
      "pool_strides (1, 1, 1, 1)\n",
      "conv2d_maxpool... End\n",
      "\n"
     ]
    }
   ],
   "source": [
    "def create_conv_net(x, keep_prob, n_classes):\n",
    "    \"\"\"\n",
    "    Create a convolutional neural network model\n",
    "    : x: Placeholder tensor that holds image data - normalized image \n",
    "    : keep_prob: Placeholder tensor that hold dropout keep probability \n",
    "    : return: Tensor that represents logits\n",
    "    \"\"\"\n",
    "    # Applying a few Convolution and Max Pool layers\n",
    "    \n",
    "    conv_ksize = (3, 3)  # filter dimensions\n",
    "    # conv_ksize = (3, 3)  # filter dimensions\n",
    "    conv_strides = (1, 1)\n",
    "    pool_ksize = (2, 2)  # Filter kernel/patch dimensions [batch, height, width, channels]\n",
    "    pool_strides = (1, 1)\n",
    "    \n",
    "    #conv_layer = conv2d_maxpool(x, conv_num_outputs, conv_ksize, conv_strides, pool_ksize, pool_strides)\n",
    "    conv_num_outputs = 64  # D_out : number of out filters\n",
    "    conv_layer = cnn.conv2d_maxpool(x, conv_num_outputs, conv_ksize, conv_strides, pool_ksize, pool_strides, \n",
    "                                    wieghts_name=\"weights-layer-1\", layer_name=\"hidden-layer-1\")\n",
    "    normalize_batch = tf.keras.layers.BatchNormalization(trainable=True)\n",
    "    conv_layer = normalize_batch(conv_layer)\n",
    "    \n",
    "    # next layer\n",
    "    conv_ksize = (3, 3)  # output layers dimensions\n",
    "    conv_num_outputs = 64\n",
    "    conv_layer = cnn.conv2d_maxpool(x, conv_num_outputs, conv_ksize, conv_strides, pool_ksize, pool_strides, \n",
    "                                    wieghts_name=\"weights-layer-2\", layer_name=\"hidden-layer-2\")\n",
    "    normalize_batch = tf.keras.layers.BatchNormalization(trainable=True)\n",
    "    conv_layer = normalize_batch(conv_layer)\n",
    "    \n",
    "    # next layer\n",
    "    conv_ksize = (3, 3)  # output layers dimensions\n",
    "    conv_num_outputs = 32\n",
    "    conv_layer = cnn.conv2d_maxpool(x, conv_num_outputs, conv_ksize, conv_strides, pool_ksize, pool_strides, \n",
    "                                    wieghts_name=\"weights-layer-3\", layer_name=\"hidden-layer-3\")\n",
    "    normalize_batch = tf.keras.layers.BatchNormalization(trainable=True)\n",
    "    conv_layer = normalize_batch(conv_layer)\n",
    "    \n",
    "    ################################################\n",
    "    # flattenning the layer\n",
    "    x_tensor = cnn.flatten(x)\n",
    "\n",
    "    # Applying a few fully connected layers\n",
    "    \n",
    "    # x_tensor = tf.layers.batch_normalization(x_tensor)\n",
    "    x_tensor = cnn.fully_conn(x_tensor, 128)\n",
    "    # normalize_batch = tf.keras.layers.BatchNormalization(trainable=True)\n",
    "    # x_tensor = normalize_batch(x_tensor)\n",
    "    x_tensor = tf.nn.dropout(x_tensor, keep_prob)\n",
    "    \n",
    "    # x_tensor = tf.layers.batch_normalization(x_tensor)\n",
    "    x_tensor = cnn.fully_conn(x_tensor, 64)\n",
    "    # normalize_batch = tf.keras.layers.BatchNormalization(trainable=True)\n",
    "    # x_tensor = normalize_batch(x_tensor)\n",
    "    x_tensor = tf.nn.dropout(x_tensor, keep_prob)\n",
    "\n",
    "    # x_tensor = tf.layers.batch_normalization(x_tensor)\n",
    "    #x_tensor = cnn.fully_conn(x_tensor, 32)\n",
    "    #normalize_batch = tf.keras.layers.BatchNormalization(trainable=True)\n",
    "    #x_tensor = normalize_batch(x_tensor)\n",
    "    #x_tensor = tf.nn.dropout(x_tensor, keep_prob)\n",
    "\n",
    "    normalize_batch = tf.keras.layers.BatchNormalization(trainable=True)\n",
    "    x_tensor = normalize_batch(x_tensor)\n",
    "\n",
    "    # Applying an Output Layer\n",
    "    output_tensor = cnn.output(x_tensor, n_classes)\n",
    "    \n",
    "    return output_tensor\n",
    "\n",
    "\n",
    "##############################\n",
    "## Build the Neural Network ##\n",
    "##############################\n",
    "\n",
    "learning_rate = 0.0001\n",
    "\n",
    "# Remove previous weights, bias, inputs, etc..\n",
    "tf.reset_default_graph()\n",
    "\n",
    "# Inputs\n",
    "x = cnn.neural_net_image_input((target_image_size, target_image_size, 3))\n",
    "y = cnn.neural_net_label_input(n_classes)\n",
    "keep_prob = cnn.neural_net_keep_prob_input()\n",
    "\n",
    "# Model\n",
    "logits = create_conv_net(x, keep_prob, n_classes)\n",
    "\n",
    "# Name logits Tensor, so that is can be loaded from disk after training\n",
    "logits = tf.identity(logits, name=\"logits\")\n",
    "\n",
    "# Loss and Optimizer\n",
    "cost = tf.reduce_mean(tf.nn.softmax_cross_entropy_with_logits_v2(logits=logits, labels=y))\n",
    "optimizer = tf.train.AdamOptimizer(learning_rate=learning_rate).minimize(cost)\n",
    "# optimizer = tf.train.GradientDescentOptimizer(learning_rate=0.1).minimize(cost)\n",
    "\n",
    "# Accuracy\n",
    "correct_pred = tf.equal(tf.argmax(logits, 1), tf.argmax(y, 1))\n",
    "accuracy = tf.reduce_mean(tf.cast(correct_pred, tf.float32), name=\"accuracy\")\n",
    "\n",
    "# tests.test_conv_net(conv_net)"
   ]
  },
  {
   "cell_type": "markdown",
   "metadata": {},
   "source": [
    "### Setting up hyper parameters and training on batches"
   ]
  },
  {
   "cell_type": "code",
   "execution_count": 43,
   "metadata": {},
   "outputs": [],
   "source": [
    "epochs = 200\n",
    "batch_size = 128\n",
    "keep_probability = 0.9\n",
    "save_model_path = \"saved-model/\""
   ]
  },
  {
   "cell_type": "code",
   "execution_count": null,
   "metadata": {},
   "outputs": [],
   "source": []
  },
  {
   "cell_type": "code",
   "execution_count": 44,
   "metadata": {},
   "outputs": [
    {
     "name": "stdout",
     "output_type": "stream",
     "text": [
      "Training... start\n",
      "Epoch  1: Test Cost: 2.6490   ---   Valid Accuracy: 0.3120\n",
      "Epoch  2: Test Cost: 2.0975   ---   Valid Accuracy: 0.4422\n",
      "Epoch  3: Test Cost: 1.6997   ---   Valid Accuracy: 0.4889\n",
      "Epoch  4: Test Cost: 1.4315   ---   Valid Accuracy: 0.5429\n",
      "Epoch  5: Test Cost: 1.2074   ---   Valid Accuracy: 0.6002\n",
      "Epoch  6: Test Cost: 1.0426   ---   Valid Accuracy: 0.6517\n",
      "Epoch  7: Test Cost: 0.9005   ---   Valid Accuracy: 0.6714\n",
      "Epoch  8: Test Cost: 0.7889   ---   Valid Accuracy: 0.7141\n",
      "Epoch  9: Test Cost: 0.7017   ---   Valid Accuracy: 0.7388\n",
      "Epoch 10: Test Cost: 0.6338   ---   Valid Accuracy: 0.7544\n",
      "Epoch 11: Test Cost: 0.5521   ---   Valid Accuracy: 0.7667\n",
      "Epoch 12: Test Cost: 0.5057   ---   Valid Accuracy: 0.7821\n",
      "Epoch 13: Test Cost: 0.4569   ---   Valid Accuracy: 0.7907\n",
      "Epoch 14: Test Cost: 0.4319   ---   Valid Accuracy: 0.8005\n",
      "Epoch 15: Test Cost: 0.3956   ---   Valid Accuracy: 0.8084\n",
      "Epoch 16: Test Cost: 0.3714   ---   Valid Accuracy: 0.8163\n",
      "Epoch 17: Test Cost: 0.3274   ---   Valid Accuracy: 0.8286\n",
      "Epoch 18: Test Cost: 0.3022   ---   Valid Accuracy: 0.8268\n",
      "Epoch 19: Test Cost: 0.2762   ---   Valid Accuracy: 0.8415\n",
      "Epoch 20: Test Cost: 0.2485   ---   Valid Accuracy: 0.8454\n",
      "Epoch 21: Test Cost: 0.2503   ---   Valid Accuracy: 0.8531\n",
      "Epoch 22: Test Cost: 0.2376   ---   Valid Accuracy: 0.8381\n",
      "Epoch 23: Test Cost: 0.2117   ---   Valid Accuracy: 0.8485\n",
      "Epoch 24: Test Cost: 0.2145   ---   Valid Accuracy: 0.8492\n",
      "Epoch 25: Test Cost: 0.1964   ---   Valid Accuracy: 0.8635\n",
      "Epoch 26: Test Cost: 0.1837   ---   Valid Accuracy: 0.8615\n",
      "Epoch 27: Test Cost: 0.1665   ---   Valid Accuracy: 0.8646\n",
      "Epoch 28: Test Cost: 0.1480   ---   Valid Accuracy: 0.8610\n",
      "Epoch 29: Test Cost: 0.1487   ---   Valid Accuracy: 0.8651\n",
      "Epoch 30: Test Cost: 0.1573   ---   Valid Accuracy: 0.8660\n",
      "Epoch 31: Test Cost: 0.1347   ---   Valid Accuracy: 0.8755\n",
      "Epoch 32: Test Cost: 0.1090   ---   Valid Accuracy: 0.8678\n",
      "Epoch 33: Test Cost: 0.1330   ---   Valid Accuracy: 0.8701\n",
      "Epoch 34: Test Cost: 0.1110   ---   Valid Accuracy: 0.8664\n",
      "Epoch 35: Test Cost: 0.1201   ---   Valid Accuracy: 0.8782\n",
      "Epoch 36: Test Cost: 0.0979   ---   Valid Accuracy: 0.8773\n",
      "Epoch 37: Test Cost: 0.1005   ---   Valid Accuracy: 0.8762\n",
      "Epoch 38: Test Cost: 0.1056   ---   Valid Accuracy: 0.8837\n",
      "Epoch 39: Test Cost: 0.0887   ---   Valid Accuracy: 0.8814\n",
      "Epoch 40: Test Cost: 0.0883   ---   Valid Accuracy: 0.8780\n",
      "Epoch 41: Test Cost: 0.0788   ---   Valid Accuracy: 0.8866\n",
      "Epoch 42: Test Cost: 0.0772   ---   Valid Accuracy: 0.8762\n",
      "Epoch 43: Test Cost: 0.0700   ---   Valid Accuracy: 0.8855\n",
      "Epoch 44: Test Cost: 0.0587   ---   Valid Accuracy: 0.8828\n",
      "Epoch 45: Test Cost: 0.0626   ---   Valid Accuracy: 0.8896\n",
      "Epoch 46: Test Cost: 0.0577   ---   Valid Accuracy: 0.8889\n",
      "Epoch 47: Test Cost: 0.0549   ---   Valid Accuracy: 0.8825\n",
      "Epoch 48: Test Cost: 0.0680   ---   Valid Accuracy: 0.8893\n",
      "Epoch 49: Test Cost: 0.0536   ---   Valid Accuracy: 0.8980\n",
      "Epoch 50: Test Cost: 0.0453   ---   Valid Accuracy: 0.8907\n",
      "Epoch 51: Test Cost: 0.0512   ---   Valid Accuracy: 0.8844\n",
      "Epoch 52: Test Cost: 0.0553   ---   Valid Accuracy: 0.8889\n",
      "Epoch 53: Test Cost: 0.0484   ---   Valid Accuracy: 0.8837\n",
      "Epoch 54: Test Cost: 0.0472   ---   Valid Accuracy: 0.8887\n",
      "Epoch 55: Test Cost: 0.0411   ---   Valid Accuracy: 0.8957\n",
      "Epoch 56: Test Cost: 0.0442   ---   Valid Accuracy: 0.8934\n",
      "Epoch 57: Test Cost: 0.0441   ---   Valid Accuracy: 0.8927\n",
      "Epoch 58: Test Cost: 0.0365   ---   Valid Accuracy: 0.8941\n",
      "Epoch 59: Test Cost: 0.0331   ---   Valid Accuracy: 0.8998\n",
      "Epoch 60: Test Cost: 0.0312   ---   Valid Accuracy: 0.9032\n",
      "Epoch 61: Test Cost: 0.0352   ---   Valid Accuracy: 0.8864\n",
      "Epoch 62: Test Cost: 0.0306   ---   Valid Accuracy: 0.8998\n",
      "Epoch 63: Test Cost: 0.0294   ---   Valid Accuracy: 0.8973\n",
      "Epoch 64: Test Cost: 0.0284   ---   Valid Accuracy: 0.8952\n",
      "Epoch 65: Test Cost: 0.0268   ---   Valid Accuracy: 0.8966\n",
      "Epoch 66: Test Cost: 0.0269   ---   Valid Accuracy: 0.8971\n",
      "Epoch 67: Test Cost: 0.0291   ---   Valid Accuracy: 0.8898\n",
      "Epoch 68: Test Cost: 0.0331   ---   Valid Accuracy: 0.9005\n",
      "Epoch 69: Test Cost: 0.0308   ---   Valid Accuracy: 0.8907\n",
      "Epoch 70: Test Cost: 0.0271   ---   Valid Accuracy: 0.9025\n",
      "Epoch 71: Test Cost: 0.0211   ---   Valid Accuracy: 0.8955\n",
      "Epoch 72: Test Cost: 0.0259   ---   Valid Accuracy: 0.9014\n",
      "Epoch 73: Test Cost: 0.0227   ---   Valid Accuracy: 0.8961\n",
      "Epoch 74: Test Cost: 0.0249   ---   Valid Accuracy: 0.9000\n",
      "Epoch 75: Test Cost: 0.0254   ---   Valid Accuracy: 0.8873\n",
      "Epoch 76: Test Cost: 0.0210   ---   Valid Accuracy: 0.9066\n",
      "Epoch 77: Test Cost: 0.0244   ---   Valid Accuracy: 0.9023\n",
      "Epoch 78: Test Cost: 0.0260   ---   Valid Accuracy: 0.8948\n",
      "Epoch 79: Test Cost: 0.0191   ---   Valid Accuracy: 0.8930\n",
      "Epoch 80: Test Cost: 0.0200   ---   Valid Accuracy: 0.9054\n",
      "Epoch 81: Test Cost: 0.0167   ---   Valid Accuracy: 0.8955\n",
      "Epoch 82: Test Cost: 0.0189   ---   Valid Accuracy: 0.9025\n",
      "Epoch 83: Test Cost: 0.0281   ---   Valid Accuracy: 0.9005\n",
      "Epoch 84: Test Cost: 0.0203   ---   Valid Accuracy: 0.9075\n",
      "Epoch 85: Test Cost: 0.0211   ---   Valid Accuracy: 0.8995\n",
      "Epoch 86: Test Cost: 0.0169   ---   Valid Accuracy: 0.9020\n",
      "Epoch 87: Test Cost: 0.0152   ---   Valid Accuracy: 0.8964\n",
      "Epoch 88: Test Cost: 0.0144   ---   Valid Accuracy: 0.9039\n",
      "Epoch 89: Test Cost: 0.0152   ---   Valid Accuracy: 0.9043\n",
      "Epoch 90: Test Cost: 0.0156   ---   Valid Accuracy: 0.9020\n",
      "Epoch 91: Test Cost: 0.0140   ---   Valid Accuracy: 0.8991\n",
      "Epoch 92: Test Cost: 0.0130   ---   Valid Accuracy: 0.9032\n",
      "Epoch 93: Test Cost: 0.0138   ---   Valid Accuracy: 0.9011\n",
      "Epoch 94: Test Cost: 0.0167   ---   Valid Accuracy: 0.8971\n",
      "Epoch 95: Test Cost: 0.0113   ---   Valid Accuracy: 0.9018\n",
      "Epoch 96: Test Cost: 0.0143   ---   Valid Accuracy: 0.8968\n",
      "Epoch 97: Test Cost: 0.0167   ---   Valid Accuracy: 0.9039\n",
      "Epoch 98: Test Cost: 0.0141   ---   Valid Accuracy: 0.8998\n",
      "Epoch 99: Test Cost: 0.0091   ---   Valid Accuracy: 0.9016\n",
      "Epoch 100: Test Cost: 0.0127   ---   Valid Accuracy: 0.9007\n",
      "Epoch 101: Test Cost: 0.0189   ---   Valid Accuracy: 0.9045\n",
      "Epoch 102: Test Cost: 0.0113   ---   Valid Accuracy: 0.9036\n",
      "Epoch 103: Test Cost: 0.0115   ---   Valid Accuracy: 0.9023\n",
      "Epoch 104: Test Cost: 0.0116   ---   Valid Accuracy: 0.9107\n",
      "Epoch 105: Test Cost: 0.0088   ---   Valid Accuracy: 0.9066\n",
      "Epoch 106: Test Cost: 0.0132   ---   Valid Accuracy: 0.9095\n",
      "Epoch 107: Test Cost: 0.0191   ---   Valid Accuracy: 0.9009\n",
      "Epoch 108: Test Cost: 0.0090   ---   Valid Accuracy: 0.9068\n",
      "Epoch 109: Test Cost: 0.0087   ---   Valid Accuracy: 0.9082\n",
      "Epoch 110: Test Cost: 0.0089   ---   Valid Accuracy: 0.9079\n",
      "Epoch 111: Test Cost: 0.0084   ---   Valid Accuracy: 0.9063\n",
      "Epoch 112: Test Cost: 0.0096   ---   Valid Accuracy: 0.9052\n",
      "Epoch 113: Test Cost: 0.0113   ---   Valid Accuracy: 0.9034\n",
      "Epoch 114: Test Cost: 0.0079   ---   Valid Accuracy: 0.9086\n",
      "Epoch 115: Test Cost: 0.0098   ---   Valid Accuracy: 0.9077\n",
      "Epoch 116: Test Cost: 0.0075   ---   Valid Accuracy: 0.9102\n",
      "Epoch 117: Test Cost: 0.0138   ---   Valid Accuracy: 0.9118\n",
      "Epoch 118: Test Cost: 0.0128   ---   Valid Accuracy: 0.9068\n",
      "Epoch 119: Test Cost: 0.0086   ---   Valid Accuracy: 0.9093\n",
      "Epoch 120: Test Cost: 0.0171   ---   Valid Accuracy: 0.9098\n",
      "Epoch 121: Test Cost: 0.0142   ---   Valid Accuracy: 0.9086\n",
      "Epoch 122: Test Cost: 0.0082   ---   Valid Accuracy: 0.9068\n",
      "Epoch 123: Test Cost: 0.0113   ---   Valid Accuracy: 0.9014\n",
      "Epoch 124: Test Cost: 0.0073   ---   Valid Accuracy: 0.9098\n",
      "Epoch 125: Test Cost: 0.0102   ---   Valid Accuracy: 0.9109\n",
      "Epoch 126: Test Cost: 0.0077   ---   Valid Accuracy: 0.9039\n",
      "Epoch 127: Test Cost: 0.0120   ---   Valid Accuracy: 0.9068\n",
      "Epoch 128: Test Cost: 0.0066   ---   Valid Accuracy: 0.9122\n",
      "Epoch 129: Test Cost: 0.0061   ---   Valid Accuracy: 0.9134\n",
      "Epoch 130: Test Cost: 0.0082   ---   Valid Accuracy: 0.8989\n",
      "Epoch 131: Test Cost: 0.0098   ---   Valid Accuracy: 0.9111\n",
      "Epoch 132: Test Cost: 0.0058   ---   Valid Accuracy: 0.9095\n",
      "Epoch 133: Test Cost: 0.0075   ---   Valid Accuracy: 0.9111\n",
      "Epoch 134: Test Cost: 0.0076   ---   Valid Accuracy: 0.9104\n",
      "Epoch 135: Test Cost: 0.0078   ---   Valid Accuracy: 0.9014\n",
      "Epoch 136: Test Cost: 0.0061   ---   Valid Accuracy: 0.9054\n",
      "Epoch 137: Test Cost: 0.0067   ---   Valid Accuracy: 0.9059\n",
      "Epoch 138: Test Cost: 0.0087   ---   Valid Accuracy: 0.8930\n"
     ]
    },
    {
     "name": "stdout",
     "output_type": "stream",
     "text": [
      "Epoch 139: Test Cost: 0.0144   ---   Valid Accuracy: 0.9002\n",
      "Epoch 140: Test Cost: 0.0071   ---   Valid Accuracy: 0.9095\n",
      "Epoch 141: Test Cost: 0.0067   ---   Valid Accuracy: 0.9075\n",
      "Epoch 142: Test Cost: 0.0087   ---   Valid Accuracy: 0.8986\n",
      "Epoch 143: Test Cost: 0.0091   ---   Valid Accuracy: 0.9039\n",
      "Epoch 144: Test Cost: 0.0089   ---   Valid Accuracy: 0.9048\n",
      "Epoch 145: Test Cost: 0.0067   ---   Valid Accuracy: 0.9145\n",
      "Epoch 146: Test Cost: 0.0076   ---   Valid Accuracy: 0.9091\n",
      "Epoch 147: Test Cost: 0.0059   ---   Valid Accuracy: 0.9068\n",
      "Epoch 148: Test Cost: 0.0056   ---   Valid Accuracy: 0.9079\n",
      "Epoch 149: Test Cost: 0.0080   ---   Valid Accuracy: 0.8995\n",
      "Epoch 150: Test Cost: 0.0050   ---   Valid Accuracy: 0.9206\n",
      "Epoch 151: Test Cost: 0.0083   ---   Valid Accuracy: 0.9113\n",
      "Epoch 152: Test Cost: 0.0041   ---   Valid Accuracy: 0.9150\n",
      "Epoch 153: Test Cost: 0.0056   ---   Valid Accuracy: 0.9179\n",
      "Epoch 154: Test Cost: 0.0069   ---   Valid Accuracy: 0.9129\n",
      "Epoch 155: Test Cost: 0.0038   ---   Valid Accuracy: 0.9163\n",
      "Epoch 156: Test Cost: 0.0059   ---   Valid Accuracy: 0.9200\n",
      "Epoch 157: Test Cost: 0.0049   ---   Valid Accuracy: 0.9005\n",
      "Epoch 158: Test Cost: 0.0048   ---   Valid Accuracy: 0.9129\n",
      "Epoch 159: Test Cost: 0.0037   ---   Valid Accuracy: 0.9202\n",
      "Epoch 160: Test Cost: 0.0041   ---   Valid Accuracy: 0.9107\n",
      "Epoch 161: Test Cost: 0.0119   ---   Valid Accuracy: 0.9045\n",
      "Epoch 162: Test Cost: 0.0075   ---   Valid Accuracy: 0.9204\n",
      "Epoch 163: Test Cost: 0.0066   ---   Valid Accuracy: 0.9161\n",
      "Epoch 164: Test Cost: 0.0024   ---   Valid Accuracy: 0.9147\n",
      "Epoch 165: Test Cost: 0.0042   ---   Valid Accuracy: 0.9170\n",
      "Epoch 166: Test Cost: 0.0056   ---   Valid Accuracy: 0.9113\n",
      "Epoch 167: Test Cost: 0.0043   ---   Valid Accuracy: 0.9057\n",
      "Epoch 168: Test Cost: 0.0109   ---   Valid Accuracy: 0.9011\n",
      "Epoch 169: Test Cost: 0.0065   ---   Valid Accuracy: 0.9152\n",
      "Epoch 170: Test Cost: 0.0062   ---   Valid Accuracy: 0.9141\n",
      "Epoch 171: Test Cost: 0.0032   ---   Valid Accuracy: 0.9077\n",
      "Epoch 172: Test Cost: 0.0082   ---   Valid Accuracy: 0.9082\n",
      "Epoch 173: Test Cost: 0.0062   ---   Valid Accuracy: 0.9016\n",
      "Epoch 174: Test Cost: 0.0022   ---   Valid Accuracy: 0.9186\n",
      "Epoch 175: Test Cost: 0.0043   ---   Valid Accuracy: 0.9118\n",
      "Epoch 176: Test Cost: 0.0059   ---   Valid Accuracy: 0.9166\n",
      "Epoch 177: Test Cost: 0.0043   ---   Valid Accuracy: 0.9166\n",
      "Epoch 178: Test Cost: 0.0042   ---   Valid Accuracy: 0.9025\n",
      "Epoch 179: Test Cost: 0.0025   ---   Valid Accuracy: 0.9150\n",
      "Epoch 180: Test Cost: 0.0048   ---   Valid Accuracy: 0.9057\n",
      "Epoch 181: Test Cost: 0.0037   ---   Valid Accuracy: 0.9152\n",
      "Epoch 182: Test Cost: 0.0030   ---   Valid Accuracy: 0.9120\n",
      "Epoch 183: Test Cost: 0.0092   ---   Valid Accuracy: 0.9050\n",
      "Epoch 184: Test Cost: 0.0044   ---   Valid Accuracy: 0.9050\n",
      "Epoch 185: Test Cost: 0.0028   ---   Valid Accuracy: 0.9145\n",
      "Epoch 186: Test Cost: 0.0040   ---   Valid Accuracy: 0.9073\n",
      "Epoch 187: Test Cost: 0.0033   ---   Valid Accuracy: 0.9122\n",
      "Epoch 188: Test Cost: 0.0026   ---   Valid Accuracy: 0.9202\n",
      "Epoch 189: Test Cost: 0.0039   ---   Valid Accuracy: 0.9073\n",
      "Epoch 190: Test Cost: 0.0143   ---   Valid Accuracy: 0.9088\n",
      "Epoch 191: Test Cost: 0.0030   ---   Valid Accuracy: 0.9249\n",
      "Epoch 192: Test Cost: 0.0066   ---   Valid Accuracy: 0.9102\n",
      "Epoch 193: Test Cost: 0.0027   ---   Valid Accuracy: 0.9113\n",
      "Epoch 194: Test Cost: 0.0029   ---   Valid Accuracy: 0.9100\n",
      "Epoch 195: Test Cost: 0.0021   ---   Valid Accuracy: 0.9120\n",
      "Epoch 196: Test Cost: 0.0039   ---   Valid Accuracy: 0.9136\n",
      "Epoch 197: Test Cost: 0.0022   ---   Valid Accuracy: 0.9175\n",
      "Epoch 198: Test Cost: 0.0034   ---   Valid Accuracy: 0.9181\n",
      "Epoch 199: Test Cost: 0.0047   ---   Valid Accuracy: 0.9109\n",
      "Epoch 200: Test Cost: 0.0023   ---   Valid Accuracy: 0.9163\n",
      "Training... end\n"
     ]
    }
   ],
   "source": [
    "print(\"Training... start\")\n",
    "\n",
    "with tf.Session() as sess:\n",
    "    # Initializing the variables\n",
    "    sess.run(tf.global_variables_initializer())\n",
    "    \n",
    "    # Training cycle\n",
    "    for epoch in range(epochs):\n",
    "        \n",
    "        # for batch_features, batch_labels in CommonModules.load_preprocess_training_batch(batch_i, batch_size):\n",
    "        for batch_features, batch_labels in cnn.batch_features_labels(random_x_train_data, random_y_train_data, batch_size):\n",
    "            \n",
    "            # print(batch_features.shape)\n",
    "            # print(batch_labels.shape)\n",
    "            \n",
    "            cnn.train_neural_network(sess, x, y, keep_prob, optimizer, keep_probability, batch_features, batch_labels)\n",
    "            \n",
    "        print(\"Epoch {0:>2}: \".format(epoch + 1), end=\"\")\n",
    "        \n",
    "        cnn.print_stats(sess, x, y, keep_prob, batch_features, batch_labels, x_valid_data, y_valid_data, cost, accuracy)\n",
    "    \n",
    "    # Save the Model\n",
    "    saver = tf.train.Saver()\n",
    "    save_path = saver.save(sess, save_model_path)\n",
    "\n",
    "print(\"Training... end\")"
   ]
  },
  {
   "cell_type": "code",
   "execution_count": null,
   "metadata": {},
   "outputs": [],
   "source": []
  },
  {
   "cell_type": "code",
   "execution_count": null,
   "metadata": {},
   "outputs": [],
   "source": []
  },
  {
   "cell_type": "code",
   "execution_count": null,
   "metadata": {},
   "outputs": [],
   "source": []
  },
  {
   "cell_type": "code",
   "execution_count": null,
   "metadata": {},
   "outputs": [],
   "source": []
  },
  {
   "cell_type": "code",
   "execution_count": null,
   "metadata": {},
   "outputs": [],
   "source": []
  },
  {
   "cell_type": "code",
   "execution_count": null,
   "metadata": {},
   "outputs": [],
   "source": []
  },
  {
   "cell_type": "code",
   "execution_count": null,
   "metadata": {},
   "outputs": [],
   "source": []
  },
  {
   "cell_type": "code",
   "execution_count": null,
   "metadata": {},
   "outputs": [],
   "source": []
  },
  {
   "cell_type": "code",
   "execution_count": null,
   "metadata": {},
   "outputs": [],
   "source": []
  },
  {
   "cell_type": "code",
   "execution_count": null,
   "metadata": {},
   "outputs": [],
   "source": []
  },
  {
   "cell_type": "code",
   "execution_count": null,
   "metadata": {},
   "outputs": [],
   "source": []
  },
  {
   "cell_type": "code",
   "execution_count": null,
   "metadata": {},
   "outputs": [],
   "source": []
  },
  {
   "cell_type": "markdown",
   "metadata": {},
   "source": [
    "----\n",
    "\n",
    "## Design and Test a Model Architecture\n"
   ]
  },
  {
   "cell_type": "markdown",
   "metadata": {},
   "source": [
    "### Pre-process the Data Set (normalization, grayscale, etc.)"
   ]
  },
  {
   "cell_type": "markdown",
   "metadata": {},
   "source": [
    "Minimally, the image data should be normalized so that the data has mean zero and equal variance. For image data, `(pixel - 128)/ 128` is a quick way to approximately normalize the data and can be used in this project. \n",
    "\n",
    "Other pre-processing steps are optional. You can try different techniques to see if it improves performance. \n",
    "\n",
    "Use the code cell (or multiple code cells, if necessary) to implement the first step of your project."
   ]
  },
  {
   "cell_type": "code",
   "execution_count": 4,
   "metadata": {
    "collapsed": true
   },
   "outputs": [],
   "source": [
    "### Preprocess the data here. It is required to normalize the data. Other preprocessing steps could include \n",
    "### converting to grayscale, etc.\n",
    "### Feel free to use as many code cells as needed."
   ]
  },
  {
   "cell_type": "markdown",
   "metadata": {},
   "source": [
    "### Model Architecture"
   ]
  },
  {
   "cell_type": "code",
   "execution_count": null,
   "metadata": {
    "collapsed": true
   },
   "outputs": [],
   "source": [
    "### Define your architecture here.\n",
    "### Feel free to use as many code cells as needed."
   ]
  },
  {
   "cell_type": "markdown",
   "metadata": {},
   "source": [
    "### Train, Validate and Test the Model"
   ]
  },
  {
   "cell_type": "markdown",
   "metadata": {},
   "source": [
    "A validation set can be used to assess how well the model is performing. A low accuracy on the training and validation\n",
    "sets imply underfitting. A high accuracy on the training set but low accuracy on the validation set implies overfitting."
   ]
  },
  {
   "cell_type": "code",
   "execution_count": 1,
   "metadata": {
    "collapsed": true
   },
   "outputs": [],
   "source": [
    "### Train your model here.\n",
    "### Calculate and report the accuracy on the training and validation set.\n",
    "### Once a final model architecture is selected, \n",
    "### the accuracy on the test set should be calculated and reported as well.\n",
    "### Feel free to use as many code cells as needed."
   ]
  },
  {
   "cell_type": "markdown",
   "metadata": {},
   "source": [
    "---\n",
    "\n",
    "## Step 3: Test a Model on New Images\n",
    "\n",
    "To give yourself more insight into how your model is working, download at least five pictures of German traffic signs from the web and use your model to predict the traffic sign type.\n",
    "\n",
    "You may find `signnames.csv` useful as it contains mappings from the class id (integer) to the actual sign name."
   ]
  },
  {
   "cell_type": "markdown",
   "metadata": {},
   "source": [
    "### Load and Output the Images"
   ]
  },
  {
   "cell_type": "code",
   "execution_count": null,
   "metadata": {
    "collapsed": true
   },
   "outputs": [],
   "source": [
    "### Load the images and plot them here.\n",
    "### Feel free to use as many code cells as needed."
   ]
  },
  {
   "cell_type": "markdown",
   "metadata": {},
   "source": [
    "### Predict the Sign Type for Each Image"
   ]
  },
  {
   "cell_type": "code",
   "execution_count": 3,
   "metadata": {
    "collapsed": true
   },
   "outputs": [],
   "source": [
    "### Run the predictions here and use the model to output the prediction for each image.\n",
    "### Make sure to pre-process the images with the same pre-processing pipeline used earlier.\n",
    "### Feel free to use as many code cells as needed."
   ]
  },
  {
   "cell_type": "markdown",
   "metadata": {},
   "source": [
    "### Analyze Performance"
   ]
  },
  {
   "cell_type": "code",
   "execution_count": 4,
   "metadata": {
    "collapsed": true
   },
   "outputs": [],
   "source": [
    "### Calculate the accuracy for these 5 new images. \n",
    "### For example, if the model predicted 1 out of 5 signs correctly, it's 20% accurate on these new images."
   ]
  },
  {
   "cell_type": "markdown",
   "metadata": {},
   "source": [
    "### Output Top 5 Softmax Probabilities For Each Image Found on the Web"
   ]
  },
  {
   "cell_type": "markdown",
   "metadata": {},
   "source": [
    "For each of the new images, print out the model's softmax probabilities to show the **certainty** of the model's predictions (limit the output to the top 5 probabilities for each image). [`tf.nn.top_k`](https://www.tensorflow.org/versions/r0.12/api_docs/python/nn.html#top_k) could prove helpful here. \n",
    "\n",
    "The example below demonstrates how tf.nn.top_k can be used to find the top k predictions for each image.\n",
    "\n",
    "`tf.nn.top_k` will return the values and indices (class ids) of the top k predictions. So if k=3, for each sign, it'll return the 3 largest probabilities (out of a possible 43) and the correspoding class ids.\n",
    "\n",
    "Take this numpy array as an example. The values in the array represent predictions. The array contains softmax probabilities for five candidate images with six possible classes. `tf.nn.top_k` is used to choose the three classes with the highest probability:\n",
    "\n",
    "```\n",
    "# (5, 6) array\n",
    "a = np.array([[ 0.24879643,  0.07032244,  0.12641572,  0.34763842,  0.07893497,\n",
    "         0.12789202],\n",
    "       [ 0.28086119,  0.27569815,  0.08594638,  0.0178669 ,  0.18063401,\n",
    "         0.15899337],\n",
    "       [ 0.26076848,  0.23664738,  0.08020603,  0.07001922,  0.1134371 ,\n",
    "         0.23892179],\n",
    "       [ 0.11943333,  0.29198961,  0.02605103,  0.26234032,  0.1351348 ,\n",
    "         0.16505091],\n",
    "       [ 0.09561176,  0.34396535,  0.0643941 ,  0.16240774,  0.24206137,\n",
    "         0.09155967]])\n",
    "```\n",
    "\n",
    "Running it through `sess.run(tf.nn.top_k(tf.constant(a), k=3))` produces:\n",
    "\n",
    "```\n",
    "TopKV2(values=array([[ 0.34763842,  0.24879643,  0.12789202],\n",
    "       [ 0.28086119,  0.27569815,  0.18063401],\n",
    "       [ 0.26076848,  0.23892179,  0.23664738],\n",
    "       [ 0.29198961,  0.26234032,  0.16505091],\n",
    "       [ 0.34396535,  0.24206137,  0.16240774]]), indices=array([[3, 0, 5],\n",
    "       [0, 1, 4],\n",
    "       [0, 5, 1],\n",
    "       [1, 3, 5],\n",
    "       [1, 4, 3]], dtype=int32))\n",
    "```\n",
    "\n",
    "Looking just at the first row we get `[ 0.34763842,  0.24879643,  0.12789202]`, you can confirm these are the 3 largest probabilities in `a`. You'll also notice `[3, 0, 5]` are the corresponding indices."
   ]
  },
  {
   "cell_type": "code",
   "execution_count": 3,
   "metadata": {
    "collapsed": true
   },
   "outputs": [],
   "source": [
    "### Print out the top five softmax probabilities for the predictions on the German traffic sign images found on the web. \n",
    "### Feel free to use as many code cells as needed."
   ]
  },
  {
   "cell_type": "markdown",
   "metadata": {},
   "source": [
    "### Project Writeup\n",
    "\n",
    "Once you have completed the code implementation, document your results in a project writeup using this [template](https://github.com/udacity/CarND-Traffic-Sign-Classifier-Project/blob/master/writeup_template.md) as a guide. The writeup can be in a markdown or pdf file. "
   ]
  },
  {
   "cell_type": "markdown",
   "metadata": {},
   "source": [
    "> **Note**: Once you have completed all of the code implementations and successfully answered each question above, you may finalize your work by exporting the iPython Notebook as an HTML document. You can do this by using the menu above and navigating to  \\n\",\n",
    "    \"**File -> Download as -> HTML (.html)**. Include the finished document along with this notebook as your submission."
   ]
  },
  {
   "cell_type": "markdown",
   "metadata": {},
   "source": [
    "---\n",
    "\n",
    "## Step 4 (Optional): Visualize the Neural Network's State with Test Images\n",
    "\n",
    " This Section is not required to complete but acts as an additional excersise for understaning the output of a neural network's weights. While neural networks can be a great learning device they are often referred to as a black box. We can understand what the weights of a neural network look like better by plotting their feature maps. After successfully training your neural network you can see what it's feature maps look like by plotting the output of the network's weight layers in response to a test stimuli image. From these plotted feature maps, it's possible to see what characteristics of an image the network finds interesting. For a sign, maybe the inner network feature maps react with high activation to the sign's boundary outline or to the contrast in the sign's painted symbol.\n",
    "\n",
    " Provided for you below is the function code that allows you to get the visualization output of any tensorflow weight layer you want. The inputs to the function should be a stimuli image, one used during training or a new one you provided, and then the tensorflow variable name that represents the layer's state during the training process, for instance if you wanted to see what the [LeNet lab's](https://classroom.udacity.com/nanodegrees/nd013/parts/fbf77062-5703-404e-b60c-95b78b2f3f9e/modules/6df7ae49-c61c-4bb2-a23e-6527e69209ec/lessons/601ae704-1035-4287-8b11-e2c2716217ad/concepts/d4aca031-508f-4e0b-b493-e7b706120f81) feature maps looked like for it's second convolutional layer you could enter conv2 as the tf_activation variable.\n",
    "\n",
    "For an example of what feature map outputs look like, check out NVIDIA's results in their paper [End-to-End Deep Learning for Self-Driving Cars](https://devblogs.nvidia.com/parallelforall/deep-learning-self-driving-cars/) in the section Visualization of internal CNN State. NVIDIA was able to show that their network's inner weights had high activations to road boundary lines by comparing feature maps from an image with a clear path to one without. Try experimenting with a similar test to show that your trained network's weights are looking for interesting features, whether it's looking at differences in feature maps from images with or without a sign, or even what feature maps look like in a trained network vs a completely untrained one on the same sign image.\n",
    "\n",
    "<figure>\n",
    " <img src=\"visualize_cnn.png\" width=\"380\" alt=\"Combined Image\" />\n",
    " <figcaption>\n",
    " <p></p> \n",
    " <p style=\"text-align: center;\"> Your output should look something like this (above)</p> \n",
    " </figcaption>\n",
    "</figure>\n",
    " <p></p> \n"
   ]
  },
  {
   "cell_type": "code",
   "execution_count": null,
   "metadata": {
    "collapsed": true
   },
   "outputs": [],
   "source": [
    "### Visualize your network's feature maps here.\n",
    "### Feel free to use as many code cells as needed.\n",
    "\n",
    "# image_input: the test image being fed into the network to produce the feature maps\n",
    "# tf_activation: should be a tf variable name used during your training procedure that represents the calculated state of a specific weight layer\n",
    "# activation_min/max: can be used to view the activation contrast in more detail, by default matplot sets min and max to the actual min and max values of the output\n",
    "# plt_num: used to plot out multiple different weight feature map sets on the same block, just extend the plt number for each new feature map entry\n",
    "\n",
    "def outputFeatureMap(image_input, tf_activation, activation_min=-1, activation_max=-1 ,plt_num=1):\n",
    "    # Here make sure to preprocess your image_input in a way your network expects\n",
    "    # with size, normalization, ect if needed\n",
    "    # image_input =\n",
    "    # Note: x should be the same name as your network's tensorflow data placeholder variable\n",
    "    # If you get an error tf_activation is not defined it may be having trouble accessing the variable from inside a function\n",
    "    activation = tf_activation.eval(session=sess,feed_dict={x : image_input})\n",
    "    featuremaps = activation.shape[3]\n",
    "    plt.figure(plt_num, figsize=(15,15))\n",
    "    for featuremap in range(featuremaps):\n",
    "        plt.subplot(6,8, featuremap+1) # sets the number of feature maps to show on each row and column\n",
    "        plt.title('FeatureMap ' + str(featuremap)) # displays the feature map number\n",
    "        if activation_min != -1 & activation_max != -1:\n",
    "            plt.imshow(activation[0,:,:, featuremap], interpolation=\"nearest\", vmin =activation_min, vmax=activation_max, cmap=\"gray\")\n",
    "        elif activation_max != -1:\n",
    "            plt.imshow(activation[0,:,:, featuremap], interpolation=\"nearest\", vmax=activation_max, cmap=\"gray\")\n",
    "        elif activation_min !=-1:\n",
    "            plt.imshow(activation[0,:,:, featuremap], interpolation=\"nearest\", vmin=activation_min, cmap=\"gray\")\n",
    "        else:\n",
    "            plt.imshow(activation[0,:,:, featuremap], interpolation=\"nearest\", cmap=\"gray\")"
   ]
  },
  {
   "cell_type": "code",
   "execution_count": null,
   "metadata": {},
   "outputs": [],
   "source": []
  },
  {
   "cell_type": "markdown",
   "metadata": {},
   "source": [
    "## Building a Traffic Sign Recognition Classifier, Deep Learning Approach \n",
    "\n",
    "In this notebook, a template is provided for you to implement your functionality in stages, which is required to successfully complete this project. If additional code is required that cannot be included in the notebook, be sure that the Python code is successfully imported and included in your submission if necessary. \n",
    "\n",
    "> **Note**: Once you have completed all of the code implementations, you need to finalize your work by exporting the iPython Notebook as an HTML document. Before exporting the notebook to html, all of the code cells need to have been run so that reviewers can see the final implementation and output. You can then export the notebook by using the menu above and navigating to  \\n\",\n",
    "    \"**File -> Download as -> HTML (.html)**. Include the finished document along with this notebook as your submission. \n",
    "\n",
    "In addition to implementing code, there is a writeup to complete. The writeup should be completed in a separate file, which can be either a markdown file or a pdf document. There is a [write up template](https://github.com/udacity/CarND-Traffic-Sign-Classifier-Project/blob/master/writeup_template.md) that can be used to guide the writing process. Completing the code template and writeup template will cover all of the [rubric points](https://review.udacity.com/#!/rubrics/481/view) for this project.\n",
    "\n",
    "The [rubric](https://review.udacity.com/#!/rubrics/481/view) contains \"Stand Out Suggestions\" for enhancing the project beyond the minimum requirements. The stand out suggestions are optional. If you decide to pursue the \"stand out suggestions\", you can include the code in this Ipython notebook and also discuss the results in the writeup file.\n",
    "\n",
    "\n",
    ">**Note:** Code and Markdown cells can be executed using the **Shift + Enter** keyboard shortcut. In addition, Markdown cells can be edited by typically double-clicking the cell to enter edit mode."
   ]
  },
  {
   "cell_type": "markdown",
   "metadata": {},
   "source": [
    "Visualize the German Traffic Signs Dataset using the pickled file(s). This is open ended, suggestions include: plotting traffic sign images, plotting the count of each sign, etc. \n",
    "\n",
    "The [Matplotlib](http://matplotlib.org/) [examples](http://matplotlib.org/examples/index.html) and [gallery](http://matplotlib.org/gallery.html) pages are a great resource for doing visualizations in Python.\n",
    "\n",
    "**NOTE:** It's recommended you start with something simple first. If you wish to do more, come back to it after you've completed the rest of the sections. It can be interesting to look at the distribution of classes in the training, validation and test set. Is the distribution the same? Are there more examples of some classes than others?"
   ]
  },
  {
   "cell_type": "markdown",
   "metadata": {},
   "source": [
    "----\n",
    "\n",
    "## Design and Test a Model Architecture\n",
    "\n",
    "Design and implement a deep learning model that learns to recognize traffic signs. Train and test your model on the [German Traffic Sign Dataset](http://benchmark.ini.rub.de/?section=gtsrb&subsection=dataset).\n",
    "\n",
    "The LeNet-5 implementation shown in the [classroom](https://classroom.udacity.com/nanodegrees/nd013/parts/fbf77062-5703-404e-b60c-95b78b2f3f9e/modules/6df7ae49-c61c-4bb2-a23e-6527e69209ec/lessons/601ae704-1035-4287-8b11-e2c2716217ad/concepts/d4aca031-508f-4e0b-b493-e7b706120f81) at the end of the CNN lesson is a solid starting point. You'll have to change the number of classes and possibly the preprocessing, but aside from that it's plug and play! \n",
    "\n",
    "With the LeNet-5 solution from the lecture, you should expect a validation set accuracy of about 0.89. To meet specifications, the validation set accuracy will need to be at least 0.93. It is possible to get an even higher accuracy, but 0.93 is the minimum for a successful project submission. \n",
    "\n",
    "There are various aspects to consider when thinking about this problem:\n",
    "\n",
    "- Neural network architecture (is the network over or underfitting?)\n",
    "- Play around preprocessing techniques (normalization, rgb to grayscale, etc)\n",
    "- Number of examples per label (some have more than others).\n",
    "- Generate fake data.\n",
    "\n",
    "Here is an example of a [published baseline model on this problem](http://yann.lecun.com/exdb/publis/pdf/sermanet-ijcnn-11.pdf). It's not required to be familiar with the approach used in the paper but, it's good practice to try to read papers like these."
   ]
  },
  {
   "cell_type": "code",
   "execution_count": null,
   "metadata": {},
   "outputs": [],
   "source": []
  },
  {
   "cell_type": "code",
   "execution_count": null,
   "metadata": {},
   "outputs": [],
   "source": []
  }
 ],
 "metadata": {
  "anaconda-cloud": {},
  "kernelspec": {
   "display_name": "Python 3",
   "language": "python",
   "name": "python3"
  },
  "language_info": {
   "codemirror_mode": {
    "name": "ipython",
    "version": 3
   },
   "file_extension": ".py",
   "mimetype": "text/x-python",
   "name": "python",
   "nbconvert_exporter": "python",
   "pygments_lexer": "ipython3",
   "version": "3.7.1"
  }
 },
 "nbformat": 4,
 "nbformat_minor": 1
}
