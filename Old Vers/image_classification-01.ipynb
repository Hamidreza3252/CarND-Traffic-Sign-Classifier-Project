{
 "cells": [
  {
   "cell_type": "markdown",
   "metadata": {},
   "source": [
    "### cheatsheets\n",
    "\n",
    "- [What is One Hot Encoding? Why And When do you have to use it?](https://hackernoon.com/what-is-one-hot-encoding-why-and-when-do-you-have-to-use-it-e3c6186d008f)\n",
    "- [Read Own Multiple Images from folder and Save as a Dataset for Training](https://stackoverflow.com/questions/49220111/read-own-multiple-images-from-folder-and-save-as-a-dataset-for-training)\n",
    "- [How to write into and read from a TFRecords file in TensorFlow](http://www.machinelearninguru.com/deep_learning/tensorflow/basics/tfrecord/tfrecord.html)\n",
    "- [Useful Blog: machine learning mindset](https://machinelearningmindset.com/blog/)\n",
    "\n",
    "- [Jupyer Markdown cheatsheets](https://github.com/adam-p/markdown-here/wiki/Markdown-Cheatsheet#links) \n",
    "- [matplotlib color list](https://matplotlib.org/examples/color/named_colors.html)\n",
    "- [matplotlib text styles](https://matplotlib.org/2.0.2/users/text_props.html)\n",
    "- [PEP 8 -- Style Guide for Python Code](https://www.python.org/dev/peps/pep-0008/)\n",
    "- [Gaussian processes framework in python](https://github.com/SheffieldML/GPy)\n",
    "- [Regular Expressions](https://docs.python.org/3/library/re.html)\n",
    "- [Regular Expressions - Tutorial](https://docs.python.org/3/howto/regex.html)\n",
    "- [presentation file: P:\\EnergySGP\\5) Production\\5.2 Ongoing projects\\AM\\PP177972 (JTC)- Data Smart Lift AM (Zhou SF)\\3. Minutes of meeting\\20180628]()"
   ]
  },
  {
   "cell_type": "code",
   "execution_count": 1,
   "metadata": {},
   "outputs": [
    {
     "data": {
      "text/html": [
       "<style>.container { width:80% !important; }</style>"
      ],
      "text/plain": [
       "<IPython.core.display.HTML object>"
      ]
     },
     "metadata": {},
     "output_type": "display_data"
    }
   ],
   "source": [
    "from IPython.core.display import display, HTML\n",
    "display(HTML(\"<style>.container { width:80% !important; }</style>\"))"
   ]
  },
  {
   "cell_type": "code",
   "execution_count": 276,
   "metadata": {},
   "outputs": [],
   "source": [
    "import cv2\n",
    "import numpy as np\n",
    "import os\n",
    "from random import shuffle\n",
    "import glob\n",
    "from pathlib import Path\n",
    "\n",
    "from importlib import reload\n",
    "import img_classification_modules\n",
    "\n",
    "reload(img_classification_modules)\n",
    "\n",
    "from img_classification_modules import CommonModules\n"
   ]
  },
  {
   "cell_type": "code",
   "execution_count": null,
   "metadata": {},
   "outputs": [],
   "source": []
  },
  {
   "cell_type": "code",
   "execution_count": 249,
   "metadata": {
    "scrolled": true
   },
   "outputs": [
    {
     "name": "stdout",
     "output_type": "stream",
     "text": [
      "looking for possibly 2 image files - processing in mini batches...\n",
      "Processing 2 image files is completed.\n",
      "\n"
     ]
    }
   ],
   "source": [
    "home_dir = str(Path.home())\n",
    "\n",
    "original_imgs_dir = home_dir + \"/Documents/Conda/00-Projects/image-classification/samples/birds-01/\"\n",
    "resized_iamges_dir = home_dir + \"/Documents/Conda/00-Projects/image-classification/samples/birds-01-resized/\"\n",
    "# file_name_only = \"drone.41-Z\"\n",
    "# file_name = original_imgs_dir + file_name_only + \".jpg\"\n",
    "# resized_file_name = original_imgs_dir + file_name_only + \"-resized.jpg\"\n",
    "\n",
    "target_img_size = 128\n",
    "\n",
    "specific_file_name = \"\"\n",
    "\n",
    "file_mini_batch_size = 100\n",
    "file_count = 2\n",
    "# can be set to skip n number of files\n",
    "file_counter = 0\n",
    "all_left_files_processed = False\n",
    "perform_baselines_check = False\n",
    "\n",
    "# skip_file_count = None\n",
    "\n",
    "file_mini_batch_size = min(file_mini_batch_size, file_count) if (file_count > -1) else file_mini_batch_size\n",
    "\n",
    "resized_images = []\n",
    "\n",
    "while (all_left_files_processed == False):\n",
    "    if (specific_file_name == \"\"):\n",
    "        print(\"looking for possibly {0:d} image files - processing in mini batches...\".format(file_mini_batch_size))\n",
    "    else:\n",
    "        print(\"looking for {0:} image files\".format(specific_file_name))\n",
    "    \n",
    "    resized_images += CommonModules.read_and_resize_images(file_count=file_mini_batch_size, skip_file_count=file_counter, images_dir=original_imgs_dir, \n",
    "                                                          specific_file_name=specific_file_name, target_img_size=target_img_size, \n",
    "                                                          save_resized_iamges=True, resized_iamges_dir=resized_iamges_dir)\n",
    "    \n",
    "    if(len(resized_images) > 0):\n",
    "        print(\"Processing {0:d} image files is completed.\".format(len(resized_images)))\n",
    "    \n",
    "    print(\"\")\n",
    "\n",
    "    file_counter += file_mini_batch_size\n",
    "\n",
    "    if (file_count != -1):\n",
    "        if ((file_count - file_counter) // file_mini_batch_size < 1):\n",
    "            file_mini_batch_size = file_count - file_counter\n",
    "\n",
    "            all_left_files_processed = (file_counter >= file_count) or (specific_file_name != \"\")\n",
    "\n",
    "            \n",
    "    if(len(resized_images) == 0):\n",
    "        print(\"No new image file was found.\")\n",
    "\n",
    "        all_left_files_processed = True\n",
    "    #else:\n",
    "    #    print(resized_images[0].shape)\n"
   ]
  },
  {
   "cell_type": "code",
   "execution_count": 250,
   "metadata": {},
   "outputs": [
    {
     "data": {
      "text/plain": [
       "2"
      ]
     },
     "execution_count": 250,
     "metadata": {},
     "output_type": "execute_result"
    }
   ],
   "source": [
    "len(resized_images)"
   ]
  },
  {
   "cell_type": "markdown",
   "metadata": {},
   "source": [
    "### List images and their labels"
   ]
  },
  {
   "cell_type": "code",
   "execution_count": 239,
   "metadata": {},
   "outputs": [
    {
     "name": "stdout",
     "output_type": "stream",
     "text": [
      "3450 images loaded and labelled from 'drones-01-resized' collection\n",
      "3589 images loaded and labelled from 'birds-01-resized' collection\n",
      "60%: training - 20%: validation - 20%: test\n"
     ]
    }
   ],
   "source": [
    "train_band = 0.6\n",
    "validation_band = train_band + 0.2\n",
    "# test_portion = 1.0 - train_portion - validation_portion\n",
    "\n",
    "home_dir = str(Path.home())\n",
    "\n",
    "shuffle_data = True  # shuffle the addresses before saving\n",
    "# cat_dog_train_path = 'Cat vs Dog/train/*.jpg'\n",
    "\n",
    "original_imgs_dir = home_dir + \"/Documents/Conda/00-Projects/image-classification/samples/birds-01/\"\n",
    "iamges_dirs = [home_dir + \"/Documents/Conda/00-Projects/image-classification/samples/drones-01-resized/\",\n",
    "               home_dir + \"/Documents/Conda/00-Projects/image-classification/samples/birds-01-resized/\",]\n",
    "\n",
    "file_names = []\n",
    "labels = []\n",
    "\n",
    "for image_index, image_dir in enumerate(iamges_dirs):\n",
    "    # read addresses and labels from the 'train' folder\n",
    "    loaded_file_names = list(glob.glob(image_dir + \"/*.jpg\"))\n",
    "    \n",
    "    file_names += loaded_file_names\n",
    "    labels += [0 if \"drone\" in image_dir else 1 for file_name in file_names]  # drone:0, bird:1\n",
    "    \n",
    "    print(\"{0:d} images loaded and labelled from '{1:s}' collection\".format(len(loaded_file_names), image_dir.split(\"/\")[-2]))\n",
    "    \n",
    "if (shuffle_data):\n",
    "    labelled_data = list(zip(file_names, labels))\n",
    "    shuffle(labelled_data)\n",
    "    file_names, labels = zip(*labelled_data)\n",
    "    \n",
    "    file_names = list(file_names)\n",
    "    labels = list(labels)\n",
    "    \n",
    "train_files = file_names[:int(train_band*len(file_names))]\n",
    "train_labels = labels[:int(train_band*len(labels))]\n",
    "\n",
    "val_files = file_names[int(train_band*len(file_names)):int(validation_band*len(file_names))]\n",
    "val_labels = labels[int(train_band*len(file_names)):int(validation_band*len(file_names))]\n",
    "\n",
    "test_files = file_names[int(validation_band*len(file_names)):]\n",
    "test_labels = labels[int(validation_band*len(labels)):]\n",
    "\n",
    "print(\"{0:d}%: training - {1:d}%: validation - {2:d}%: test\".format(int(train_band*100), \n",
    "                                                                    int((validation_band - train_band)*100), \n",
    "                                                                    int((1.0 - validation_band + 0.005)*100)) )\n"
   ]
  },
  {
   "cell_type": "code",
   "execution_count": null,
   "metadata": {},
   "outputs": [],
   "source": []
  },
  {
   "cell_type": "markdown",
   "metadata": {},
   "source": [
    "### Create a TFRecords file"
   ]
  },
  {
   "cell_type": "code",
   "execution_count": null,
   "metadata": {},
   "outputs": [],
   "source": []
  },
  {
   "cell_type": "code",
   "execution_count": null,
   "metadata": {},
   "outputs": [],
   "source": []
  },
  {
   "cell_type": "markdown",
   "metadata": {},
   "source": [
    "### Test cell for image resizing"
   ]
  },
  {
   "cell_type": "code",
   "execution_count": null,
   "metadata": {},
   "outputs": [],
   "source": [
    "drone_imgs_dir = \"C:/Users/MIEuser/Documents/Conda/00-Projects/image-classification/samples/test/\"\n",
    "file_name_only = \"drone.41-Z\"\n",
    "file_name = drone_imgs_dir + file_name_only + \".jpg\"\n",
    "resized_file_name = drone_imgs_dir + file_name_only + \"-resized.jpg\"\n",
    "target_img_size = 128\n",
    "\n",
    "img = cv2.imread(file_name)\n",
    "img_dimensions = np.asarray(img.shape[:2])\n",
    "\n",
    "target_img_dimensions = np.asarray([target_img_size, target_img_size])\n",
    "img_resize_ratios = target_img_dimensions / img_dimensions\n",
    "min_img_ratio = min(np.min(img_resize_ratios), 1.0)\n",
    "\n",
    "new_img = np.zeros(shape=(target_img_size, target_img_size, 3))\n",
    "\n",
    "# if(np.any(img_resize_ratios < 1.0)):\n",
    "resized_img_dimensions = (img_dimensions * min_img_ratio + 0.5).astype(int)\n",
    "\n",
    "resized_img = cv2.resize(img, dsize=(resized_img_dimensions[1], resized_img_dimensions[0]), interpolation=cv2.INTER_CUBIC)\n",
    "width_gap = int((target_img_size - resized_img_dimensions[0]) // 2.0)\n",
    "height_gap = int((target_img_size - resized_img_dimensions[1]) // 2.0)\n",
    "new_img[width_gap:width_gap+resized_img_dimensions[0], height_gap:height_gap+resized_img_dimensions[1]] = resized_img\n",
    "cv2.imwrite(resized_file_name, new_img)\n",
    "\n",
    "# max_img_size = max(img_shape)\n",
    "# max_img_size_index = np.where(img_shape == max_img_size)[0][0]\n",
    "# img_resize_ratio = target_img_size / max_img_size\n",
    "\n",
    "# if(img_resize_ratio < 1.0):\n",
    "    \n",
    "\n",
    "print(img.shape, resized_img_dimensions, img_resize_ratios)\n",
    "\n",
    "\n",
    "\n",
    "\n",
    "# resized_img = cv2.resize(img, dsize=(128, 128), interpolation=cv2.INTER_CUBIC)\n",
    "\n"
   ]
  },
  {
   "cell_type": "code",
   "execution_count": null,
   "metadata": {},
   "outputs": [],
   "source": []
  },
  {
   "cell_type": "markdown",
   "metadata": {
    "collapsed": true
   },
   "source": [
    "# Image Classification\n",
    "In this project, you'll classify images from the [CIFAR-10 dataset](https://www.cs.toronto.edu/~kriz/cifar.html).  The dataset consists of airplanes, dogs, cats, and other objects. You'll preprocess the images, then train a convolutional neural network on all the samples. The images need to be normalized and the labels need to be one-hot encoded.  You'll get to apply what you learned and build a convolutional, max pooling, dropout, and fully connected layers.  At the end, you'll get to see your neural network's predictions on the sample images.\n",
    "## Get the Data\n",
    "Run the following cell to download the [CIFAR-10 dataset for python](https://www.cs.toronto.edu/~kriz/cifar-10-python.tar.gz)."
   ]
  },
  {
   "cell_type": "code",
   "execution_count": null,
   "metadata": {},
   "outputs": [],
   "source": []
  },
  {
   "cell_type": "code",
   "execution_count": 252,
   "metadata": {},
   "outputs": [
    {
     "name": "stdout",
     "output_type": "stream",
     "text": [
      "All files found!\n"
     ]
    }
   ],
   "source": [
    "\"\"\"\n",
    "DON'T MODIFY ANYTHING IN THIS CELL THAT IS BELOW THIS LINE\n",
    "\"\"\"\n",
    "from urllib.request import urlretrieve\n",
    "from os.path import isfile, isdir\n",
    "from tqdm import tqdm\n",
    "import problem_unittests as tests\n",
    "import tarfile\n",
    "\n",
    "cifar10_dataset_folder_path = 'cifar-10-batches-py'\n",
    "\n",
    "# Use Floyd's cifar-10 dataset if present\n",
    "floyd_cifar10_location = '/input/cifar-10/python.tar.gz'\n",
    "if isfile(floyd_cifar10_location):\n",
    "    tar_gz_path = floyd_cifar10_location\n",
    "else:\n",
    "    tar_gz_path = 'cifar-10-python.tar.gz'\n",
    "\n",
    "class DLProgress(tqdm):\n",
    "    last_block = 0\n",
    "\n",
    "    def hook(self, block_num=1, block_size=1, total_size=None):\n",
    "        self.total = total_size\n",
    "        self.update((block_num - self.last_block) * block_size)\n",
    "        self.last_block = block_num\n",
    "\n",
    "if not isfile(tar_gz_path):\n",
    "    with DLProgress(unit='B', unit_scale=True, miniters=1, desc='CIFAR-10 Dataset') as pbar:\n",
    "        urlretrieve(\n",
    "            'https://www.cs.toronto.edu/~kriz/cifar-10-python.tar.gz',\n",
    "            tar_gz_path,\n",
    "            pbar.hook)\n",
    "\n",
    "if not isdir(cifar10_dataset_folder_path):\n",
    "    with tarfile.open(tar_gz_path) as tar:\n",
    "        tar.extractall()\n",
    "        tar.close()\n",
    "\n",
    "\n",
    "tests.test_folder_path(cifar10_dataset_folder_path)"
   ]
  },
  {
   "cell_type": "markdown",
   "metadata": {},
   "source": [
    "## Explore the Data\n",
    "The dataset is broken into batches to prevent your machine from running out of memory.  The CIFAR-10 dataset consists of 5 batches, named `data_batch_1`, `data_batch_2`, etc.. Each batch contains the labels and images that are one of the following:\n",
    "* airplane\n",
    "* automobile\n",
    "* bird\n",
    "* cat\n",
    "* deer\n",
    "* dog\n",
    "* frog\n",
    "* horse\n",
    "* ship\n",
    "* truck\n",
    "\n",
    "Understanding a dataset is part of making predictions on the data.  Play around with the code cell below by changing the `batch_id` and `sample_id`. The `batch_id` is the id for a batch (1-5). The `sample_id` is the id for a image and label pair in the batch.\n",
    "\n",
    "Ask yourself \"What are all possible labels?\", \"What is the range of values for the image data?\", \"Are the labels in order or random?\".  Answers to questions like these will help you preprocess the data and end up with better predictions."
   ]
  },
  {
   "cell_type": "code",
   "execution_count": 253,
   "metadata": {},
   "outputs": [
    {
     "name": "stdout",
     "output_type": "stream",
     "text": [
      "\n",
      "Stats of batch 1:\n",
      "Samples: 10000\n",
      "Label Counts: {0: 1005, 1: 974, 2: 1032, 3: 1016, 4: 999, 5: 937, 6: 1030, 7: 1001, 8: 1025, 9: 981}\n",
      "First 20 Labels: [6, 9, 9, 4, 1, 1, 2, 7, 8, 3, 4, 7, 7, 2, 9, 9, 9, 3, 2, 6]\n",
      "\n",
      "Example of Image 1:\n",
      "Image - Min Value: 5 Max Value: 254\n",
      "Image - Shape: (32, 32, 3)\n",
      "Label - Label Id: 9 Name: truck\n"
     ]
    },
    {
     "data": {
      "image/png": "[encoded data removed]",
      "text/plain": [
       "<Figure size 432x288 with 1 Axes>"
      ]
     },
     "metadata": {
      "image/png": {
       "height": 248,
       "width": 251
      },
      "needs_background": "light"
     },
     "output_type": "display_data"
    }
   ],
   "source": [
    "%matplotlib inline\n",
    "%config InlineBackend.figure_format = 'retina'\n",
    "\n",
    "import helper\n",
    "import numpy as np\n",
    "\n",
    "# Explore the dataset\n",
    "batch_id = 1\n",
    "sample_id = 1\n",
    "helper.display_stats(cifar10_dataset_folder_path, batch_id, sample_id)"
   ]
  },
  {
   "cell_type": "markdown",
   "metadata": {},
   "source": [
    "## Implement Preprocess Functions\n",
    "### Normalize\n",
    "In the cell below, implement the `normalize` function to take in image data, `x`, and return it as a normalized Numpy array. The values should be in the range of 0 to 1, inclusive.  The return object should be the same shape as `x`."
   ]
  },
  {
   "cell_type": "code",
   "execution_count": 254,
   "metadata": {},
   "outputs": [
    {
     "name": "stdout",
     "output_type": "stream",
     "text": [
      "Tests Passed\n"
     ]
    }
   ],
   "source": [
    "def normalize(x):\n",
    "    \"\"\"\n",
    "    Normalize a list of sample image data in the range of 0 to 1\n",
    "    : x: List of image data.  The image shape is (32, 32, 3)\n",
    "    : return: Numpy array of normalize data\n",
    "    \"\"\"\n",
    "    # TODO: Implement Function\n",
    "\n",
    "    output_range_min = 0.0\n",
    "    output_range_max = 1.0\n",
    "    output_range_diff = output_range_max - output_range_min\n",
    "    image_data_min = 0.0\n",
    "    image_data_max = 255\n",
    "    image_data_range_diff = image_data_max - image_data_min\n",
    "    \n",
    "    normalized_image_data = output_range_min + (x - image_data_min)*output_range_diff / image_data_range_diff\n",
    "    \n",
    "    return normalized_image_data\n",
    "\n",
    "\"\"\"\n",
    "DON'T MODIFY ANYTHING IN THIS CELL THAT IS BELOW THIS LINE\n",
    "\"\"\"\n",
    "tests.test_normalize(normalize)"
   ]
  },
  {
   "cell_type": "markdown",
   "metadata": {},
   "source": [
    "### One-hot encode\n",
    "Just like the previous code cell, you'll be implementing a function for preprocessing.  This time, you'll implement the `one_hot_encode` function. The input, `x`, are a list of labels.  Implement the function to return the list of labels as One-Hot encoded Numpy array.  The possible values for labels are 0 to 9. The one-hot encoding function should return the same encoding for each value between each call to `one_hot_encode`.  Make sure to save the map of encodings outside the function.\n",
    "\n",
    "Hint: Don't reinvent the wheel."
   ]
  },
  {
   "cell_type": "code",
   "execution_count": 295,
   "metadata": {},
   "outputs": [
    {
     "name": "stdout",
     "output_type": "stream",
     "text": [
      "[[1]\n",
      " [0]]\n"
     ]
    }
   ],
   "source": [
    "# Hamid: This cell is my own test unit *** please ignore it\n",
    "from sklearn import preprocessing\n",
    "\n",
    "lb = preprocessing.LabelBinarizer()\n",
    "lb.fit(range(0, 2))\n",
    "\n",
    "# print(lb.classes_)\n",
    "print(lb.transform([1, 0]))"
   ]
  },
  {
   "cell_type": "code",
   "execution_count": 256,
   "metadata": {},
   "outputs": [
    {
     "name": "stdout",
     "output_type": "stream",
     "text": [
      "Tests Passed\n"
     ]
    }
   ],
   "source": [
    "from sklearn import preprocessing\n",
    "\n",
    "lb = preprocessing.LabelBinarizer()\n",
    "lb.fit(range(0, 10))\n",
    "\n",
    "def one_hot_encode(x):\n",
    "    \"\"\"\n",
    "    One hot encode a list of sample labels. Return a one-hot encoded vector for each label.\n",
    "    : x: List of sample Labels\n",
    "    : return: Numpy array of one-hot encoded labels\n",
    "    \"\"\"\n",
    "    # TODO: Implement Function\n",
    "    \n",
    "    return lb.transform(x)\n",
    "\n",
    "\n",
    "\"\"\"\n",
    "DON'T MODIFY ANYTHING IN THIS CELL THAT IS BELOW THIS LINE\n",
    "\"\"\"\n",
    "tests.test_one_hot_encode(one_hot_encode)"
   ]
  },
  {
   "cell_type": "code",
   "execution_count": null,
   "metadata": {},
   "outputs": [],
   "source": []
  },
  {
   "cell_type": "markdown",
   "metadata": {},
   "source": [
    "### Randomize Data\n",
    "As you saw from exploring the data above, the order of the samples are randomized.  It doesn't hurt to randomize it again, but you don't need to for this dataset."
   ]
  },
  {
   "cell_type": "markdown",
   "metadata": {},
   "source": [
    "## Preprocess all the data and save it\n",
    "Running the code cell below will preprocess all the CIFAR-10 data and save it to file. The code below also uses 10% of the training data for validation."
   ]
  },
  {
   "cell_type": "code",
   "execution_count": 257,
   "metadata": {},
   "outputs": [],
   "source": [
    "\"\"\"\n",
    "DON'T MODIFY ANYTHING IN THIS CELL\n",
    "\"\"\"\n",
    "# Preprocess Training, Validation, and Testing Data\n",
    "helper.preprocess_and_save_data(cifar10_dataset_folder_path, normalize, one_hot_encode)"
   ]
  },
  {
   "cell_type": "markdown",
   "metadata": {},
   "source": [
    "# Check Point\n",
    "This is your first checkpoint.  If you ever decide to come back to this notebook or have to restart the notebook, you can start from here.  The preprocessed data has been saved to disk."
   ]
  },
  {
   "cell_type": "code",
   "execution_count": 286,
   "metadata": {},
   "outputs": [],
   "source": [
    "\"\"\"\n",
    "DON'T MODIFY ANYTHING IN THIS CELL\n",
    "\"\"\"\n",
    "import pickle\n",
    "import problem_unittests as tests\n",
    "import helper\n",
    "\n",
    "# Load the Preprocessed Validation data\n",
    "valid_features, valid_labels = pickle.load(open('preprocess_validation.p', mode='rb'))"
   ]
  },
  {
   "cell_type": "code",
   "execution_count": 288,
   "metadata": {},
   "outputs": [
    {
     "data": {
      "text/plain": [
       "(5000, 32, 32, 3)"
      ]
     },
     "execution_count": 288,
     "metadata": {},
     "output_type": "execute_result"
    }
   ],
   "source": [
    "valid_features.shape"
   ]
  },
  {
   "cell_type": "markdown",
   "metadata": {},
   "source": [
    "## Build the network\n",
    "For the neural network, you'll build each layer into a function.  Most of the code you've seen has been outside of functions. To test your code more thoroughly, we require that you put each layer in a function.  This allows us to give you better feedback and test for simple mistakes using our unittests before you submit your project.\n",
    "\n",
    ">**Note:** If you're finding it hard to dedicate enough time for this course each week, we've provided a small shortcut to this part of the project. In the next couple of problems, you'll have the option to use classes from the [TensorFlow Layers](https://www.tensorflow.org/api_docs/python/tf/layers) or [TensorFlow Layers (contrib)](https://www.tensorflow.org/api_guides/python/contrib.layers) packages to build each layer, except the layers you build in the \"Convolutional and Max Pooling Layer\" section.  TF Layers is similar to Keras's and TFLearn's abstraction to layers, so it's easy to pickup.\n",
    "\n",
    ">However, if you would like to get the most out of this course, try to solve all the problems _without_ using anything from the TF Layers packages. You **can** still use classes from other packages that happen to have the same name as ones you find in TF Layers! For example, instead of using the TF Layers version of the `conv2d` class, [tf.layers.conv2d](https://www.tensorflow.org/api_docs/python/tf/layers/conv2d), you would want to use the TF Neural Network version of `conv2d`, [tf.nn.conv2d](https://www.tensorflow.org/api_docs/python/tf/nn/conv2d). \n",
    "\n",
    "Let's begin!\n",
    "\n",
    "### Input\n",
    "The neural network needs to read the image data, one-hot encoded labels, and dropout keep probability. Implement the following functions\n",
    "* Implement `neural_net_image_input`\n",
    " * Return a [TF Placeholder](https://www.tensorflow.org/api_docs/python/tf/placeholder)\n",
    " * Set the shape using `image_shape` with batch size set to `None`.\n",
    " * Name the TensorFlow placeholder \"x\" using the TensorFlow `name` parameter in the [TF Placeholder](https://www.tensorflow.org/api_docs/python/tf/placeholder).\n",
    "* Implement `neural_net_label_input`\n",
    " * Return a [TF Placeholder](https://www.tensorflow.org/api_docs/python/tf/placeholder)\n",
    " * Set the shape using `n_classes` with batch size set to `None`.\n",
    " * Name the TensorFlow placeholder \"y\" using the TensorFlow `name` parameter in the [TF Placeholder](https://www.tensorflow.org/api_docs/python/tf/placeholder).\n",
    "* Implement `neural_net_keep_prob_input`\n",
    " * Return a [TF Placeholder](https://www.tensorflow.org/api_docs/python/tf/placeholder) for dropout keep probability.\n",
    " * Name the TensorFlow placeholder \"keep_prob\" using the TensorFlow `name` parameter in the [TF Placeholder](https://www.tensorflow.org/api_docs/python/tf/placeholder).\n",
    "\n",
    "These names will be used at the end of the project to load your saved model.\n",
    "\n",
    "Note: `None` for shapes in TensorFlow allow for a dynamic size."
   ]
  },
  {
   "cell_type": "code",
   "execution_count": 259,
   "metadata": {},
   "outputs": [
    {
     "name": "stdout",
     "output_type": "stream",
     "text": [
      "Image Input Tests Passed.\n",
      "Label Input Tests Passed.\n",
      "Keep Prob Tests Passed.\n"
     ]
    }
   ],
   "source": [
    "import tensorflow as tf\n",
    "\n",
    "def neural_net_image_input(image_shape):\n",
    "    \"\"\"\n",
    "    Return a Tensor for a batch of image input\n",
    "    : image_shape: Shape of the images\n",
    "    : return: Tensor for image input.\n",
    "    \"\"\"\n",
    "    # TODO: Implement Function\n",
    "\n",
    "    x = tf.placeholder(dtype = tf.float32, shape = [None, image_shape[0], image_shape[1], image_shape[2]], name=\"x\")\n",
    "    \n",
    "    return x\n",
    "\n",
    "\n",
    "def neural_net_label_input(n_classes):\n",
    "    \"\"\"\n",
    "    Return a Tensor for a batch of label input\n",
    "    : n_classes: Number of classes\n",
    "    : return: Tensor for label input.\n",
    "    \"\"\"\n",
    "    # TODO: Implement Function\n",
    "\n",
    "    y = tf.placeholder(dtype = tf.float32, shape = [None, n_classes], name=\"y\")\n",
    "\n",
    "    return y\n",
    "\n",
    "\n",
    "def neural_net_keep_prob_input():\n",
    "    \"\"\"\n",
    "    Return a Tensor for keep probability\n",
    "    : return: Tensor for keep probability.\n",
    "    \"\"\"\n",
    "    # TODO: Implement Function\n",
    "    \n",
    "    keep_prob = tf.placeholder(dtype = tf.float32, name=\"keep_prob\")\n",
    "\n",
    "    return keep_prob\n",
    "\n",
    "\n",
    "\"\"\"\n",
    "DON'T MODIFY ANYTHING IN THIS CELL THAT IS BELOW THIS LINE\n",
    "\"\"\"\n",
    "tf.reset_default_graph()\n",
    "tests.test_nn_image_inputs(neural_net_image_input)\n",
    "tests.test_nn_label_inputs(neural_net_label_input)\n",
    "tests.test_nn_keep_prob_inputs(neural_net_keep_prob_input)"
   ]
  },
  {
   "cell_type": "markdown",
   "metadata": {},
   "source": [
    "### Convolution and Max Pooling Layer\n",
    "Convolution layers have a lot of success with images. For this code cell, you should implement the function `conv2d_maxpool` to apply convolution then max pooling:\n",
    "* Create the weight and bias using `conv_ksize`, `conv_num_outputs` and the shape of `x_tensor`.\n",
    "* Apply a convolution to `x_tensor` using weight and `conv_strides`.\n",
    " * We recommend you use same padding, but you're welcome to use any padding.\n",
    "* Add bias\n",
    "* Add a nonlinear activation to the convolution.\n",
    "* Apply Max Pooling using `pool_ksize` and `pool_strides`.\n",
    " * We recommend you use same padding, but you're welcome to use any padding.\n",
    "\n",
    "**Note:** You **can't** use [TensorFlow Layers](https://www.tensorflow.org/api_docs/python/tf/layers) or [TensorFlow Layers (contrib)](https://www.tensorflow.org/api_guides/python/contrib.layers) for **this** layer, but you can still use TensorFlow's [Neural Network](https://www.tensorflow.org/api_docs/python/tf/nn) package. You may still use the shortcut option for all the **other** layers."
   ]
  },
  {
   "cell_type": "code",
   "execution_count": 260,
   "metadata": {},
   "outputs": [
    {
     "name": "stdout",
     "output_type": "stream",
     "text": [
      "conv2d_maxpool... Start\n",
      "Cheking inputs dimensions... \n",
      "conv_ksize:  (2, 2)\n",
      "conv_num_outputs:  10\n",
      "WARNING:tensorflow:From C:\\ProgramData\\Anaconda3\\lib\\site-packages\\tensorflow\\python\\framework\\op_def_library.py:263: colocate_with (from tensorflow.python.framework.ops) is deprecated and will be removed in a future version.\n",
      "Instructions for updating:\n",
      "Colocations handled automatically by placer.\n",
      "Cheking strides dimensions... \n",
      "conv_strides:  (1, 4, 4, 1)\n",
      "pool_ksize:  (1, 2, 2, 1)\n",
      "pool_strides (1, 2, 2, 1)\n",
      "conv2d_maxpool... End\n",
      "Tests Passed\n"
     ]
    }
   ],
   "source": [
    "def conv2d_maxpool(x_tensor, conv_num_outputs, conv_ksize, conv_strides, pool_ksize, pool_strides):\n",
    "    \"\"\"\n",
    "    Apply convolution then max pooling to x_tensor\n",
    "    :param x_tensor: TensorFlow Tensor\n",
    "    :param conv_num_outputs: Number of outputs for the convolutional layer\n",
    "    :param conv_ksize: kernal size 2-D Tuple for the convolutional layer\n",
    "    :param conv_strides: Stride 2-D Tuple for convolution\n",
    "    :param pool_ksize: kernal size 2-D Tuple for pool\n",
    "    :param pool_strides: Stride 2-D Tuple for pool\n",
    "    : return: A tensor that represents convolution and max pooling of x_tensor\n",
    "    \"\"\"\n",
    "    # TODO: Implement Function\n",
    "    \n",
    "    #conv_layer = tf.nn.conv2d(input, weight, strides, padding)\n",
    "\n",
    "    print(\"conv2d_maxpool... Start\")\n",
    "    print(\"Cheking inputs dimensions... \")\n",
    "    print('conv_ksize: ', conv_ksize)\n",
    "    print('conv_num_outputs: ', conv_num_outputs)\n",
    "    #print(x_tensor)\n",
    "    \n",
    "    input_depth = x_tensor.get_shape().as_list()[3]\n",
    "    \n",
    "    # weight = tf.Variable(tf.truncated_normal([filter_size_height, filter_size_width, color_channels, k_output]))\n",
    "    # bias = tf.Variable(tf.zeros(k_output))\n",
    "    # [batch, height, width, channels]\n",
    "\n",
    "    \"\"\"\n",
    "    truncated_normal(\n",
    "    shape,\n",
    "    mean=0.0,\n",
    "    stddev=1.0,\n",
    "    dtype=tf.float32,\n",
    "    seed=None,\n",
    "    name=None\n",
    "    )\n",
    "    \"\"\"\n",
    "    \n",
    "    weights = tf.Variable(tf.truncated_normal(shape=[conv_ksize[0], conv_ksize[1], input_depth, conv_num_outputs],\n",
    "                         mean=0.0, stddev=0.05))\n",
    "    biases = tf.Variable(tf.zeros(conv_num_outputs))\n",
    "    conv_strides = (1, conv_strides[0], conv_strides[1], 1)\n",
    "    pool_ksize = (1, pool_ksize[0], pool_ksize[1], 1)\n",
    "    pool_strides = (1, pool_strides[0], pool_strides[1], 1)\n",
    "\n",
    "    print(\"Cheking strides dimensions... \")\n",
    "    print('conv_strides: ', conv_strides)\n",
    "    print('pool_ksize: ', pool_ksize)\n",
    "    print('pool_strides', pool_strides)\n",
    "\n",
    "    conv_layer = tf.nn.conv2d(x_tensor, weights, conv_strides, 'SAME')\n",
    "    conv_layer = tf.nn.bias_add(conv_layer, biases)\n",
    "    conv_layer = tf.nn.max_pool(conv_layer, ksize=pool_ksize, strides=pool_strides, padding='SAME')\n",
    "    conv_layer = tf.nn.relu(conv_layer)\n",
    "    \n",
    "    #H1: conv_layer = tf.nn.max_pool(conv_layer, ksize=pool_ksize, strides=pool_strides, padding='SAME')\n",
    "    \n",
    "    print(\"conv2d_maxpool... End\")\n",
    "    return conv_layer\n",
    "\n",
    "\n",
    "\"\"\"\n",
    "DON'T MODIFY ANYTHING IN THIS CELL THAT IS BELOW THIS LINE\n",
    "\"\"\"\n",
    "tests.test_con_pool(conv2d_maxpool)"
   ]
  },
  {
   "cell_type": "markdown",
   "metadata": {},
   "source": [
    "### Flatten Layer\n",
    "Implement the `flatten` function to change the dimension of `x_tensor` from a 4-D tensor to a 2-D tensor.  The output should be the shape (*Batch Size*, *Flattened Image Size*). Shortcut option: you can use classes from the [TensorFlow Layers](https://www.tensorflow.org/api_docs/python/tf/layers) or [TensorFlow Layers (contrib)](https://www.tensorflow.org/api_guides/python/contrib.layers) packages for this layer. For more of a challenge, only use other TensorFlow packages."
   ]
  },
  {
   "cell_type": "code",
   "execution_count": 261,
   "metadata": {},
   "outputs": [
    {
     "name": "stdout",
     "output_type": "stream",
     "text": [
      "\n",
      "WARNING: The TensorFlow contrib module will not be included in TensorFlow 2.0.\n",
      "For more information, please see:\n",
      "  * https://github.com/tensorflow/community/blob/master/rfcs/20180907-contrib-sunset.md\n",
      "  * https://github.com/tensorflow/addons\n",
      "If you depend on functionality not listed there, please file an issue.\n",
      "\n",
      "WARNING:tensorflow:From C:\\ProgramData\\Anaconda3\\lib\\site-packages\\tensorflow\\contrib\\layers\\python\\layers\\layers.py:1624: flatten (from tensorflow.python.layers.core) is deprecated and will be removed in a future version.\n",
      "Instructions for updating:\n",
      "Use keras.layers.flatten instead.\n",
      "Tests Passed\n"
     ]
    }
   ],
   "source": [
    "def flatten(x_tensor):\n",
    "    \"\"\"\n",
    "    Flatten x_tensor to (Batch Size, Flattened Image Size)\n",
    "    : x_tensor: A tensor of size (Batch Size, ...), where ... are the image dimensions.\n",
    "    : return: A tensor of size (Batch Size, Flattened Image Size).\n",
    "    \"\"\"\n",
    "    # TODO: Implement Function\n",
    "    \n",
    "    #print(x_tensor)\n",
    "    \n",
    "    output_tensor = tf.contrib.layers.flatten(x_tensor)\n",
    "    \n",
    "    #print(output_tensor)\n",
    "    \n",
    "    return output_tensor\n",
    "\n",
    "\n",
    "\"\"\"\n",
    "DON'T MODIFY ANYTHING IN THIS CELL THAT IS BELOW THIS LINE\n",
    "\"\"\"\n",
    "tests.test_flatten(flatten)"
   ]
  },
  {
   "cell_type": "markdown",
   "metadata": {},
   "source": [
    "### Fully-Connected Layer\n",
    "Implement the `fully_conn` function to apply a fully connected layer to `x_tensor` with the shape (*Batch Size*, *num_outputs*). Shortcut option: you can use classes from the [TensorFlow Layers](https://www.tensorflow.org/api_docs/python/tf/layers) or [TensorFlow Layers (contrib)](https://www.tensorflow.org/api_guides/python/contrib.layers) packages for this layer. For more of a challenge, only use other TensorFlow packages."
   ]
  },
  {
   "cell_type": "code",
   "execution_count": 262,
   "metadata": {},
   "outputs": [
    {
     "name": "stdout",
     "output_type": "stream",
     "text": [
      "Tests Passed\n"
     ]
    }
   ],
   "source": [
    "def fully_conn(x_tensor, num_outputs):\n",
    "    \"\"\"\n",
    "    Apply a fully connected layer to x_tensor using weight and bias\n",
    "    : x_tensor: A 2-D tensor where the first dimension is batch size.\n",
    "    : num_outputs: The number of output that the new tensor should be.\n",
    "    : return: A 2-D tensor where the second dimension is num_outputs.\n",
    "    \"\"\"\n",
    "    # TODO: Implement Function\n",
    "    \n",
    "    #print(x_tensor)\n",
    "    #print(num_outputs)\n",
    "    \n",
    "    \"\"\"\n",
    "    fully_connected(\n",
    "    inputs,\n",
    "    num_outputs,\n",
    "    activation_fn=tf.nn.relu,\n",
    "    normalizer_fn=None,\n",
    "    normalizer_params=None,\n",
    "    weights_initializer=initializers.xavier_initializer(),\n",
    "    weights_regularizer=None,\n",
    "    biases_initializer=tf.zeros_initializer(),\n",
    "    biases_regularizer=None,\n",
    "    reuse=None,\n",
    "    variables_collections=None,\n",
    "    outputs_collections=None,\n",
    "    trainable=True,\n",
    "    scope=None\n",
    "    )\n",
    "    \"\"\"\n",
    "    \n",
    "    output_tensor = tf.contrib.layers.fully_connected(x_tensor, num_outputs, activation_fn=tf.nn.relu)\n",
    "    \n",
    "    #print(output_tensor)\n",
    "    \n",
    "    return output_tensor\n",
    "\n",
    "\n",
    "\"\"\"\n",
    "DON'T MODIFY ANYTHING IN THIS CELL THAT IS BELOW THIS LINE\n",
    "\"\"\"\n",
    "tests.test_fully_conn(fully_conn)"
   ]
  },
  {
   "cell_type": "markdown",
   "metadata": {},
   "source": [
    "### Output Layer\n",
    "Implement the `output` function to apply a fully connected layer to `x_tensor` with the shape (*Batch Size*, *num_outputs*). Shortcut option: you can use classes from the [TensorFlow Layers](https://www.tensorflow.org/api_docs/python/tf/layers) or [TensorFlow Layers (contrib)](https://www.tensorflow.org/api_guides/python/contrib.layers) packages for this layer. For more of a challenge, only use other TensorFlow packages.\n",
    "\n",
    "**Note:** Activation, softmax, or cross entropy should **not** be applied to this."
   ]
  },
  {
   "cell_type": "code",
   "execution_count": 263,
   "metadata": {},
   "outputs": [
    {
     "name": "stdout",
     "output_type": "stream",
     "text": [
      "Tests Passed\n"
     ]
    }
   ],
   "source": [
    "def output(x_tensor, num_outputs):\n",
    "    \"\"\"\n",
    "    Apply a output layer to x_tensor using weight and bias\n",
    "    : x_tensor: A 2-D tensor where the first dimension is batch size.\n",
    "    : num_outputs: The number of output that the new tensor should be.\n",
    "    : return: A 2-D tensor where the second dimension is num_outputs.\n",
    "    \"\"\"\n",
    "    # TODO: Implement Function\n",
    "\n",
    "    output_tensor = tf.contrib.layers.fully_connected(x_tensor, num_outputs, activation_fn=None)\n",
    "    \n",
    "    #print(output_tensor)\n",
    "    \n",
    "    return output_tensor\n",
    "\n",
    "\"\"\"\n",
    "DON'T MODIFY ANYTHING IN THIS CELL THAT IS BELOW THIS LINE\n",
    "\"\"\"\n",
    "tests.test_output(output)"
   ]
  },
  {
   "cell_type": "markdown",
   "metadata": {},
   "source": [
    "### Create Convolutional Model\n",
    "Implement the function `conv_net` to create a convolutional neural network model. The function takes in a batch of images, `x`, and outputs logits.  Use the layers you created above to create this model:\n",
    "\n",
    "* Apply 1, 2, or 3 Convolution and Max Pool layers\n",
    "* Apply a Flatten Layer\n",
    "* Apply 1, 2, or 3 Fully Connected Layers\n",
    "* Apply an Output Layer\n",
    "* Return the output\n",
    "* Apply [TensorFlow's Dropout](https://www.tensorflow.org/api_docs/python/tf/nn/dropout) to one or more layers in the model using `keep_prob`. "
   ]
  },
  {
   "cell_type": "code",
   "execution_count": 296,
   "metadata": {},
   "outputs": [
    {
     "name": "stdout",
     "output_type": "stream",
     "text": [
      "conv2d_maxpool... Start\n",
      "Cheking inputs dimensions... \n",
      "conv_ksize:  (32, 32)\n",
      "conv_num_outputs:  32\n",
      "Cheking strides dimensions... \n",
      "conv_strides:  (1, 1, 1, 1)\n",
      "pool_ksize:  (1, 3, 3, 1)\n",
      "pool_strides (1, 1, 1, 1)\n",
      "conv2d_maxpool... End\n",
      "conv2d_maxpool... Start\n",
      "Cheking inputs dimensions... \n",
      "conv_ksize:  (32, 32)\n",
      "conv_num_outputs:  64\n",
      "Cheking strides dimensions... \n",
      "conv_strides:  (1, 1, 1, 1)\n",
      "pool_ksize:  (1, 3, 3, 1)\n",
      "pool_strides (1, 1, 1, 1)\n",
      "conv2d_maxpool... End\n",
      "conv2d_maxpool... Start\n",
      "Cheking inputs dimensions... \n",
      "conv_ksize:  (32, 32)\n",
      "conv_num_outputs:  64\n",
      "Cheking strides dimensions... \n",
      "conv_strides:  (1, 1, 1, 1)\n",
      "pool_ksize:  (1, 3, 3, 1)\n",
      "pool_strides (1, 1, 1, 1)\n",
      "conv2d_maxpool... End\n",
      "conv2d_maxpool... Start\n",
      "Cheking inputs dimensions... \n",
      "conv_ksize:  (32, 32)\n",
      "conv_num_outputs:  32\n",
      "Cheking strides dimensions... \n",
      "conv_strides:  (1, 1, 1, 1)\n",
      "pool_ksize:  (1, 3, 3, 1)\n",
      "pool_strides (1, 1, 1, 1)\n",
      "conv2d_maxpool... End\n",
      "conv2d_maxpool... Start\n",
      "Cheking inputs dimensions... \n",
      "conv_ksize:  (32, 32)\n",
      "conv_num_outputs:  64\n",
      "Cheking strides dimensions... \n",
      "conv_strides:  (1, 1, 1, 1)\n",
      "pool_ksize:  (1, 3, 3, 1)\n",
      "pool_strides (1, 1, 1, 1)\n",
      "conv2d_maxpool... End\n",
      "conv2d_maxpool... Start\n",
      "Cheking inputs dimensions... \n",
      "conv_ksize:  (32, 32)\n",
      "conv_num_outputs:  64\n",
      "Cheking strides dimensions... \n",
      "conv_strides:  (1, 1, 1, 1)\n",
      "pool_ksize:  (1, 3, 3, 1)\n",
      "pool_strides (1, 1, 1, 1)\n",
      "conv2d_maxpool... End\n",
      "Neural Network Built!\n"
     ]
    }
   ],
   "source": [
    "def conv_net(x, keep_prob):\n",
    "    \"\"\"\n",
    "    Create a convolutional neural network model\n",
    "    : x: Placeholder tensor that holds image data.\n",
    "    : keep_prob: Placeholder tensor that hold dropout keep probability.\n",
    "    : return: Tensor that represents logits\n",
    "    \"\"\"\n",
    "    # TODO: Apply 1, 2, or 3 Convolution and Max Pool layers\n",
    "    #    Play around with different number of outputs, kernel size and stride\n",
    "    # Function Definition from Above:\n",
    "    #    conv2d_maxpool(x_tensor, conv_num_outputs, conv_ksize, conv_strides, pool_ksize, pool_strides)\n",
    "    \n",
    "    #print(x)\n",
    "    #print(keep_prob)\n",
    "    \n",
    "    conv_ksize = (32, 32)  # output layers dimensions\n",
    "    conv_strides = (1, 1)\n",
    "    pool_ksize = (3, 3)  # Filter kernel/patch dimensions \n",
    "    pool_strides = (1, 1)\n",
    "\n",
    "    #conv_layer = conv2d_maxpool(x, conv_num_outputs, conv_ksize, conv_strides, pool_ksize, pool_strides)\n",
    "    conv_num_outputs = 32\n",
    "    conv_layer = conv2d_maxpool(x, conv_num_outputs, conv_ksize, conv_strides, pool_ksize, pool_strides)\n",
    "    \n",
    "    conv_ksize = (32, 32)  # output layers dimensions\n",
    "    conv_num_outputs = 64\n",
    "    conv_layer = conv2d_maxpool(x, conv_num_outputs, conv_ksize, conv_strides, pool_ksize, pool_strides)\n",
    "    \n",
    "    conv_ksize = (32, 32)  # output layers dimensions\n",
    "    conv_num_outputs = 64\n",
    "    conv_layer = conv2d_maxpool(x, conv_num_outputs, conv_ksize, conv_strides, pool_ksize, pool_strides)\n",
    "\n",
    "    #conv_ksize = (10, 10)  # output layers dimensions\n",
    "    #pool_ksize = (2, 2)  # Filter kernel/patch dimensions \n",
    "    #conv_num_outputs = 24\n",
    "    #conv_layer = conv2d_maxpool(x, conv_num_outputs, conv_ksize, conv_strides, pool_ksize, pool_strides)\n",
    "\n",
    "    # TODO: Apply a Flatten Layer\n",
    "    # Function Definition from Above:\n",
    "    x_tensor = flatten(x)\n",
    "\n",
    "    # TODO: Apply 1, 2, or 3 Fully Connected Layers\n",
    "    #    Play around with different number of outputs\n",
    "    # Function Definition from Above:\n",
    "    # fully_conn(x_tensor, num_outputs)\n",
    "\n",
    "    x_tensor = tf.layers.batch_normalization(x_tensor)\n",
    "    x_tensor = fully_conn(x_tensor, 512)\n",
    "    x_tensor = tf.layers.batch_normalization(x_tensor)\n",
    "    x_tensor = fully_conn(x_tensor, 256)\n",
    "    x_tensor = tf.nn.dropout(x_tensor, keep_prob)\n",
    "    x_tensor = fully_conn(x_tensor, 128)\n",
    "\n",
    "    #x_tensor = tf.nn.dropout(x_tensor, keep_prob)\n",
    "    \n",
    "    # TODO: Apply an Output Layer\n",
    "    #    Set this to the number of classes\n",
    "    # Function Definition from Above:\n",
    "    # output(x_tensor, num_outputs)\n",
    "    output_tensor = output(x_tensor, 10)\n",
    "    \n",
    "    # TODO: return output\n",
    "    return output_tensor\n",
    "\n",
    "\n",
    "\"\"\"\n",
    "DON'T MODIFY ANYTHING IN THIS CELL THAT IS BELOW THIS LINE\n",
    "\"\"\"\n",
    "\n",
    "##############################\n",
    "## Build the Neural Network ##\n",
    "##############################\n",
    "\n",
    "# Remove previous weights, bias, inputs, etc..\n",
    "tf.reset_default_graph()\n",
    "\n",
    "# Inputs\n",
    "x = neural_net_image_input((32, 32, 3))\n",
    "y = neural_net_label_input(10)\n",
    "keep_prob = neural_net_keep_prob_input()\n",
    "\n",
    "# Model\n",
    "logits = conv_net(x, keep_prob)\n",
    "\n",
    "# Name logits Tensor, so that is can be loaded from disk after training\n",
    "logits = tf.identity(logits, name='logits')\n",
    "\n",
    "# Loss and Optimizer\n",
    "cost = tf.reduce_mean(tf.nn.softmax_cross_entropy_with_logits_v2(logits=logits, labels=y))\n",
    "optimizer = tf.train.AdamOptimizer().minimize(cost)\n",
    "\n",
    "# Accuracy\n",
    "correct_pred = tf.equal(tf.argmax(logits, 1), tf.argmax(y, 1))\n",
    "accuracy = tf.reduce_mean(tf.cast(correct_pred, tf.float32), name='accuracy')\n",
    "\n",
    "tests.test_conv_net(conv_net)"
   ]
  },
  {
   "cell_type": "markdown",
   "metadata": {},
   "source": [
    "## Train the Neural Network\n",
    "### Single Optimization\n",
    "Implement the function `train_neural_network` to do a single optimization.  The optimization should use `optimizer` to optimize in `session` with a `feed_dict` of the following:\n",
    "* `x` for image input\n",
    "* `y` for labels\n",
    "* `keep_prob` for keep probability for dropout\n",
    "\n",
    "This function will be called for each batch, so `tf.global_variables_initializer()` has already been called.\n",
    "\n",
    "Note: Nothing needs to be returned. This function is only optimizing the neural network."
   ]
  },
  {
   "cell_type": "code",
   "execution_count": null,
   "metadata": {},
   "outputs": [],
   "source": []
  },
  {
   "cell_type": "code",
   "execution_count": 265,
   "metadata": {},
   "outputs": [
    {
     "name": "stdout",
     "output_type": "stream",
     "text": [
      "Tests Passed\n"
     ]
    }
   ],
   "source": [
    "def train_neural_network(session, optimizer, keep_probability, feature_batch, label_batch):\n",
    "    \"\"\"\n",
    "    Optimize the session on a batch of images and labels\n",
    "    : session: Current TensorFlow session\n",
    "    : optimizer: TensorFlow optimizer function\n",
    "    : keep_probability: keep probability\n",
    "    : feature_batch: Batch of Numpy image data\n",
    "    : label_batch: Batch of Numpy label data\n",
    "    \"\"\"\n",
    "    # TODO: Implement Function\n",
    "    \n",
    "    # batch_size.shape  ->  (128, 32, 32, 3)\n",
    "    # label_batch.shape  ->  (128, 10)\n",
    "    \n",
    "    session.run(optimizer, feed_dict={x: feature_batch, y: label_batch, keep_prob: keep_probability})\n",
    "    \n",
    "\n",
    "\"\"\"\n",
    "DON'T MODIFY ANYTHING IN THIS CELL THAT IS BELOW THIS LINE\n",
    "\"\"\"\n",
    "tests.test_train_nn(train_neural_network)"
   ]
  },
  {
   "cell_type": "markdown",
   "metadata": {},
   "source": [
    "### Show Stats\n",
    "Implement the function `print_stats` to print loss and validation accuracy.  Use the global variables `valid_features` and `valid_labels` to calculate validation accuracy.  Use a keep probability of `1.0` to calculate the loss and validation accuracy."
   ]
  },
  {
   "cell_type": "code",
   "execution_count": 266,
   "metadata": {},
   "outputs": [],
   "source": [
    "def print_stats(session, feature_batch, label_batch, cost, accuracy):\n",
    "    \"\"\"\n",
    "    Print information about loss and validation accuracy\n",
    "    : session: Current TensorFlow session\n",
    "    : feature_batch: Batch of Numpy image data\n",
    "    : label_batch: Batch of Numpy label data\n",
    "    : cost: TensorFlow cost function\n",
    "    : accuracy: TensorFlow accuracy function\n",
    "    \"\"\"\n",
    "    \n",
    "    #print(cost)\n",
    "    #print(accuracy)\n",
    "    \n",
    "    #correct_prediction = tf.equal(tf.argmax(valid_labels, 1), tf.argmax(label_batch, 1))\n",
    "\n",
    "    test_cost = session.run(cost, feed_dict={x: feature_batch, y: label_batch, keep_prob: 1.0})\n",
    "    valid_accuracy = session.run(accuracy, feed_dict={x: valid_features, y: valid_labels, keep_prob: 1.0})\n",
    "    \n",
    "    print('Test Cost: {}'.format(test_cost), '   ---   Valid Accuracy: {}'.format(valid_accuracy))\n",
    "    #print('Test Accuracy: {}'.format(test_accuracy))\n",
    "\n",
    "    \n",
    "    # TODO: Implement Function\n",
    "    "
   ]
  },
  {
   "cell_type": "markdown",
   "metadata": {},
   "source": [
    "### Hyperparameters\n",
    "Tune the following parameters:\n",
    "* Set `epochs` to the number of iterations until the network stops learning or start overfitting\n",
    "* Set `batch_size` to the highest number that your machine has memory for.  Most people set them to common sizes of memory:\n",
    " * 64\n",
    " * 128\n",
    " * 256\n",
    " * ...\n",
    "* Set `keep_probability` to the probability of keeping a node using dropout"
   ]
  },
  {
   "cell_type": "code",
   "execution_count": 267,
   "metadata": {},
   "outputs": [],
   "source": [
    "# TODO: Tune Parameters\n",
    "epochs = 30\n",
    "batch_size = 128\n",
    "keep_probability = 0.8"
   ]
  },
  {
   "cell_type": "markdown",
   "metadata": {},
   "source": [
    "### Train on a Single CIFAR-10 Batch\n",
    "Instead of training the neural network on all the CIFAR-10 batches of data, let's use a single batch. This should save time while you iterate on the model to get a better accuracy.  Once the final validation accuracy is 50% or greater, run the model on all the data in the next section."
   ]
  },
  {
   "cell_type": "code",
   "execution_count": 277,
   "metadata": {
    "scrolled": true
   },
   "outputs": [
    {
     "name": "stdout",
     "output_type": "stream",
     "text": [
      "Checking the Training on a Single Batch...\n",
      "(128, 32, 32, 3)\n",
      "(128, 10)\n"
     ]
    }
   ],
   "source": [
    "\"\"\"\n",
    "DON'T MODIFY ANYTHING IN THIS CELL\n",
    "\"\"\"\n",
    "print('Checking the Training on a Single Batch...')\n",
    "\n",
    "with tf.Session() as sess:\n",
    "    # Initializing the variables\n",
    "    sess.run(tf.global_variables_initializer())\n",
    "    \n",
    "    # Training cycle\n",
    "    for epoch in range(epochs):\n",
    "        batch_i = 1\n",
    "        for batch_features, batch_labels in helper.load_preprocess_training_batch(batch_i, batch_size):\n",
    "            print(batch_features.shape)\n",
    "            print(batch_labels.shape)\n",
    "            \n",
    "            break\n",
    "            \n",
    "            train_neural_network(sess, optimizer, keep_probability, batch_features, batch_labels)\n",
    "        \n",
    "        break\n",
    "        \n",
    "        print('Epoch {:>2}, CIFAR-10 Batch {}:  '.format(epoch + 1, batch_i), end='')\n",
    "        print_stats(sess, batch_features, batch_labels, cost, accuracy)\n",
    "    \n",
    "    # break"
   ]
  },
  {
   "cell_type": "markdown",
   "metadata": {},
   "source": [
    "### Fully Train the Model\n",
    "Now that you got a good accuracy with a single CIFAR-10 batch, try it with all five batches."
   ]
  },
  {
   "cell_type": "code",
   "execution_count": 20,
   "metadata": {},
   "outputs": [
    {
     "name": "stdout",
     "output_type": "stream",
     "text": [
      "Training...\n",
      "Epoch  1, CIFAR-10 Batch 1:  Test Cost: 2.2165138721466064    ---   Valid Accuracy: 0.28600001335144043\n",
      "Epoch  1, CIFAR-10 Batch 2:  Test Cost: 1.8616816997528076    ---   Valid Accuracy: 0.34779998660087585\n",
      "Epoch  1, CIFAR-10 Batch 3:  Test Cost: 1.7193629741668701    ---   Valid Accuracy: 0.3353999853134155\n",
      "Epoch  1, CIFAR-10 Batch 4:  Test Cost: 1.6640316247940063    ---   Valid Accuracy: 0.3594000041484833\n",
      "Epoch  1, CIFAR-10 Batch 5:  Test Cost: 1.8842222690582275    ---   Valid Accuracy: 0.38420000672340393\n",
      "Epoch  2, CIFAR-10 Batch 1:  Test Cost: 1.956764817237854    ---   Valid Accuracy: 0.3889999985694885\n",
      "Epoch  2, CIFAR-10 Batch 2:  Test Cost: 1.5670435428619385    ---   Valid Accuracy: 0.39320001006126404\n",
      "Epoch  2, CIFAR-10 Batch 3:  Test Cost: 1.530177116394043    ---   Valid Accuracy: 0.37619999051094055\n",
      "Epoch  2, CIFAR-10 Batch 4:  Test Cost: 1.4864485263824463    ---   Valid Accuracy: 0.4113999903202057\n",
      "Epoch  2, CIFAR-10 Batch 5:  Test Cost: 1.7593681812286377    ---   Valid Accuracy: 0.4262000024318695\n",
      "Epoch  3, CIFAR-10 Batch 1:  Test Cost: 1.7955882549285889    ---   Valid Accuracy: 0.41519999504089355\n",
      "Epoch  3, CIFAR-10 Batch 2:  Test Cost: 1.4203517436981201    ---   Valid Accuracy: 0.42239999771118164\n",
      "Epoch  3, CIFAR-10 Batch 3:  Test Cost: 1.3522961139678955    ---   Valid Accuracy: 0.41339999437332153\n",
      "Epoch  3, CIFAR-10 Batch 4:  Test Cost: 1.498530626296997    ---   Valid Accuracy: 0.4300000071525574\n",
      "Epoch  3, CIFAR-10 Batch 5:  Test Cost: 1.6516869068145752    ---   Valid Accuracy: 0.42559999227523804\n",
      "Epoch  4, CIFAR-10 Batch 1:  Test Cost: 1.6637474298477173    ---   Valid Accuracy: 0.42820000648498535\n",
      "Epoch  4, CIFAR-10 Batch 2:  Test Cost: 1.2549803256988525    ---   Valid Accuracy: 0.43799999356269836\n",
      "Epoch  4, CIFAR-10 Batch 3:  Test Cost: 1.2984893321990967    ---   Valid Accuracy: 0.44339999556541443\n",
      "Epoch  4, CIFAR-10 Batch 4:  Test Cost: 1.3824504613876343    ---   Valid Accuracy: 0.44920000433921814\n",
      "Epoch  4, CIFAR-10 Batch 5:  Test Cost: 1.5057814121246338    ---   Valid Accuracy: 0.45399999618530273\n",
      "Epoch  5, CIFAR-10 Batch 1:  Test Cost: 1.6331707239151    ---   Valid Accuracy: 0.4537999927997589\n",
      "Epoch  5, CIFAR-10 Batch 2:  Test Cost: 1.2094770669937134    ---   Valid Accuracy: 0.44859999418258667\n",
      "Epoch  5, CIFAR-10 Batch 3:  Test Cost: 1.1291310787200928    ---   Valid Accuracy: 0.4514000117778778\n",
      "Epoch  5, CIFAR-10 Batch 4:  Test Cost: 1.3065555095672607    ---   Valid Accuracy: 0.46000000834465027\n",
      "Epoch  5, CIFAR-10 Batch 5:  Test Cost: 1.502212643623352    ---   Valid Accuracy: 0.4691999852657318\n",
      "Epoch  6, CIFAR-10 Batch 1:  Test Cost: 1.4640849828720093    ---   Valid Accuracy: 0.4575999975204468\n",
      "Epoch  6, CIFAR-10 Batch 2:  Test Cost: 1.1442562341690063    ---   Valid Accuracy: 0.4726000130176544\n",
      "Epoch  6, CIFAR-10 Batch 3:  Test Cost: 1.0873348712921143    ---   Valid Accuracy: 0.47940000891685486\n",
      "Epoch  6, CIFAR-10 Batch 4:  Test Cost: 1.2587143182754517    ---   Valid Accuracy: 0.47699999809265137\n",
      "Epoch  6, CIFAR-10 Batch 5:  Test Cost: 1.478074073791504    ---   Valid Accuracy: 0.47620001435279846\n",
      "Epoch  7, CIFAR-10 Batch 1:  Test Cost: 1.4473625421524048    ---   Valid Accuracy: 0.4729999899864197\n",
      "Epoch  7, CIFAR-10 Batch 2:  Test Cost: 1.102046012878418    ---   Valid Accuracy: 0.4733999967575073\n",
      "Epoch  7, CIFAR-10 Batch 3:  Test Cost: 1.0184358358383179    ---   Valid Accuracy: 0.47200000286102295\n",
      "Epoch  7, CIFAR-10 Batch 4:  Test Cost: 1.1068446636199951    ---   Valid Accuracy: 0.48579999804496765\n",
      "Epoch  7, CIFAR-10 Batch 5:  Test Cost: 1.3231585025787354    ---   Valid Accuracy: 0.4878000020980835\n",
      "Epoch  8, CIFAR-10 Batch 1:  Test Cost: 1.3286513090133667    ---   Valid Accuracy: 0.4880000054836273\n",
      "Epoch  8, CIFAR-10 Batch 2:  Test Cost: 1.0215768814086914    ---   Valid Accuracy: 0.4812000095844269\n",
      "Epoch  8, CIFAR-10 Batch 3:  Test Cost: 0.9663518667221069    ---   Valid Accuracy: 0.4657999873161316\n",
      "Epoch  8, CIFAR-10 Batch 4:  Test Cost: 1.0539557933807373    ---   Valid Accuracy: 0.48399999737739563\n",
      "Epoch  8, CIFAR-10 Batch 5:  Test Cost: 1.2556836605072021    ---   Valid Accuracy: 0.490200012922287\n",
      "Epoch  9, CIFAR-10 Batch 1:  Test Cost: 1.2317280769348145    ---   Valid Accuracy: 0.4986000061035156\n",
      "Epoch  9, CIFAR-10 Batch 2:  Test Cost: 0.9257829785346985    ---   Valid Accuracy: 0.477400004863739\n",
      "Epoch  9, CIFAR-10 Batch 3:  Test Cost: 0.9336628913879395    ---   Valid Accuracy: 0.48660001158714294\n",
      "Epoch  9, CIFAR-10 Batch 4:  Test Cost: 1.0064032077789307    ---   Valid Accuracy: 0.487199991941452\n",
      "Epoch  9, CIFAR-10 Batch 5:  Test Cost: 1.2400888204574585    ---   Valid Accuracy: 0.49540001153945923\n",
      "Epoch 10, CIFAR-10 Batch 1:  Test Cost: 1.249559760093689    ---   Valid Accuracy: 0.4991999864578247\n",
      "Epoch 10, CIFAR-10 Batch 2:  Test Cost: 0.8837908506393433    ---   Valid Accuracy: 0.4925999939441681\n",
      "Epoch 10, CIFAR-10 Batch 3:  Test Cost: 0.8211900591850281    ---   Valid Accuracy: 0.483599990606308\n",
      "Epoch 10, CIFAR-10 Batch 4:  Test Cost: 1.005422592163086    ---   Valid Accuracy: 0.48660001158714294\n",
      "Epoch 10, CIFAR-10 Batch 5:  Test Cost: 1.2322607040405273    ---   Valid Accuracy: 0.4934000074863434\n",
      "Epoch 11, CIFAR-10 Batch 1:  Test Cost: 1.1470705270767212    ---   Valid Accuracy: 0.5004000067710876\n",
      "Epoch 11, CIFAR-10 Batch 2:  Test Cost: 0.8548173904418945    ---   Valid Accuracy: 0.4997999966144562\n",
      "Epoch 11, CIFAR-10 Batch 3:  Test Cost: 0.8310036659240723    ---   Valid Accuracy: 0.4903999865055084\n",
      "Epoch 11, CIFAR-10 Batch 4:  Test Cost: 0.9178043603897095    ---   Valid Accuracy: 0.4957999885082245\n",
      "Epoch 11, CIFAR-10 Batch 5:  Test Cost: 1.1266154050827026    ---   Valid Accuracy: 0.501800000667572\n",
      "Epoch 12, CIFAR-10 Batch 1:  Test Cost: 1.0903719663619995    ---   Valid Accuracy: 0.5099999904632568\n",
      "Epoch 12, CIFAR-10 Batch 2:  Test Cost: 0.7552958726882935    ---   Valid Accuracy: 0.5070000290870667\n",
      "Epoch 12, CIFAR-10 Batch 3:  Test Cost: 0.7419159412384033    ---   Valid Accuracy: 0.4941999912261963\n",
      "Epoch 12, CIFAR-10 Batch 4:  Test Cost: 0.8823358416557312    ---   Valid Accuracy: 0.48739999532699585\n",
      "Epoch 12, CIFAR-10 Batch 5:  Test Cost: 1.1426656246185303    ---   Valid Accuracy: 0.49160000681877136\n",
      "Epoch 13, CIFAR-10 Batch 1:  Test Cost: 0.9635688662528992    ---   Valid Accuracy: 0.5077999830245972\n",
      "Epoch 13, CIFAR-10 Batch 2:  Test Cost: 0.741649329662323    ---   Valid Accuracy: 0.5049999952316284\n",
      "Epoch 13, CIFAR-10 Batch 3:  Test Cost: 0.7153558135032654    ---   Valid Accuracy: 0.4984000027179718\n",
      "Epoch 13, CIFAR-10 Batch 4:  Test Cost: 0.8152307271957397    ---   Valid Accuracy: 0.49160000681877136\n",
      "Epoch 13, CIFAR-10 Batch 5:  Test Cost: 1.0612045526504517    ---   Valid Accuracy: 0.504800021648407\n",
      "Epoch 14, CIFAR-10 Batch 1:  Test Cost: 1.0125898122787476    ---   Valid Accuracy: 0.5116000175476074\n",
      "Epoch 14, CIFAR-10 Batch 2:  Test Cost: 0.6956135034561157    ---   Valid Accuracy: 0.5040000081062317\n",
      "Epoch 14, CIFAR-10 Batch 3:  Test Cost: 0.6768361330032349    ---   Valid Accuracy: 0.49559998512268066\n",
      "Epoch 14, CIFAR-10 Batch 4:  Test Cost: 0.7777456045150757    ---   Valid Accuracy: 0.4997999966144562\n",
      "Epoch 14, CIFAR-10 Batch 5:  Test Cost: 1.0174720287322998    ---   Valid Accuracy: 0.49639999866485596\n",
      "Epoch 15, CIFAR-10 Batch 1:  Test Cost: 0.9307224154472351    ---   Valid Accuracy: 0.5121999979019165\n",
      "Epoch 15, CIFAR-10 Batch 2:  Test Cost: 0.6802648901939392    ---   Valid Accuracy: 0.5031999945640564\n",
      "Epoch 15, CIFAR-10 Batch 3:  Test Cost: 0.6501916646957397    ---   Valid Accuracy: 0.4934000074863434\n",
      "Epoch 15, CIFAR-10 Batch 4:  Test Cost: 0.7225077152252197    ---   Valid Accuracy: 0.4984000027179718\n",
      "Epoch 15, CIFAR-10 Batch 5:  Test Cost: 0.9156202077865601    ---   Valid Accuracy: 0.5117999911308289\n",
      "Epoch 16, CIFAR-10 Batch 1:  Test Cost: 0.9112226366996765    ---   Valid Accuracy: 0.5171999931335449\n",
      "Epoch 16, CIFAR-10 Batch 2:  Test Cost: 0.6699400544166565    ---   Valid Accuracy: 0.5001999735832214\n",
      "Epoch 16, CIFAR-10 Batch 3:  Test Cost: 0.601253867149353    ---   Valid Accuracy: 0.4869999885559082\n",
      "Epoch 16, CIFAR-10 Batch 4:  Test Cost: 0.7535923719406128    ---   Valid Accuracy: 0.5049999952316284\n",
      "Epoch 16, CIFAR-10 Batch 5:  Test Cost: 0.8951206207275391    ---   Valid Accuracy: 0.5144000053405762\n",
      "Epoch 17, CIFAR-10 Batch 1:  Test Cost: 0.8201066851615906    ---   Valid Accuracy: 0.5167999863624573\n",
      "Epoch 17, CIFAR-10 Batch 2:  Test Cost: 0.6084728240966797    ---   Valid Accuracy: 0.5058000087738037\n",
      "Epoch 17, CIFAR-10 Batch 3:  Test Cost: 0.5292536020278931    ---   Valid Accuracy: 0.5049999952316284\n",
      "Epoch 17, CIFAR-10 Batch 4:  Test Cost: 0.7060728073120117    ---   Valid Accuracy: 0.5072000026702881\n",
      "Epoch 17, CIFAR-10 Batch 5:  Test Cost: 0.9015951156616211    ---   Valid Accuracy: 0.5199999809265137\n",
      "Epoch 18, CIFAR-10 Batch 1:  Test Cost: 0.839641273021698    ---   Valid Accuracy: 0.5145999789237976\n",
      "Epoch 18, CIFAR-10 Batch 2:  Test Cost: 0.5818802118301392    ---   Valid Accuracy: 0.5202000141143799\n",
      "Epoch 18, CIFAR-10 Batch 3:  Test Cost: 0.5388607382774353    ---   Valid Accuracy: 0.506600022315979\n",
      "Epoch 18, CIFAR-10 Batch 4:  Test Cost: 0.6864104866981506    ---   Valid Accuracy: 0.5127999782562256\n",
      "Epoch 18, CIFAR-10 Batch 5:  Test Cost: 0.7870049476623535    ---   Valid Accuracy: 0.5145999789237976\n",
      "Epoch 19, CIFAR-10 Batch 1:  Test Cost: 0.7524703741073608    ---   Valid Accuracy: 0.5224000215530396\n",
      "Epoch 19, CIFAR-10 Batch 2:  Test Cost: 0.536300539970398    ---   Valid Accuracy: 0.5113999843597412\n",
      "Epoch 19, CIFAR-10 Batch 3:  Test Cost: 0.5442339777946472    ---   Valid Accuracy: 0.5080000162124634\n",
      "Epoch 19, CIFAR-10 Batch 4:  Test Cost: 0.6498348712921143    ---   Valid Accuracy: 0.5120000243186951\n",
      "Epoch 19, CIFAR-10 Batch 5:  Test Cost: 0.7879853844642639    ---   Valid Accuracy: 0.5170000195503235\n",
      "Epoch 20, CIFAR-10 Batch 1:  Test Cost: 0.7425659894943237    ---   Valid Accuracy: 0.5212000012397766\n",
      "Epoch 20, CIFAR-10 Batch 2:  Test Cost: 0.5071281790733337    ---   Valid Accuracy: 0.5095999836921692\n",
      "Epoch 20, CIFAR-10 Batch 3:  Test Cost: 0.544109046459198    ---   Valid Accuracy: 0.51419997215271\n",
      "Epoch 20, CIFAR-10 Batch 4:  Test Cost: 0.5719175338745117    ---   Valid Accuracy: 0.5194000005722046\n",
      "Epoch 20, CIFAR-10 Batch 5:  Test Cost: 0.749904453754425    ---   Valid Accuracy: 0.5095999836921692\n",
      "Epoch 21, CIFAR-10 Batch 1:  Test Cost: 0.7878631353378296    ---   Valid Accuracy: 0.5264000296592712\n",
      "Epoch 21, CIFAR-10 Batch 2:  Test Cost: 0.48900946974754333    ---   Valid Accuracy: 0.5070000290870667\n",
      "Epoch 21, CIFAR-10 Batch 3:  Test Cost: 0.45922842621803284    ---   Valid Accuracy: 0.49900001287460327\n",
      "Epoch 21, CIFAR-10 Batch 4:  Test Cost: 0.5975083112716675    ---   Valid Accuracy: 0.5210000276565552\n",
      "Epoch 21, CIFAR-10 Batch 5:  Test Cost: 0.6809048652648926    ---   Valid Accuracy: 0.5105999708175659\n",
      "Epoch 22, CIFAR-10 Batch 1:  Test Cost: 0.7157321572303772    ---   Valid Accuracy: 0.5194000005722046\n",
      "Epoch 22, CIFAR-10 Batch 2:  Test Cost: 0.44642218947410583    ---   Valid Accuracy: 0.5117999911308289\n",
      "Epoch 22, CIFAR-10 Batch 3:  Test Cost: 0.4774302542209625    ---   Valid Accuracy: 0.5076000094413757\n",
      "Epoch 22, CIFAR-10 Batch 4:  Test Cost: 0.5965604186058044    ---   Valid Accuracy: 0.5181999802589417\n",
      "Epoch 22, CIFAR-10 Batch 5:  Test Cost: 0.6665050387382507    ---   Valid Accuracy: 0.5121999979019165\n",
      "Epoch 23, CIFAR-10 Batch 1:  Test Cost: 0.7208171486854553    ---   Valid Accuracy: 0.5221999883651733\n",
      "Epoch 23, CIFAR-10 Batch 2:  Test Cost: 0.4150008261203766    ---   Valid Accuracy: 0.5148000121116638\n",
      "Epoch 23, CIFAR-10 Batch 3:  Test Cost: 0.4604068398475647    ---   Valid Accuracy: 0.49959999322891235\n",
      "Epoch 23, CIFAR-10 Batch 4:  Test Cost: 0.5760369300842285    ---   Valid Accuracy: 0.5239999890327454\n",
      "Epoch 23, CIFAR-10 Batch 5:  Test Cost: 0.6071385145187378    ---   Valid Accuracy: 0.5117999911308289\n",
      "Epoch 24, CIFAR-10 Batch 1:  Test Cost: 0.6775175929069519    ---   Valid Accuracy: 0.5175999999046326\n",
      "Epoch 24, CIFAR-10 Batch 2:  Test Cost: 0.46259862184524536    ---   Valid Accuracy: 0.51419997215271\n",
      "Epoch 24, CIFAR-10 Batch 3:  Test Cost: 0.42526474595069885    ---   Valid Accuracy: 0.5013999938964844\n",
      "Epoch 24, CIFAR-10 Batch 4:  Test Cost: 0.4953770041465759    ---   Valid Accuracy: 0.5228000283241272\n",
      "Epoch 24, CIFAR-10 Batch 5:  Test Cost: 0.5737884640693665    ---   Valid Accuracy: 0.5130000114440918\n",
      "Epoch 25, CIFAR-10 Batch 1:  Test Cost: 0.6120211482048035    ---   Valid Accuracy: 0.52920001745224\n",
      "Epoch 25, CIFAR-10 Batch 2:  Test Cost: 0.42966288328170776    ---   Valid Accuracy: 0.5138000249862671\n",
      "Epoch 25, CIFAR-10 Batch 3:  Test Cost: 0.4099965989589691    ---   Valid Accuracy: 0.49320000410079956\n",
      "Epoch 25, CIFAR-10 Batch 4:  Test Cost: 0.4506341516971588    ---   Valid Accuracy: 0.522599995136261\n",
      "Epoch 25, CIFAR-10 Batch 5:  Test Cost: 0.6047602295875549    ---   Valid Accuracy: 0.5088000297546387\n",
      "Epoch 26, CIFAR-10 Batch 1:  Test Cost: 0.6051012277603149    ---   Valid Accuracy: 0.5242000222206116\n",
      "Epoch 26, CIFAR-10 Batch 2:  Test Cost: 0.4585588574409485    ---   Valid Accuracy: 0.5121999979019165\n",
      "Epoch 26, CIFAR-10 Batch 3:  Test Cost: 0.3566889464855194    ---   Valid Accuracy: 0.5001999735832214\n",
      "Epoch 26, CIFAR-10 Batch 4:  Test Cost: 0.49742698669433594    ---   Valid Accuracy: 0.5113999843597412\n",
      "Epoch 26, CIFAR-10 Batch 5:  Test Cost: 0.5887235403060913    ---   Valid Accuracy: 0.5067999958992004\n",
      "Epoch 27, CIFAR-10 Batch 1:  Test Cost: 0.5677438378334045    ---   Valid Accuracy: 0.5242000222206116\n",
      "Epoch 27, CIFAR-10 Batch 2:  Test Cost: 0.426910400390625    ---   Valid Accuracy: 0.5212000012397766\n",
      "Epoch 27, CIFAR-10 Batch 3:  Test Cost: 0.3060685992240906    ---   Valid Accuracy: 0.4991999864578247\n",
      "Epoch 27, CIFAR-10 Batch 4:  Test Cost: 0.4937344491481781    ---   Valid Accuracy: 0.5184000134468079\n",
      "Epoch 27, CIFAR-10 Batch 5:  Test Cost: 0.5216708183288574    ---   Valid Accuracy: 0.5171999931335449\n",
      "Epoch 28, CIFAR-10 Batch 1:  Test Cost: 0.6022601127624512    ---   Valid Accuracy: 0.5180000066757202\n",
      "Epoch 28, CIFAR-10 Batch 2:  Test Cost: 0.4024377763271332    ---   Valid Accuracy: 0.5139999985694885\n",
      "Epoch 28, CIFAR-10 Batch 3:  Test Cost: 0.31150808930397034    ---   Valid Accuracy: 0.498199999332428\n",
      "Epoch 28, CIFAR-10 Batch 4:  Test Cost: 0.4821416437625885    ---   Valid Accuracy: 0.5085999965667725\n",
      "Epoch 28, CIFAR-10 Batch 5:  Test Cost: 0.5040921568870544    ---   Valid Accuracy: 0.5180000066757202\n",
      "Epoch 29, CIFAR-10 Batch 1:  Test Cost: 0.5232058763504028    ---   Valid Accuracy: 0.5217999815940857\n",
      "Epoch 29, CIFAR-10 Batch 2:  Test Cost: 0.3803856670856476    ---   Valid Accuracy: 0.5144000053405762\n",
      "Epoch 29, CIFAR-10 Batch 3:  Test Cost: 0.23715415596961975    ---   Valid Accuracy: 0.5095999836921692\n",
      "Epoch 29, CIFAR-10 Batch 4:  Test Cost: 0.4873233735561371    ---   Valid Accuracy: 0.5076000094413757\n",
      "Epoch 29, CIFAR-10 Batch 5:  Test Cost: 0.47108227014541626    ---   Valid Accuracy: 0.5090000033378601\n",
      "Epoch 30, CIFAR-10 Batch 1:  Test Cost: 0.5126301050186157    ---   Valid Accuracy: 0.5121999979019165\n",
      "Epoch 30, CIFAR-10 Batch 2:  Test Cost: 0.39546361565589905    ---   Valid Accuracy: 0.5103999972343445\n",
      "Epoch 30, CIFAR-10 Batch 3:  Test Cost: 0.2461860179901123    ---   Valid Accuracy: 0.5063999891281128\n",
      "Epoch 30, CIFAR-10 Batch 4:  Test Cost: 0.4596402049064636    ---   Valid Accuracy: 0.5085999965667725\n",
      "Epoch 30, CIFAR-10 Batch 5:  Test Cost: 0.4026110768318176    ---   Valid Accuracy: 0.5192000269889832\n"
     ]
    }
   ],
   "source": [
    "\"\"\"\n",
    "DON'T MODIFY ANYTHING IN THIS CELL\n",
    "\"\"\"\n",
    "save_model_path = './image_classification'\n",
    "\n",
    "print('Training...')\n",
    "with tf.Session() as sess:\n",
    "    # Initializing the variables\n",
    "    sess.run(tf.global_variables_initializer())\n",
    "    \n",
    "    # Training cycle\n",
    "    for epoch in range(epochs):\n",
    "        # Loop over all batches\n",
    "        n_batches = 5\n",
    "        for batch_i in range(1, n_batches + 1):\n",
    "            for batch_features, batch_labels in helper.load_preprocess_training_batch(batch_i, batch_size):\n",
    "                train_neural_network(sess, optimizer, keep_probability, batch_features, batch_labels)\n",
    "            print('Epoch {:>2}, CIFAR-10 Batch {}:  '.format(epoch + 1, batch_i), end='')\n",
    "            print_stats(sess, batch_features, batch_labels, cost, accuracy)\n",
    "            \n",
    "    # Save Model\n",
    "    saver = tf.train.Saver()\n",
    "    save_path = saver.save(sess, save_model_path)"
   ]
  },
  {
   "cell_type": "markdown",
   "metadata": {},
   "source": [
    "# Checkpoint\n",
    "The model has been saved to disk.\n",
    "## Test Model\n",
    "Test your model against the test dataset.  This will be your final accuracy. You should have an accuracy greater than 50%. If you don't, keep tweaking the model architecture and parameters."
   ]
  },
  {
   "cell_type": "code",
   "execution_count": 291,
   "metadata": {},
   "outputs": [
    {
     "ename": "FileNotFoundError",
     "evalue": "[Errno 2] No such file or directory: 'preprocess_test.p'",
     "output_type": "error",
     "traceback": [
      "\u001b[1;31m---------------------------------------------------------------------------\u001b[0m",
      "\u001b[1;31mFileNotFoundError\u001b[0m                         Traceback (most recent call last)",
      "\u001b[1;32m<ipython-input-291-91dcd05b98f3>\u001b[0m in \u001b[0;36m<module>\u001b[1;34m\u001b[0m\n\u001b[0;32m     62\u001b[0m \u001b[1;33m\u001b[0m\u001b[0m\n\u001b[0;32m     63\u001b[0m \u001b[1;33m\u001b[0m\u001b[0m\n\u001b[1;32m---> 64\u001b[1;33m \u001b[0mtest_model\u001b[0m\u001b[1;33m(\u001b[0m\u001b[1;33m)\u001b[0m\u001b[1;33m\u001b[0m\u001b[1;33m\u001b[0m\u001b[0m\n\u001b[0m",
      "\u001b[1;32m<ipython-input-291-91dcd05b98f3>\u001b[0m in \u001b[0;36mtest_model\u001b[1;34m()\u001b[0m\n\u001b[0;32m     26\u001b[0m     \"\"\"\n\u001b[0;32m     27\u001b[0m \u001b[1;33m\u001b[0m\u001b[0m\n\u001b[1;32m---> 28\u001b[1;33m     \u001b[0mtest_features\u001b[0m\u001b[1;33m,\u001b[0m \u001b[0mtest_labels\u001b[0m \u001b[1;33m=\u001b[0m \u001b[0mpickle\u001b[0m\u001b[1;33m.\u001b[0m\u001b[0mload\u001b[0m\u001b[1;33m(\u001b[0m\u001b[0mopen\u001b[0m\u001b[1;33m(\u001b[0m\u001b[1;34m'preprocess_test.p'\u001b[0m\u001b[1;33m,\u001b[0m \u001b[0mmode\u001b[0m\u001b[1;33m=\u001b[0m\u001b[1;34m'rb'\u001b[0m\u001b[1;33m)\u001b[0m\u001b[1;33m)\u001b[0m\u001b[1;33m\u001b[0m\u001b[1;33m\u001b[0m\u001b[0m\n\u001b[0m\u001b[0;32m     29\u001b[0m     \u001b[1;31m# loaded_graph = tf.Graph()\u001b[0m\u001b[1;33m\u001b[0m\u001b[1;33m\u001b[0m\u001b[1;33m\u001b[0m\u001b[0m\n\u001b[0;32m     30\u001b[0m     \u001b[0mloaded_graph\u001b[0m \u001b[1;33m=\u001b[0m \u001b[0mtf\u001b[0m\u001b[1;33m.\u001b[0m\u001b[0mget_default_graph\u001b[0m\u001b[1;33m(\u001b[0m\u001b[1;33m)\u001b[0m\u001b[1;33m\u001b[0m\u001b[1;33m\u001b[0m\u001b[0m\n",
      "\u001b[1;31mFileNotFoundError\u001b[0m: [Errno 2] No such file or directory: 'preprocess_test.p'"
     ]
    }
   ],
   "source": [
    "\"\"\"\n",
    "DON'T MODIFY ANYTHING IN THIS CELL\n",
    "\"\"\"\n",
    "%matplotlib inline\n",
    "%config InlineBackend.figure_format = 'retina'\n",
    "\n",
    "import tensorflow as tf\n",
    "import pickle\n",
    "import helper\n",
    "import random\n",
    "\n",
    "# Set batch size if not already set\n",
    "try:\n",
    "    if batch_size:\n",
    "        pass\n",
    "except NameError:\n",
    "    batch_size = 64\n",
    "\n",
    "save_model_path = './image_classification'\n",
    "n_samples = 4\n",
    "top_n_predictions = 3\n",
    "\n",
    "def test_model():\n",
    "    \"\"\"\n",
    "    Test the saved model against the test dataset\n",
    "    \"\"\"\n",
    "\n",
    "    test_features, test_labels = pickle.load(open('preprocess_test.p', mode='rb'))\n",
    "    loaded_graph = tf.Graph()\n",
    "\n",
    "    with tf.Session(graph=loaded_graph) as sess:\n",
    "        # Load model\n",
    "        loader = tf.train.import_meta_graph(save_model_path + '.meta')\n",
    "        loader.restore(sess, save_model_path)\n",
    "\n",
    "        # Get Tensors from loaded model\n",
    "        loaded_x = loaded_graph.get_tensor_by_name('x:0')\n",
    "        loaded_y = loaded_graph.get_tensor_by_name('y:0')\n",
    "        loaded_keep_prob = loaded_graph.get_tensor_by_name('keep_prob:0')\n",
    "        loaded_logits = loaded_graph.get_tensor_by_name('logits:0')\n",
    "        loaded_acc = loaded_graph.get_tensor_by_name('accuracy:0')\n",
    "        \n",
    "        # Get accuracy in batches for memory limitations\n",
    "        test_batch_acc_total = 0\n",
    "        test_batch_count = 0\n",
    "        \n",
    "        for test_feature_batch, test_label_batch in helper.batch_features_labels(test_features, test_labels, batch_size):\n",
    "            test_batch_acc_total += sess.run(\n",
    "                loaded_acc,\n",
    "                feed_dict={loaded_x: test_feature_batch, loaded_y: test_label_batch, loaded_keep_prob: 1.0})\n",
    "            test_batch_count += 1\n",
    "\n",
    "        print('Testing Accuracy: {}\\n'.format(test_batch_acc_total/test_batch_count))\n",
    "\n",
    "        # Print Random Samples\n",
    "        random_test_features, random_test_labels = tuple(zip(*random.sample(list(zip(test_features, test_labels)), n_samples)))\n",
    "        random_test_predictions = sess.run(\n",
    "            tf.nn.top_k(tf.nn.softmax(loaded_logits), top_n_predictions),\n",
    "            feed_dict={loaded_x: random_test_features, loaded_y: random_test_labels, loaded_keep_prob: 1.0})\n",
    "        helper.display_image_predictions(random_test_features, random_test_labels, random_test_predictions)\n",
    "\n",
    "\n",
    "test_model()"
   ]
  },
  {
   "cell_type": "markdown",
   "metadata": {},
   "source": [
    "## Why 50-80% Accuracy?\n",
    "You might be wondering why you can't get an accuracy any higher. First things first, 50% isn't bad for a simple CNN.  Pure guessing would get you 10% accuracy. However, you might notice people are getting scores [well above 80%](http://rodrigob.github.io/are_we_there_yet/build/classification_datasets_results.html#43494641522d3130).  That's because we haven't taught you all there is to know about neural networks. We still need to cover a few more techniques.\n",
    "## Submitting This Project\n",
    "When submitting this project, make sure to run all the cells before saving the notebook.  Save the notebook file as \"dlnd_image_classification.ipynb\" and save it as a HTML file under \"File\" -> \"Download as\".  Include the \"helper.py\" and \"problem_unittests.py\" files in your submission."
   ]
  },
  {
   "cell_type": "markdown",
   "metadata": {},
   "source": []
  },
  {
   "cell_type": "code",
   "execution_count": null,
   "metadata": {
    "collapsed": true
   },
   "outputs": [],
   "source": []
  }
 ],
 "metadata": {
  "kernelspec": {
   "display_name": "Python 3",
   "language": "python",
   "name": "python3"
  },
  "language_info": {
   "codemirror_mode": {
    "name": "ipython",
    "version": 3
   },
   "file_extension": ".py",
   "mimetype": "text/x-python",
   "name": "python",
   "nbconvert_exporter": "python",
   "pygments_lexer": "ipython3",
   "version": "3.7.1"
  }
 },
 "nbformat": 4,
 "nbformat_minor": 1
}
