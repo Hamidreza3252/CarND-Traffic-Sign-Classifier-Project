{
 "cells": [
  {
   "cell_type": "code",
   "execution_count": 1,
   "metadata": {},
   "outputs": [
    {
     "data": {
      "text/html": [
       "<style>.container { width:80% !important; }</style>"
      ],
      "text/plain": [
       "<IPython.core.display.HTML object>"
      ]
     },
     "metadata": {},
     "output_type": "display_data"
    }
   ],
   "source": [
    "from IPython.core.display import display, HTML\n",
    "display(HTML(\"<style>.container { width:80% !important; }</style>\"))"
   ]
  },
  {
   "cell_type": "markdown",
   "metadata": {},
   "source": [
    "## Building a Traffic Sign Recognition Classifier, Deep Learning Approach \n",
    "\n",
    "### Loading the Data \n",
    "\n",
    "> **Note**: In this project, I use deep neural networks and convolutional neural networks to classify traffic signsusing traffic signs from the [German Traffic Sign Dataset](http://benchmark.ini.rub.de/?section=gtsrb&subsection=dataset). "
   ]
  },
  {
   "cell_type": "code",
   "execution_count": 1,
   "metadata": {},
   "outputs": [
    {
     "name": "stderr",
     "output_type": "stream",
     "text": [
      "Using TensorFlow backend.\n"
     ]
    }
   ],
   "source": [
    "# Load pickled data\n",
    "import pickle\n",
    "\n",
    "import pandas as pd\n",
    "import cv2\n",
    "import numpy as np\n",
    "from sklearn import preprocessing\n",
    "import os\n",
    "from random import shuffle\n",
    "import glob\n",
    "from pathlib import Path\n",
    "import tensorflow as tf\n",
    "import matplotlib.pyplot as plt\n",
    "import math\n",
    "\n",
    "from keras.layers import Input, InputLayer, Dense, Activation, ZeroPadding2D, BatchNormalization, Flatten, Conv2D\n",
    "from keras.layers import AveragePooling2D, MaxPooling2D, Dropout\n",
    "from keras.models import Sequential,Model\n",
    "from keras.optimizers import SGD\n",
    "from keras.callbacks import ModelCheckpoint, LearningRateScheduler\n",
    "import keras\n",
    "from keras import backend as K"
   ]
  },
  {
   "cell_type": "code",
   "execution_count": 2,
   "metadata": {},
   "outputs": [],
   "source": [
    "training_raw_file = \"traffic-signs-data/train.p\"\n",
    "validation_raw_file = \"traffic-signs-data/valid.p\"\n",
    "testing_raw_file = \"traffic-signs-data/test.p\"\n",
    "\n",
    "training_processed_file = \"traffic-signs-data/train-processed.p\"\n",
    "validation_processed_file = \"traffic-signs-data/valid-processed.p\"\n",
    "testing_processed_file = \"traffic-signs-data/test-processed.p\"\n",
    "\n",
    "csv_features_file = \"signnames.csv\""
   ]
  },
  {
   "cell_type": "markdown",
   "metadata": {},
   "source": [
    "### Creating pre-processed data files  \n",
    "\n",
    "> **None**: Run this cell only to create the pre-processed data files. If the files are already created, you should skip running this cell again.\n",
    "\n",
    "1. **Whitening the images** , following the instructions provided in the link below:  \n",
    "\n",
    "  - [LINK-1: Preprocessing for deep learning: from covariance matrix to image whitening](https://hadrienj.github.io/posts/Preprocessing-for-deep-learning/)\n",
    "  - [LINK-2: Preprocessing for deep learning: from covariance matrix to image whitening](https://www.freecodecamp.org/news/preprocessing-for-deep-learning-from-covariance-matrix-to-image-whitening-9e2b9c75165c/)\n",
    "    \n",
    "2. **General preprocessing proposals**  \n",
    "\n",
    "  - [Image Pre-processing for Deep Learning](https://towardsdatascience.com/image-pre-processing-c1aec0be3edf) \n"
   ]
  },
  {
   "cell_type": "code",
   "execution_count": null,
   "metadata": {},
   "outputs": [],
   "source": []
  },
  {
   "cell_type": "code",
   "execution_count": 8,
   "metadata": {
    "scrolled": false
   },
   "outputs": [
    {
     "name": "stdout",
     "output_type": "stream",
     "text": [
      "features count before augmentation: [ 180 1980 2010 1260 1770 1650  360 1290 1260 1320 1800 1170 1890 1920\n",
      "  690  540  360  990 1080  180  300  270  330  450  240 1350  540  210\n",
      "  480  240  390  690  210  599  360 1080  330  180 1860  270  300  210\n",
      "  210]\n",
      "features count after augmentation: [360, 2160, 2190, 1440, 1950, 1830, 540, 1470, 1440, 1500, 1980, 1350, 2070, 2100, 870, 720, 540, 1170, 1260, 360, 480, 450, 510, 630, 420, 1530, 720, 390, 660, 420, 570, 870, 390, 779, 540, 1260, 510, 360, 2040, 450, 480, 390, 390]\n",
      "features count before augmentation: [ 360 2160 2190 1440 1950 1830  540 1470 1440 1500 1980 1350 2070 2100\n",
      "  870  720  540 1170 1260  360  480  450  510  630  420 1530  720  390\n",
      "  660  420  570  870  390  779  540 1260  510  360 2040  450  480  390\n",
      "  390]\n",
      "features count after augmentation: [720, 2520, 2550, 1800, 2310, 2190, 900, 1830, 1800, 1860, 2340, 1710, 2430, 2460, 1230, 1080, 900, 1530, 1620, 720, 840, 810, 870, 990, 780, 1890, 1080, 750, 1020, 780, 930, 1230, 750, 1139, 900, 1620, 870, 720, 2400, 810, 840, 750, 750]\n",
      "features count before augmentation: [ 720 2520 2550 1800 2310 2190  900 1830 1800 1860 2340 1710 2430 2460\n",
      " 1230 1080  900 1530 1620  720  840  810  870  990  780 1890 1080  750\n",
      " 1020  780  930 1230  750 1139  900 1620  870  720 2400  810  840  750\n",
      "  750]\n",
      "features count after augmentation: [1440, 3240, 3270, 2520, 3030, 2910, 1620, 2550, 2520, 2580, 3060, 2430, 3150, 3180, 1950, 1800, 1620, 2250, 2340, 1440, 1560, 1530, 1590, 1710, 1500, 2610, 1800, 1470, 1740, 1500, 1650, 1950, 1470, 1859, 1620, 2340, 1590, 1440, 3120, 1530, 1560, 1470, 1470]\n",
      "- pre-processing raw images and applying self-mean correction to whiten them... started\n",
      "  completed!           \n",
      "- pre-processing raw images and applying self-mean correction to whiten them... started\n",
      "  completed!           \n",
      "- pre-processing raw images and applying self-mean correction to whiten them... started\n",
      "  completed!           \n"
     ]
    }
   ],
   "source": [
    "from importlib import reload\n",
    "import classificationModules\n",
    "reload(classificationModules)\n",
    "from classificationModules import Cnn\n",
    "\n",
    "# in case resizing is required - not used in this pipeline\n",
    "target_image_size = 32\n",
    "epsilon = 0.0\n",
    "\n",
    "with open(training_raw_file, mode=\"rb\") as f:\n",
    "    train_raw_data = pickle.load(f)\n",
    "with open(validation_raw_file, mode=\"rb\") as f:\n",
    "    valid_raw_data = pickle.load(f)\n",
    "with open(testing_raw_file, mode=\"rb\") as f:\n",
    "    test_raw_data = pickle.load(f)\n",
    "\n",
    "# pre-processing the raw data \n",
    "\n",
    "x_train_raw_data, y_train_raw_data = train_raw_data[\"features\"], train_raw_data[\"labels\"]\n",
    "x_valid_raw_data, y_valid_raw_data = valid_raw_data[\"features\"], valid_raw_data[\"labels\"]\n",
    "x_test_raw_data, y_test_raw_data = test_raw_data[\"features\"], test_raw_data[\"labels\"]\n",
    "\n",
    "x_train_norm_data = Cnn.normalize(x_train_raw_data, approach=\"scale\")\n",
    "x_valid_norm_data = Cnn.normalize(x_valid_raw_data, approach=\"scale\")\n",
    "x_test_norm_data = Cnn.normalize(x_test_raw_data, approach=\"scale\")\n",
    "\n",
    "# unique_label_ids = np.unique(train_raw_data[\"labels\"])\n",
    "\n",
    "# features_counts = [(np.where(train_raw_data[\"labels\"] == label_id))[0].size for label_id in unique_label_ids]\n",
    "# print(\"Features Count:\\n\", features_counts)\n",
    "# min_features_counts = min(features_counts)\n",
    "\n",
    "y_train_norm_data = y_train_raw_data\n",
    "\n",
    "x_train_norm_data, y_train_norm_data, features_counts = Cnn.augment_data(x_train_norm_data, y_train_norm_data, epsilon=0.05)\n",
    "x_train_norm_data, y_train_norm_data, features_counts = Cnn.augment_data(x_train_norm_data, y_train_norm_data, epsilon=-0.05)\n",
    "x_train_norm_data, y_train_norm_data, features_counts = Cnn.augment_data(x_train_norm_data, y_train_norm_data, epsilon=0.05)\n",
    "\n",
    "# arg_sort_indices = np.argsort(y_train_norm_data)\n",
    "# x_train_norm_data = x_train_norm_data[arg_sort_indices]\n",
    "# y_train_norm_data = y_train_norm_data[arg_sort_indices]\n",
    "\n",
    "# x_train_norm_data, y_train_raw_data = Cnn.augment_data(x_train_norm_data, y_train_raw_data, epsilon=0.5)\n",
    "# x_train_norm_data, y_train_raw_data = Cnn.augment_data(x_train_norm_data, y_train_raw_data, epsilon=0.8)\n",
    "\n",
    "# Cnn.whiten_images_zca(x_train_norm_data, train_processed_data[\"features\"], batch_size=1000, epsilon=0.1)\n",
    "# Cnn.whiten_images_zca(x_valid_norm_data, valid_processed_data[\"features\"], batch_size=1000, epsilon=0.1)\n",
    "# Cnn.whiten_images_zca(x_test_norm_data, test_processed_data[\"features\"], batch_size=1000, epsilon=0.1)\n",
    "\n",
    "# np.zeros_like(x_train_norm_data).astype(np.uint8)\n",
    "train_processed_data = {\"features\":None, \"labels\":y_train_norm_data}\n",
    "valid_processed_data = {\"features\":None, \"labels\":y_valid_raw_data}\n",
    "test_processed_data = {\"features\":None, \"labels\":y_test_raw_data}\n",
    "\n",
    "train_processed_data[\"features\"] = Cnn.whiten_images_self_mean(x_train_norm_data, batch_size=1000, width_offset=1, height_offset=1, \n",
    "                                                               epsilon=0.0, verbose=True)\n",
    "valid_processed_data[\"features\"] = Cnn.whiten_images_self_mean(x_valid_norm_data, batch_size=1000, width_offset=1, height_offset=1, \n",
    "                                                               epsilon=0.0, verbose=True)\n",
    "test_processed_data[\"features\"] = Cnn.whiten_images_self_mean(x_test_norm_data, batch_size=1000, width_offset=1, height_offset=1, \n",
    "                                                              epsilon=0.0, verbose=True)\n",
    "\n",
    "# train_processed_data = np.copy(train_raw_data)\n",
    "# valid_processed_data = np.copy(valid_raw_data)\n",
    "# test_processed_data = np.copy(test_raw_data)\n",
    "\n",
    "with open(training_processed_file, mode=\"wb\") as f:\n",
    "    pickle.dump(train_processed_data, f)\n",
    "with open(validation_processed_file, mode=\"wb\") as f:\n",
    "    pickle.dump(valid_processed_data, f)\n",
    "with open(testing_processed_file, mode=\"wb\") as f:\n",
    "    pickle.dump(test_processed_data, f)\n",
    "\n",
    "# releasing memory \n",
    "\n",
    "train_raw_data = None\n",
    "valid_raw_data = None\n",
    "test_raw_data = None\n",
    "\n",
    "train_processed_data = None\n",
    "valid_processed_data = None\n",
    "test_processed_data = None\n"
   ]
  },
  {
   "cell_type": "code",
   "execution_count": null,
   "metadata": {},
   "outputs": [],
   "source": []
  },
  {
   "cell_type": "code",
   "execution_count": null,
   "metadata": {},
   "outputs": [],
   "source": []
  },
  {
   "cell_type": "code",
   "execution_count": 4,
   "metadata": {},
   "outputs": [
    {
     "ename": "NameError",
     "evalue": "name 'train_raw_data' is not defined",
     "output_type": "error",
     "traceback": [
      "\u001b[1;31m---------------------------------------------------------------------------\u001b[0m",
      "\u001b[1;31mNameError\u001b[0m                                 Traceback (most recent call last)",
      "\u001b[1;32m<ipython-input-4-d3a2d1cc6ffd>\u001b[0m in \u001b[0;36m<module>\u001b[1;34m\u001b[0m\n\u001b[1;32m----> 1\u001b[1;33m \u001b[0mprint\u001b[0m\u001b[1;33m(\u001b[0m\u001b[0mtrain_raw_data\u001b[0m\u001b[1;33m[\u001b[0m\u001b[1;34m\"features\"\u001b[0m\u001b[1;33m]\u001b[0m\u001b[1;33m.\u001b[0m\u001b[0mshape\u001b[0m\u001b[1;33m,\u001b[0m \u001b[0mtrain_raw_data\u001b[0m\u001b[1;33m[\u001b[0m\u001b[1;34m\"labels\"\u001b[0m\u001b[1;33m]\u001b[0m\u001b[1;33m.\u001b[0m\u001b[0mshape\u001b[0m\u001b[1;33m)\u001b[0m\u001b[1;33m\u001b[0m\u001b[1;33m\u001b[0m\u001b[0m\n\u001b[0m\u001b[0;32m      2\u001b[0m \u001b[0mprint\u001b[0m\u001b[1;33m(\u001b[0m\u001b[0mtrain_processed_data\u001b[0m\u001b[1;33m[\u001b[0m\u001b[1;34m\"features\"\u001b[0m\u001b[1;33m]\u001b[0m\u001b[1;33m.\u001b[0m\u001b[0mshape\u001b[0m\u001b[1;33m,\u001b[0m \u001b[0mtrain_processed_data\u001b[0m\u001b[1;33m[\u001b[0m\u001b[1;34m\"labels\"\u001b[0m\u001b[1;33m]\u001b[0m\u001b[1;33m.\u001b[0m\u001b[0mshape\u001b[0m\u001b[1;33m)\u001b[0m\u001b[1;33m\u001b[0m\u001b[1;33m\u001b[0m\u001b[0m\n\u001b[0;32m      3\u001b[0m \u001b[1;33m\u001b[0m\u001b[0m\n\u001b[0;32m      4\u001b[0m \u001b[0mtemp_images\u001b[0m \u001b[1;33m=\u001b[0m \u001b[0mtrain_processed_data\u001b[0m\u001b[1;33m[\u001b[0m\u001b[1;34m\"features\"\u001b[0m\u001b[1;33m]\u001b[0m\u001b[1;33m\u001b[0m\u001b[1;33m\u001b[0m\u001b[0m\n\u001b[0;32m      5\u001b[0m \u001b[0mtemp_labels\u001b[0m \u001b[1;33m=\u001b[0m \u001b[0mtrain_processed_data\u001b[0m\u001b[1;33m[\u001b[0m\u001b[1;34m\"labels\"\u001b[0m\u001b[1;33m]\u001b[0m\u001b[1;33m\u001b[0m\u001b[1;33m\u001b[0m\u001b[0m\n",
      "\u001b[1;31mNameError\u001b[0m: name 'train_raw_data' is not defined"
     ]
    }
   ],
   "source": [
    "print(train_raw_data[\"features\"].shape, train_raw_data[\"labels\"].shape)\n",
    "print(train_processed_data[\"features\"].shape, train_processed_data[\"labels\"].shape)\n",
    "\n",
    "temp_images = train_processed_data[\"features\"]\n",
    "temp_labels = train_processed_data[\"labels\"]\n",
    "\n",
    "#Cnn.plot_flattened_image(train_processed_data[\"features\"][400])\n",
    "\n",
    "indexxx = 1440\n",
    "\n",
    "print(train_processed_data[\"labels\"][indexxx].astype(np.uint8))\n",
    "# print(train_processed_data[\"labels\"][max(indexxx - 180, 0)].astype(np.uint8))\n",
    "\n",
    "plt.figure(figsize=(1.5, 1.5))\n",
    "plt.imshow(temp_images[indexxx])\n",
    "\n",
    "# plt.figure(figsize=(1.5, 1.5))\n",
    "# plt.imshow(temp_images[abs(indexxx - 180)])\n",
    "\n",
    "# plt.figure(figsize=(1.5, 1.5))\n",
    "# plt.imshow(x_train_raw_data[indexxx])"
   ]
  },
  {
   "cell_type": "code",
   "execution_count": null,
   "metadata": {},
   "outputs": [],
   "source": []
  },
  {
   "cell_type": "markdown",
   "metadata": {},
   "source": [
    "### Loading data sets from the pickle files \n",
    "- In this cell, already-preprocessed data files are loaded for training, validation, and test purposes.  \n",
    "\n",
    "\n",
    "### Dataset Summary & Exploration\n",
    "\n",
    "The pickled data is a dictionary with 4 key/value pairs:\n",
    "\n",
    "- `'features'` is a 4D array containing raw pixel data of the traffic sign images, (num examples, width, height, channels).\n",
    "- `'labels'` is a 1D array containing the label/class id of the traffic sign. The file `signnames.csv` contains id -> name mappings for each id.\n",
    "- `'sizes'` is a list containing tuples, (width, height) representing the original width and height the image.\n",
    "- `'coords'` is a list containing tuples, (x1, y1, x2, y2) representing coordinates of a bounding box around the sign in the image. **THESE COORDINATES ASSUME THE ORIGINAL IMAGE. THE PICKLED DATA CONTAINS RESIZED VERSIONS (32 by 32) OF THESE IMAGES**\n"
   ]
  },
  {
   "cell_type": "code",
   "execution_count": null,
   "metadata": {},
   "outputs": [],
   "source": []
  },
  {
   "cell_type": "code",
   "execution_count": 3,
   "metadata": {},
   "outputs": [
    {
     "data": {
      "text/plain": [
       "'\\nwith open(training_raw_file, mode=\"rb\") as f:\\n    train_data = pickle.load(f)\\nwith open(validation_raw_file, mode=\"rb\") as f:\\n    valid_data = pickle.load(f)\\nwith open(testing_raw_file, mode=\"rb\") as f:\\n    test_data = pickle.load(f)\\n'"
      ]
     },
     "execution_count": 3,
     "metadata": {},
     "output_type": "execute_result"
    }
   ],
   "source": [
    "with open(training_processed_file, mode=\"rb\") as f:\n",
    "    train_data = pickle.load(f)\n",
    "with open(validation_processed_file, mode=\"rb\") as f:\n",
    "    valid_data = pickle.load(f)\n",
    "with open(testing_processed_file, mode=\"rb\") as f:\n",
    "    test_data = pickle.load(f)\n",
    "\n",
    "\"\"\"\n",
    "with open(training_raw_file, mode=\"rb\") as f:\n",
    "    train_data = pickle.load(f)\n",
    "with open(validation_raw_file, mode=\"rb\") as f:\n",
    "    valid_data = pickle.load(f)\n",
    "with open(testing_raw_file, mode=\"rb\") as f:\n",
    "    test_data = pickle.load(f)\n",
    "\"\"\"\n"
   ]
  },
  {
   "cell_type": "code",
   "execution_count": 5,
   "metadata": {},
   "outputs": [],
   "source": [
    "from importlib import reload\n",
    "import classificationModules\n",
    "reload(classificationModules)\n",
    "from classificationModules import Cnn"
   ]
  },
  {
   "cell_type": "code",
   "execution_count": 6,
   "metadata": {},
   "outputs": [
    {
     "name": "stdout",
     "output_type": "stream",
     "text": [
      "Number of training examples = 88979\n",
      "Number of testing examples = 12630\n",
      "Image data shape = (32, 32, 3)\n",
      "Number of classes = 43\n",
      "\n",
      "Features count of training set\n",
      ": [1440, 3240, 3270, 2520, 3030, 2910, 1620, 2550, 2520, 2580, 3060, 2430, 3150, 3180, 1950, 1800, 1620, 2250, 2340, 1440, 1560, 1530, 1590, 1710, 1500, 2610, 1800, 1470, 1740, 1500, 1650, 1950, 1470, 1859, 1620, 2340, 1590, 1440, 3120, 1530, 1560, 1470, 1470]\n",
      "\n",
      "Features count of validation set\n",
      ": [30, 240, 240, 150, 210, 210, 60, 150, 150, 150, 210, 150, 210, 240, 90, 90, 60, 120, 120, 30, 60, 60, 60, 60, 30, 150, 60, 30, 60, 30, 60, 90, 30, 90, 60, 120, 60, 30, 210, 30, 60, 30, 30]\n",
      "\n",
      "Features count of test set\n",
      ": [60, 720, 750, 450, 660, 630, 150, 450, 450, 480, 660, 420, 690, 720, 270, 210, 150, 360, 390, 60, 90, 90, 120, 150, 90, 480, 180, 60, 150, 90, 150, 270, 60, 210, 120, 390, 120, 60, 690, 90, 90, 60, 90]\n",
      "\n",
      "New Features Count:\n",
      " [1440, 1440, 1440, 1440, 1440, 1440, 1440, 1440, 1440]\n",
      "\n",
      "  *** After Filtering Features ***\n",
      "Number of classes = 9\n"
     ]
    }
   ],
   "source": [
    "x_train_raw_data, y_train_raw_data = train_data[\"features\"], train_data[\"labels\"]\n",
    "x_valid_raw_data, y_valid_raw_data = valid_data[\"features\"], valid_data[\"labels\"]\n",
    "x_test_raw_data, y_test_raw_data = test_data[\"features\"], test_data[\"labels\"]\n",
    "\n",
    "# in case resizing is required - not used in this pipeline\n",
    "target_image_size = 32\n",
    "    \n",
    "features_df = pd.read_csv(csv_features_file)\n",
    "unique_label_ids = [row[\"ClassId\"] for _, row in features_df.iterrows()]\n",
    "unique_label_names = [row[\"SignName\"] for _, row in features_df.iterrows()]\n",
    "\n",
    "n_train = x_train_raw_data.shape[0]\n",
    "n_validation = x_valid_raw_data.shape[0]\n",
    "n_test = x_test_raw_data.shape[0]\n",
    "\n",
    "# shape of an traffic sign image\n",
    "image_shape = x_train_raw_data.shape[1:4]\n",
    "\n",
    "# unique classes/labels there are in the dataset\n",
    "assert np.array_equal(np.sort(np.unique(y_train_raw_data)), np.sort(np.asarray(unique_label_ids))), \\\n",
    "    \"There is a mismatch in the training data\"\n",
    "\n",
    "n_classes = len(unique_label_ids)\n",
    "\n",
    "print(\"Number of training examples =\", n_train)\n",
    "print(\"Number of testing examples =\", n_test)\n",
    "print(\"Image data shape =\", image_shape)\n",
    "print(\"Number of classes =\", n_classes)\n",
    "\n",
    "# n_classes = len(cnn.label_ids)\n",
    "\n",
    "features_counts = [(np.where(train_data[\"labels\"] == label_id))[0].size for label_id in unique_label_ids]\n",
    "print(\"\\nFeatures count of training set\\n:\", features_counts)\n",
    "print(\"\\nFeatures count of validation set\\n:\", [(np.where(valid_data[\"labels\"] == label_id))[0].size for label_id in unique_label_ids])\n",
    "print(\"\\nFeatures count of test set\\n:\", [(np.where(test_data[\"labels\"] == label_id))[0].size for label_id in unique_label_ids])\n",
    "\n",
    "print(\"\")\n",
    "\n",
    "# Preparing training and validation data set for labels 0 to 8 \n",
    "filter_label_ids = np.linspace(0, 8, 9).astype(np.uint8)\n",
    "\n",
    "unique_label_ids = filter_label_ids.copy()\n",
    "# unique_label_names = [row[\"SignName\"] for _, row in features_df.iterrows()]\n",
    "n_classes = filter_label_ids.size\n",
    "\n",
    "x_train_filtered_raw_data_1, y_train_filtered_raw_data_1, features_counts = \\\n",
    "    Cnn.get_features_of_types(x_train_raw_data, y_train_raw_data, filter_label_ids)\n",
    "\n",
    "x_valid_filtered_raw_data_1, y_valid_filtered_raw_data_1, features_counts = \\\n",
    "    Cnn.get_features_of_types(x_valid_raw_data, y_valid_raw_data, filter_label_ids)\n",
    "\n",
    "x_train_raw_data_1, y_train_raw_data_1, new_features_counts = \\\n",
    "    Cnn.select_equally_sized_data_sets(x_train_filtered_raw_data, y_train_filtered_raw_data, n_classes=n_classes, \n",
    "                                       unique_label_ids=None, features_counts=None)\n",
    "\n",
    "x_valid_raw_data_1, y_valid_raw_data_1 = x_valid_filtered_raw_data_1, y_valid_filtered_raw_data_1\n",
    "\n",
    "print(\"New Features Count:\\n\", new_features_counts)\n",
    "\n",
    "print(\"\\n  *** After Filtering Features ***\")\n",
    "print(\"Number of classes =\", n_classes)\n",
    "\n",
    "# Preparing training and validation data set for labels 9 to 42 \n",
    "\n"
   ]
  },
  {
   "cell_type": "code",
   "execution_count": null,
   "metadata": {},
   "outputs": [],
   "source": []
  },
  {
   "cell_type": "markdown",
   "metadata": {},
   "source": [
    "### Pre-processing loaded data  \n",
    "- Normalization of loaded data between 0 and 1 \n",
    "- One-hot encoding of the loaded labels "
   ]
  },
  {
   "cell_type": "code",
   "execution_count": 7,
   "metadata": {},
   "outputs": [],
   "source": [
    "import random\n",
    "\n",
    "from importlib import reload\n",
    "import classificationModules\n",
    "reload(classificationModules)\n",
    "from classificationModules import Cnn\n",
    "\n",
    "cnn = Cnn()\n",
    "cnn.init_model(unique_label_names, unique_label_ids)\n",
    "\n",
    "x_train_data, y_train_data = Cnn.normalize(x_train_raw_data, approach=\"scale\"), cnn.one_hot_encode(y_train_raw_data)\n",
    "x_valid_data, y_valid_data = Cnn.normalize(x_valid_raw_data, approach=\"scale\"), cnn.one_hot_encode(y_valid_raw_data)\n",
    "x_test_data, y_test_data = Cnn.normalize(x_test_raw_data, approach=\"scale\"), cnn.one_hot_encode(y_test_raw_data)\n"
   ]
  },
  {
   "cell_type": "code",
   "execution_count": null,
   "metadata": {},
   "outputs": [],
   "source": []
  },
  {
   "cell_type": "markdown",
   "metadata": {},
   "source": [
    "### Shuffle the traning data"
   ]
  },
  {
   "cell_type": "code",
   "execution_count": 8,
   "metadata": {},
   "outputs": [],
   "source": [
    "labelled_data = list(zip(x_train_data, y_train_data))\n",
    "random.shuffle(labelled_data)\n",
    "random_x_train_data, random_y_train_data = zip(*labelled_data)\n",
    "\n",
    "random_x_train_data = list(random_x_train_data)\n",
    "random_y_train_data = list(random_y_train_data)\n",
    "\n",
    "#print(random_y_train_data[0])\n",
    "#print(random_x_train_data[0].shape)\n",
    "#plt.imshow(random_x_train_data[0])"
   ]
  },
  {
   "cell_type": "markdown",
   "metadata": {},
   "source": [
    "### Exploring and visualizing the dataset"
   ]
  },
  {
   "cell_type": "code",
   "execution_count": null,
   "metadata": {},
   "outputs": [],
   "source": []
  },
  {
   "cell_type": "code",
   "execution_count": 9,
   "metadata": {},
   "outputs": [],
   "source": [
    "%matplotlib inline\n",
    "\n",
    "# cnn.display_images(random_x_train_data[0:10], random_y_train_data[0:10], normalized=True)\n",
    "# cnn.display_images(x_valid_data[100:120], y_valid_data[100:120], normalized=True)"
   ]
  },
  {
   "cell_type": "markdown",
   "metadata": {},
   "source": [
    "### Model Architecture"
   ]
  },
  {
   "cell_type": "code",
   "execution_count": 10,
   "metadata": {},
   "outputs": [],
   "source": [
    "from importlib import reload\n",
    "import classificationModules\n",
    "reload(classificationModules)\n",
    "from classificationModules import Cnn\n",
    "\n",
    "cnn = Cnn()\n",
    "cnn.init_model(unique_label_names, unique_label_ids)"
   ]
  },
  {
   "cell_type": "code",
   "execution_count": 11,
   "metadata": {},
   "outputs": [
    {
     "name": "stdout",
     "output_type": "stream",
     "text": [
      "conv2d_maxpool... Start\n",
      "Checking inputs dimensions...\n",
      "conv_ksize: (8, 8)\n",
      "conv_num_outputs: 16\n",
      "WARNING:tensorflow:From C:\\ProgramData\\Anaconda3\\lib\\site-packages\\tensorflow\\python\\framework\\op_def_library.py:263: colocate_with (from tensorflow.python.framework.ops) is deprecated and will be removed in a future version.\n",
      "Instructions for updating:\n",
      "Colocations handled automatically by placer.\n",
      "Checking strides dimensions...\n",
      "conv_strides: (1, 1, 1, 1)\n",
      "pool_ksize: (1, 2, 2, 1)\n",
      "pool_strides (1, 1, 1, 1)\n",
      "batch_normalizer: <tensorflow.python.keras.layers.normalization.BatchNormalizationV1 object at 0x000001AD17650E80>\n",
      "conv_layer: (?, 24, 24, 16)\n",
      "conv2d_maxpool... End\n",
      "\n",
      "conv2d_maxpool... Start\n",
      "Checking inputs dimensions...\n",
      "conv_ksize: (5, 5)\n",
      "conv_num_outputs: 32\n",
      "Checking strides dimensions...\n",
      "conv_strides: (1, 1, 1, 1)\n",
      "pool_ksize: (1, 2, 2, 1)\n",
      "pool_strides (1, 1, 1, 1)\n",
      "batch_normalizer: <tensorflow.python.keras.layers.normalization.BatchNormalizationV1 object at 0x000001AD17650F60>\n",
      "conv_layer: (?, 19, 19, 32)\n",
      "conv2d_maxpool... End\n",
      "\n",
      "conv2d_maxpool... Start\n",
      "Checking inputs dimensions...\n",
      "conv_ksize: (5, 5)\n",
      "conv_num_outputs: 32\n",
      "Checking strides dimensions...\n",
      "conv_strides: (1, 1, 1, 1)\n",
      "pool_ksize: (1, 2, 2, 1)\n",
      "pool_strides (1, 1, 1, 1)\n",
      "batch_normalizer: <tensorflow.python.keras.layers.normalization.BatchNormalizationV1 object at 0x000001AD177CC0B8>\n",
      "conv_layer: (?, 14, 14, 32)\n",
      "conv2d_maxpool... End\n",
      "\n",
      "conv2d_maxpool... Start\n",
      "Checking inputs dimensions...\n",
      "conv_ksize: (5, 5)\n",
      "conv_num_outputs: 64\n",
      "Checking strides dimensions...\n",
      "conv_strides: (1, 1, 1, 1)\n",
      "pool_ksize: (1, 2, 2, 1)\n",
      "pool_strides (1, 1, 1, 1)\n",
      "batch_normalizer: <tensorflow.python.keras.layers.normalization.BatchNormalizationV1 object at 0x000001AD1774DC88>\n",
      "conv_layer: (?, 9, 9, 64)\n",
      "conv2d_maxpool... End\n",
      "\n",
      "conv2d_maxpool... Start\n",
      "Checking inputs dimensions...\n",
      "conv_ksize: (5, 5)\n",
      "conv_num_outputs: 64\n",
      "Checking strides dimensions...\n",
      "conv_strides: (1, 1, 1, 1)\n",
      "pool_ksize: (1, 2, 2, 1)\n",
      "pool_strides (1, 1, 1, 1)\n",
      "batch_normalizer: <tensorflow.python.keras.layers.normalization.BatchNormalizationV1 object at 0x000001AD2D531F98>\n",
      "conv_layer: (?, 4, 4, 64)\n",
      "conv2d_maxpool... End\n",
      "\n",
      "conv2d_maxpool... Start\n",
      "Checking inputs dimensions...\n",
      "conv_ksize: (2, 2)\n",
      "conv_num_outputs: 128\n",
      "Checking strides dimensions...\n",
      "conv_strides: (1, 1, 1, 1)\n",
      "pool_ksize: (1, 2, 2, 1)\n",
      "pool_strides (1, 1, 1, 1)\n",
      "batch_normalizer: <tensorflow.python.keras.layers.normalization.BatchNormalizationV1 object at 0x000001AD17A488D0>\n",
      "conv_layer: (?, 2, 2, 128)\n",
      "conv2d_maxpool... End\n",
      "\n",
      "\n",
      "WARNING: The TensorFlow contrib module will not be included in TensorFlow 2.0.\n",
      "For more information, please see:\n",
      "  * https://github.com/tensorflow/community/blob/master/rfcs/20180907-contrib-sunset.md\n",
      "  * https://github.com/tensorflow/addons\n",
      "If you depend on functionality not listed there, please file an issue.\n",
      "\n",
      "WARNING:tensorflow:From C:\\ProgramData\\Anaconda3\\lib\\site-packages\\tensorflow\\contrib\\layers\\python\\layers\\layers.py:1624: flatten (from tensorflow.python.layers.core) is deprecated and will be removed in a future version.\n",
      "Instructions for updating:\n",
      "Use keras.layers.flatten instead.\n",
      "WARNING:tensorflow:From <ipython-input-11-b26f7075169b>:87: calling dropout (from tensorflow.python.ops.nn_ops) with keep_prob is deprecated and will be removed in a future version.\n",
      "Instructions for updating:\n",
      "Please use `rate` instead of `keep_prob`. Rate should be set to `rate = 1 - keep_prob`.\n"
     ]
    }
   ],
   "source": [
    "def create_conv_net(x, keep_prob, n_classes):\n",
    "    \"\"\"\n",
    "    Create a convolutional neural network model\n",
    "    : x: Placeholder tensor that holds image data - normalized image \n",
    "    : keep_prob: Placeholder tensor that hold dropout keep probability \n",
    "    : return: Tensor that represents logits\n",
    "    \"\"\"\n",
    "    # Applying a few Convolution and Max Pool layers\n",
    "    \n",
    "    conv_ksize = (8, 8)  # filter dimensions\n",
    "    # conv_ksize = (3, 3)  # filter dimensions\n",
    "    conv_strides = (1, 1)\n",
    "    pool_ksize = (2, 2)  # Filter kernel/patch dimensions [batch, height, width, channels]\n",
    "    pool_strides = (1, 1)\n",
    "    \n",
    "    # batch_normalizer = tf.keras.layers.BatchNormalization(trainable=False)\n",
    "    # x = batch_normalizer(x)\n",
    "    \n",
    "    # batch_normalizer = None\n",
    "    \n",
    "    #conv_layer = conv2d_maxpool(x, conv_num_outputs, conv_ksize, conv_strides, pool_ksize, pool_strides)\n",
    "    conv_num_outputs = 16  # D_out : number of out filters\n",
    "    batch_normalizer = tf.keras.layers.BatchNormalization(trainable=True)\n",
    "    conv_layer = cnn.conv2d_maxpool(x, conv_num_outputs, conv_ksize, conv_strides, pool_ksize, pool_strides, \n",
    "                                    wieghts_name=\"weights-layer-1\", layer_name=\"hidden-layer-1\", batch_normalizer=batch_normalizer)\n",
    "    #conv_layer = normalize_batch(conv_layer)\n",
    "    \n",
    "    # next layer\n",
    "    conv_ksize = (5, 5)  # output layers dimensions\n",
    "    conv_num_outputs = 32\n",
    "    batch_normalizer = tf.keras.layers.BatchNormalization(trainable=True)\n",
    "    conv_layer = cnn.conv2d_maxpool(conv_layer, conv_num_outputs, conv_ksize, conv_strides, pool_ksize, pool_strides, \n",
    "                                    wieghts_name=\"weights-layer-2\", layer_name=\"hidden-layer-2\", batch_normalizer=batch_normalizer)\n",
    "    \n",
    "    # next layer\n",
    "    conv_ksize = (5, 5)  # output layers dimensions\n",
    "    conv_num_outputs = 32\n",
    "    batch_normalizer = tf.keras.layers.BatchNormalization(trainable=True)\n",
    "    conv_layer = cnn.conv2d_maxpool(conv_layer, conv_num_outputs, conv_ksize, conv_strides, pool_ksize, pool_strides, \n",
    "                                    wieghts_name=\"weights-layer-2\", layer_name=\"hidden-layer-2\", batch_normalizer=batch_normalizer)\n",
    "    \n",
    "    # next layer\n",
    "    conv_ksize = (5, 5)  # output layers dimensions\n",
    "    conv_num_outputs = 64\n",
    "    batch_normalizer = tf.keras.layers.BatchNormalization(trainable=True)\n",
    "    conv_layer = cnn.conv2d_maxpool(conv_layer, conv_num_outputs, conv_ksize, conv_strides, pool_ksize, pool_strides, \n",
    "                                    wieghts_name=\"weights-layer-3\", layer_name=\"hidden-layer-3\", batch_normalizer=batch_normalizer)\n",
    "    \n",
    "    # next layer\n",
    "    conv_ksize = (5, 5)  # output layers dimensions\n",
    "    conv_num_outputs = 64\n",
    "    batch_normalizer = tf.keras.layers.BatchNormalization(trainable=True)\n",
    "    conv_layer = cnn.conv2d_maxpool(conv_layer, conv_num_outputs, conv_ksize, conv_strides, pool_ksize, pool_strides, \n",
    "                                    wieghts_name=\"weights-layer-4\", layer_name=\"hidden-layer-4\", batch_normalizer=batch_normalizer)\n",
    "    \n",
    "    # next layer\n",
    "    conv_ksize = (2, 2)  # output layers dimensions\n",
    "    conv_num_outputs = 128\n",
    "    batch_normalizer = tf.keras.layers.BatchNormalization(trainable=True)\n",
    "    conv_layer = cnn.conv2d_maxpool(conv_layer, conv_num_outputs, conv_ksize, conv_strides, pool_ksize, pool_strides, \n",
    "                                    wieghts_name=\"weights-layer-5\", layer_name=\"hidden-layer-5\", batch_normalizer=batch_normalizer)\n",
    "    \n",
    "    # next layer\n",
    "    # conv_ksize = (1, 1)  # output layers dimensions\n",
    "    # conv_num_outputs = 256\n",
    "    # batch_normalizer = tf.keras.layers.BatchNormalization(trainable=True)\n",
    "    # conv_layer = cnn.conv2d_maxpool(conv_layer, conv_num_outputs, conv_ksize, conv_strides, pool_ksize, pool_strides, \n",
    "    #                                 wieghts_name=\"weights-layer-4\", layer_name=\"hidden-layer-4\", batch_normalizer=batch_normalizer)\n",
    "    \n",
    "    # next layer\n",
    "    # conv_ksize = (1, 1)  # output layers dimensions\n",
    "    # conv_num_outputs = 512\n",
    "    # batch_normalizer = tf.keras.layers.BatchNormalization(trainable=True)\n",
    "    # conv_layer = cnn.conv2d_maxpool(x, conv_num_outputs, conv_ksize, conv_strides, pool_ksize, pool_strides, \n",
    "    #                                 wieghts_name=\"weights-layer-5\", layer_name=\"hidden-layer-5\", batch_normalizer=batch_normalizer)\n",
    "\n",
    "    ################################################\n",
    "    # flattenning the layer\n",
    "    x_tensor = cnn.flatten(conv_layer)\n",
    "\n",
    "    # Applying a few fully connected layers\n",
    "    \n",
    "    # x_tensor = tf.layers.batch_normalization(x_tensor)\n",
    "    x_tensor = cnn.fully_conn(x_tensor, 128)\n",
    "    # normalize_batch = tf.keras.layers.BatchNormalization(trainable=True)\n",
    "    # x_tensor = normalize_batch(x_tensor)\n",
    "    x_tensor = tf.nn.dropout(x_tensor, keep_prob)\n",
    "    \n",
    "    x_tensor = cnn.fully_conn(x_tensor, 64)\n",
    "    # normalize_batch = tf.keras.layers.BatchNormalization(trainable=True)\n",
    "    # x_tensor = normalize_batch(x_tensor)\n",
    "    x_tensor = tf.nn.dropout(x_tensor, keep_prob)\n",
    "\n",
    "    #x_tensor = cnn.fully_conn(x_tensor, 128)\n",
    "    # normalize_batch = tf.keras.layers.BatchNormalization(trainable=True)\n",
    "    # x_tensor = normalize_batch(x_tensor)\n",
    "    #x_tensor = tf.nn.dropout(x_tensor, keep_prob)\n",
    "\n",
    "    # x_tensor = tf.layers.batch_normalization(x_tensor)\n",
    "    #x_tensor = cnn.fully_conn(x_tensor, 32)\n",
    "    #normalize_batch = tf.keras.layers.BatchNormalization(trainable=True)\n",
    "    #x_tensor = normalize_batch(x_tensor)\n",
    "    #x_tensor = tf.nn.dropout(x_tensor, keep_prob)\n",
    "\n",
    "    # Applying an Output Layer\n",
    "    output_tensor = cnn.output(x_tensor, n_classes)\n",
    "    \n",
    "    return output_tensor\n",
    "\n",
    "\n",
    "##############################\n",
    "## Build the Neural Network ##\n",
    "##############################\n",
    "\n",
    "learning_rate = 1e-4\n",
    "\n",
    "# Remove previous weights, bias, inputs, etc..\n",
    "tf.reset_default_graph()\n",
    "\n",
    "# Inputs\n",
    "x = cnn.neural_net_image_input((target_image_size, target_image_size, 3))\n",
    "y = cnn.neural_net_label_input(n_classes)\n",
    "keep_prob = cnn.neural_net_keep_prob_input()\n",
    "\n",
    "# Model\n",
    "logits = create_conv_net(x, keep_prob, n_classes)\n",
    "\n",
    "# Name logits Tensor, so that is can be loaded from disk after training\n",
    "logits = tf.identity(logits, name=\"logits\")\n",
    "\n",
    "# Loss and Optimizer\n",
    "cost = tf.reduce_mean(tf.nn.softmax_cross_entropy_with_logits_v2(logits=logits, labels=y))\n",
    "optimizer = tf.train.AdamOptimizer(learning_rate=learning_rate).minimize(cost)\n",
    "#optimizer = tf.train.GradientDescentOptimizer(learning_rate=learning_rate).minimize(cost)\n",
    "\n",
    "# Accuracy\n",
    "correct_pred = tf.equal(tf.argmax(logits, 1), tf.argmax(y, 1))\n",
    "accuracy = tf.reduce_mean(tf.cast(correct_pred, tf.float32), name=\"accuracy\")\n",
    "\n",
    "# tests.test_conv_net(conv_net)"
   ]
  },
  {
   "cell_type": "markdown",
   "metadata": {},
   "source": [
    "### Setting up hyper parameters and training on batches"
   ]
  },
  {
   "cell_type": "code",
   "execution_count": null,
   "metadata": {},
   "outputs": [],
   "source": []
  },
  {
   "cell_type": "code",
   "execution_count": 13,
   "metadata": {},
   "outputs": [],
   "source": [
    "epochs = 50\n",
    "batch_size = 128\n",
    "keep_probability = 0.80\n",
    "save_model_path = \"saved-model-01/\""
   ]
  },
  {
   "cell_type": "code",
   "execution_count": null,
   "metadata": {},
   "outputs": [],
   "source": []
  },
  {
   "cell_type": "code",
   "execution_count": null,
   "metadata": {
    "scrolled": false
   },
   "outputs": [
    {
     "name": "stdout",
     "output_type": "stream",
     "text": [
      "Training... start\n",
      "Epoch  1: Test Cost: 1.1167   ---   Valid Accuracy: 0.6493\n",
      "Epoch  2: Test Cost: 0.5100   ---   Valid Accuracy: 0.8903\n",
      "Epoch  3: Test Cost: 0.2116   ---   Valid Accuracy: 0.9382\n",
      "Epoch  4: Test Cost: 0.1340   ---   Valid Accuracy: 0.9674\n",
      "Epoch  5: Test Cost: 0.0912   ---   Valid Accuracy: 0.9688\n",
      "Epoch  6: Test Cost: 0.0807   ---   Valid Accuracy: 0.9819\n",
      "Epoch  7: Test Cost: 0.0976   ---   Valid Accuracy: 0.9688\n",
      "Epoch  8: Test Cost: 0.0802   ---   Valid Accuracy: 0.9743\n",
      "Epoch  9: Test Cost: 0.0369   ---   Valid Accuracy: 0.9792\n",
      "Epoch 10: Test Cost: 0.0213   ---   Valid Accuracy: 0.9729\n",
      "Epoch 11: Test Cost: 0.0057   ---   Valid Accuracy: 0.9826\n",
      "Epoch 12: Test Cost: 0.0152   ---   Valid Accuracy: 0.9819\n",
      "Epoch 13: Test Cost: 0.0031   ---   Valid Accuracy: 0.9910\n",
      "Epoch 14: Test Cost: 0.0022   ---   Valid Accuracy: 0.9799\n",
      "Epoch 15: Test Cost: 0.0145   ---   Valid Accuracy: 0.9875\n",
      "Epoch 16: Test Cost: 0.0070   ---   Valid Accuracy: 0.9896\n",
      "Epoch 17: Test Cost: 0.0019   ---   Valid Accuracy: 0.9903\n",
      "Epoch 18: Test Cost: 0.0015   ---   Valid Accuracy: 0.9896\n",
      "Epoch 19: Test Cost: 0.0005   ---   Valid Accuracy: 0.9840\n",
      "Epoch 20: Test Cost: 0.0009   ---   Valid Accuracy: 0.9840\n",
      "Epoch 21: Test Cost: 0.0002   ---   Valid Accuracy: 0.9847\n",
      "Epoch 22: Test Cost: 0.0004   ---   Valid Accuracy: 0.9910\n",
      "Epoch 23: Test Cost: 0.0002   ---   Valid Accuracy: 0.9903\n",
      "Epoch 24: Test Cost: 0.0012   ---   Valid Accuracy: 0.9903\n",
      "Epoch 25: Test Cost: 0.0001   ---   Valid Accuracy: 0.9868\n",
      "Epoch 26: Test Cost: 0.0021   ---   Valid Accuracy: 0.9611\n",
      "Epoch 27: Test Cost: 0.0000   ---   Valid Accuracy: 0.9910\n",
      "Epoch 28: Test Cost: 0.0001   ---   Valid Accuracy: 0.9847\n",
      "Epoch 29: Test Cost: 0.0000   ---   Valid Accuracy: 0.9917\n",
      "Epoch 30: Test Cost: 0.0009   ---   Valid Accuracy: 0.9875\n"
     ]
    }
   ],
   "source": [
    "print(\"Training... start\")\n",
    "\n",
    "with tf.Session() as sess:\n",
    "    # Initializing the variables\n",
    "    sess.run(tf.global_variables_initializer())\n",
    "    \n",
    "    # Training cycle\n",
    "    for epoch in range(epochs):\n",
    "        \n",
    "        # for batch_features, batch_labels in CommonModules.load_preprocess_training_batch(batch_i, batch_size):\n",
    "        for batch_features, batch_labels in cnn.batch_features_labels(random_x_train_data, random_y_train_data, batch_size):\n",
    "            \n",
    "            # print(batch_features.shape)\n",
    "            # print(batch_labels.shape)\n",
    "            \n",
    "            cnn.train_neural_network(sess, x, y, keep_prob, optimizer, keep_probability, batch_features, batch_labels)\n",
    "            \n",
    "        # print(\"Epoch {0:>2}: \".format(epoch + 1))\n",
    "        \n",
    "        cnn.print_stats(sess, x, y, keep_prob, batch_features, batch_labels, x_valid_data, y_valid_data, cost, accuracy, \"Epoch {0:>2}: \".format(epoch + 1))\n",
    "        \n",
    "        if((epoch + 1) % 1 == 0):\n",
    "            print(\"\")\n",
    "    \n",
    "    # Save the Model\n",
    "    saver = tf.train.Saver()\n",
    "    save_path = saver.save(sess, save_model_path)\n",
    "\n",
    "print(\"Training... end\")"
   ]
  },
  {
   "cell_type": "code",
   "execution_count": null,
   "metadata": {},
   "outputs": [],
   "source": []
  },
  {
   "cell_type": "code",
   "execution_count": null,
   "metadata": {},
   "outputs": [],
   "source": []
  },
  {
   "cell_type": "code",
   "execution_count": null,
   "metadata": {},
   "outputs": [],
   "source": []
  },
  {
   "cell_type": "code",
   "execution_count": null,
   "metadata": {},
   "outputs": [],
   "source": []
  },
  {
   "cell_type": "code",
   "execution_count": null,
   "metadata": {},
   "outputs": [],
   "source": []
  },
  {
   "cell_type": "markdown",
   "metadata": {},
   "source": [
    "### Overfitting\n",
    "\n",
    "Training... start  \n",
    "Epoch 10: Test Cost: 0.1957   ---   Valid Accuracy: 0.8329 \n",
    "Epoch 20: Test Cost: 0.0632   ---   Valid Accuracy: 0.8719  \n",
    "Epoch 30: Test Cost: 0.0262   ---   Valid Accuracy: 0.8878  \n",
    "Epoch 40: Test Cost: 0.0135   ---   Valid Accuracy: 0.8961  \n",
    "Epoch 50: Test Cost: 0.0165   ---   Valid Accuracy: 0.8855  \n",
    "Epoch 60: Test Cost: 0.0038   ---   Valid Accuracy: 0.8882  \n",
    "Epoch 70: Test Cost: 0.0050   ---   Valid Accuracy: 0.8966  \n",
    "Epoch 80: Test Cost: 0.0021   ---   Valid Accuracy: 0.8868  \n",
    "Epoch 90: Test Cost: 0.0024   ---   Valid Accuracy: 0.8791  \n",
    "Epoch 100: Test Cost: 0.0013   ---   Valid Accuracy: 0.8871  \n",
    "Training... end  "
   ]
  },
  {
   "cell_type": "code",
   "execution_count": null,
   "metadata": {},
   "outputs": [],
   "source": []
  },
  {
   "cell_type": "code",
   "execution_count": null,
   "metadata": {},
   "outputs": [],
   "source": []
  },
  {
   "cell_type": "code",
   "execution_count": 18,
   "metadata": {},
   "outputs": [],
   "source": [
    "import random\n",
    "\n",
    "from importlib import reload\n",
    "import classificationModules\n",
    "reload(classificationModules)\n",
    "from classificationModules import Cnn\n",
    "\n",
    "cnn = Cnn()\n",
    "cnn.init_model(unique_label_names, unique_label_ids)"
   ]
  },
  {
   "cell_type": "code",
   "execution_count": 19,
   "metadata": {},
   "outputs": [],
   "source": [
    "fpr = {}\n",
    "tpr = {}\n",
    "auc = {}"
   ]
  },
  {
   "cell_type": "code",
   "execution_count": 25,
   "metadata": {
    "scrolled": false
   },
   "outputs": [
    {
     "name": "stdout",
     "output_type": "stream",
     "text": [
      "INFO:tensorflow:Restoring parameters from saved-model/\n",
      "Testing Accuracy: 0.890243513584137\n",
      "\n"
     ]
    },
    {
     "data": {
      "image/png": "[encoded data removed]",
      "text/plain": [
       "<Figure size 720x432 with 1 Axes>"
      ]
     },
     "metadata": {
      "needs_background": "light"
     },
     "output_type": "display_data"
    }
   ],
   "source": [
    "top_n_predictions = 3\n",
    "\n",
    "def test_model(test_features, test_labels, n_classes, n_samples):\n",
    "    \"\"\"\n",
    "    Test the saved model against the test dataset\n",
    "    \"\"\"\n",
    "\n",
    "    # test_images, test_labels = pickle.load(open('preprocess_test.p', mode='rb'))\n",
    "    loaded_graph = tf.Graph()\n",
    "    # loaded_graph = tf.get_default_graph()\n",
    "\n",
    "    with tf.Session(graph=loaded_graph) as sess:\n",
    "    # with tf.Session() as sess:\n",
    "        # sess.run(tf.global_variables_initializer())\n",
    "        \n",
    "        # Load model\n",
    "        loader = tf.train.import_meta_graph(save_model_path + \".meta\")\n",
    "        loader.restore(sess, save_model_path)\n",
    "\n",
    "        # Get Tensors from loaded model\n",
    "        loaded_x = loaded_graph.get_tensor_by_name(\"x:0\")\n",
    "        loaded_y = loaded_graph.get_tensor_by_name(\"y:0\")\n",
    "        loaded_keep_prob = loaded_graph.get_tensor_by_name(\"keep_prob:0\")\n",
    "        loaded_logits = loaded_graph.get_tensor_by_name(\"logits:0\")\n",
    "        loaded_acc = loaded_graph.get_tensor_by_name(\"accuracy:0\")\n",
    "        \n",
    "        # sess.run(tf.global_variables_initializer())\n",
    "        \n",
    "        # loaded_y = tf.expand_dims(loaded_y, 1)\n",
    "        \n",
    "        # Get accuracy in batches for memory limitations\n",
    "        test_batch_acc_total = 0\n",
    "        test_batch_count = 0\n",
    "        \n",
    "        for test_feature_batch, test_label_batch in cnn.batch_features_labels(test_features, test_labels, batch_size):\n",
    "            test_batch_acc_total += sess.run(\n",
    "                loaded_acc,\n",
    "                feed_dict={loaded_x: test_feature_batch, loaded_y: test_label_batch, loaded_keep_prob: 1.0})\n",
    "            \n",
    "            test_batch_count += 1\n",
    "            \n",
    "        print(\"Testing Accuracy: {}\\n\".format(test_batch_acc_total/test_batch_count))\n",
    "\n",
    "        # ROC\n",
    "        #all_test_predictions = sess.run(tf.nn.top_k(tf.nn.softmax(loaded_logits), label_categories_count), \n",
    "        #                                            feed_dict={loaded_x: test_features, loaded_y: test_labels, loaded_keep_prob: 1.0})\n",
    "        \n",
    "        all_test_predictions = sess.run(tf.nn.softmax(loaded_logits), \n",
    "                                        feed_dict={loaded_x: test_features, loaded_y: test_labels, loaded_keep_prob: 1.0})\n",
    "\n",
    "        predicted_y_probabilities = (all_test_predictions / all_test_predictions.sum(axis=0, keepdims=1))[::, 0]\n",
    "\n",
    "        #print(\"all_test_predictions\", all_test_predictions[:10])\n",
    "        #print(\"y_pred_proba\", y_pred_proba[:10])\n",
    "\n",
    "        #y_pred = all_test_predictions[1][::, 0]\n",
    "        #y_pred_proba = (all_test_predictions[0] / all_test_predictions[0].sum(axis=0, keepdims=1))[::, 0]\n",
    "        \n",
    "        # print(\"y_pred_proba\", y_pred_proba)\n",
    "        \n",
    "        fpr[\"model-a\"], tpr[\"model-a\"], auc[\"model-a\"] = cnn.plot_roc_curve(test_labels[::, 0], predicted_y_probabilities, \n",
    "                                                                            title=\"Model-2\", legend_title=\"Model-2, auc\")\n",
    "        \n",
    "        #fpr, tpr, _ = metrics.roc_curve(test_labels[::, 0], predicted_y_probabilities)\n",
    "        #auc = metrics.roc_auc_score(test_labels[::, 0], predicted_y_probabilities)\n",
    "        #plt.plot(fpr,tpr,label=\"data 1, auc=\" + str(auc))\n",
    "        #plt.legend(loc=4)\n",
    "        #plt.show()\n",
    "\n",
    "        # Print Random Samples\n",
    "        random_test_features, random_test_labels = tuple(zip(*random.sample(list(zip(test_features, test_labels)), n_samples)))\n",
    "        \n",
    "        # random_test_predictions = sess.run(tf.nn.softmax(loaded_logits),\n",
    "        #                                   feed_dict={loaded_x: random_test_features, loaded_y: random_test_labels, loaded_keep_prob: 1.0})\n",
    "        \n",
    "        #random_test_predictions = sess.run(tf.nn.top_k(random_test_predictions, label_categories_count))\n",
    "\n",
    "        random_test_predictions = sess.run(tf.nn.top_k(tf.nn.softmax(loaded_logits), n_classes), \n",
    "                                                       feed_dict={loaded_x: random_test_features, loaded_y: random_test_labels, \n",
    "                                                                  loaded_keep_prob: 1.0})\n",
    "        \n",
    "        # print(\"random_test_predictions\", random_test_predictions.values[0])\n",
    "        # print(\"random_test_labels\", np.asanyarray(random_test_labels).shape)\n",
    "        # print(\"random_test_labels\", cnn.lb.inverse_transform(np.asanyarray(random_test_labels)))\n",
    "        \n",
    "        # random_test_predictions = sess.run(\n",
    "        #  tf.nn.top_k(tf.nn.softmax(loaded_logits), top_n_predictions),\n",
    "        #  feed_dict={loaded_x: random_test_features, loaded_y: random_test_labels, loaded_keep_prob: 1.0})\n",
    "        # cnn.display_image_predictions(random_test_features, random_test_labels, random_test_predictions)\n",
    "        \n",
    "    return (random_test_features, random_test_labels, random_test_predictions)\n",
    "        \n",
    "tested_features, tested_labels, tested_predictions = test_model(x_test_data, y_test_data, n_classes, n_samples=10)"
   ]
  },
  {
   "cell_type": "code",
   "execution_count": null,
   "metadata": {},
   "outputs": [],
   "source": []
  },
  {
   "cell_type": "code",
   "execution_count": 37,
   "metadata": {},
   "outputs": [
    {
     "name": "stdout",
     "output_type": "stream",
     "text": [
      "[10  4  4 10  4 19  1  0 38  1]\n",
      "[[9.8949569e-01 5.6549874e-03 2.1259668e-03]\n",
      " [5.1303053e-01 4.8619887e-01 7.1128295e-04]\n",
      " [9.5947099e-01 3.5090934e-02 4.1949530e-03]\n",
      " [9.9995601e-01 3.6771096e-05 4.0885579e-06]\n",
      " [9.9757630e-01 2.3419736e-03 7.0862035e-05]\n",
      " [2.6593241e-01 1.3059227e-01 1.2550993e-01]\n",
      " [9.9473804e-01 3.1423117e-03 2.1135290e-03]\n",
      " [7.2206289e-01 2.7734289e-01 4.4745416e-04]\n",
      " [9.9998498e-01 1.3319583e-05 1.3948443e-06]\n",
      " [9.9997497e-01 2.4958326e-05 6.8830069e-08]]\n"
     ]
    }
   ],
   "source": [
    "%matplotlib inline\n",
    "\n",
    "tested_label_ids = cnn.lb.inverse_transform(np.asanyarray(tested_labels))\n",
    "\n",
    "print(tested_label_ids)\n",
    "print(tested_predictions.values[:, :3])\n",
    "\n",
    "# cnn.display_images(random_tested_features, random_tested_labels, normalized=True)"
   ]
  },
  {
   "cell_type": "code",
   "execution_count": 40,
   "metadata": {},
   "outputs": [
    {
     "data": {
      "text/plain": [
       "array([10,  0,  4, 10,  8, 19,  1,  1, 38,  1])"
      ]
     },
     "execution_count": 40,
     "metadata": {},
     "output_type": "execute_result"
    }
   ],
   "source": [
    "tested_predictions.indices[:, 0]"
   ]
  },
  {
   "cell_type": "code",
   "execution_count": 42,
   "metadata": {},
   "outputs": [
    {
     "data": {
      "text/plain": [
       "<matplotlib.image.AxesImage at 0x185fc442f28>"
      ]
     },
     "execution_count": 42,
     "metadata": {},
     "output_type": "execute_result"
    },
    {
     "data": {
      "image/png": "[encoded data removed]",
      "text/plain": [
       "<Figure size 108x108 with 1 Axes>"
      ]
     },
     "metadata": {
      "needs_background": "light"
     },
     "output_type": "display_data"
    }
   ],
   "source": [
    "plt.figure(figsize=(1.5, 1.5))\n",
    "plt.imshow(tested_features[7])"
   ]
  },
  {
   "cell_type": "code",
   "execution_count": null,
   "metadata": {},
   "outputs": [],
   "source": []
  },
  {
   "cell_type": "code",
   "execution_count": null,
   "metadata": {},
   "outputs": [],
   "source": []
  },
  {
   "cell_type": "code",
   "execution_count": null,
   "metadata": {},
   "outputs": [],
   "source": []
  },
  {
   "cell_type": "code",
   "execution_count": null,
   "metadata": {},
   "outputs": [],
   "source": []
  },
  {
   "cell_type": "code",
   "execution_count": null,
   "metadata": {},
   "outputs": [],
   "source": []
  },
  {
   "cell_type": "code",
   "execution_count": null,
   "metadata": {},
   "outputs": [],
   "source": []
  },
  {
   "cell_type": "code",
   "execution_count": null,
   "metadata": {},
   "outputs": [],
   "source": []
  },
  {
   "cell_type": "code",
   "execution_count": null,
   "metadata": {},
   "outputs": [],
   "source": []
  },
  {
   "cell_type": "markdown",
   "metadata": {},
   "source": [
    "----\n",
    "\n",
    "## Design and Test a Model Architecture\n"
   ]
  },
  {
   "cell_type": "markdown",
   "metadata": {},
   "source": [
    "### Pre-process the Data Set (normalization, grayscale, etc.)"
   ]
  },
  {
   "cell_type": "markdown",
   "metadata": {},
   "source": [
    "Minimally, the image data should be normalized so that the data has mean zero and equal variance. For image data, `(pixel - 128)/ 128` is a quick way to approximately normalize the data and can be used in this project. \n",
    "\n",
    "Other pre-processing steps are optional. You can try different techniques to see if it improves performance. \n",
    "\n",
    "Use the code cell (or multiple code cells, if necessary) to implement the first step of your project."
   ]
  },
  {
   "cell_type": "code",
   "execution_count": 4,
   "metadata": {
    "collapsed": true
   },
   "outputs": [],
   "source": [
    "### Preprocess the data here. It is required to normalize the data. Other preprocessing steps could include \n",
    "### converting to grayscale, etc.\n",
    "### Feel free to use as many code cells as needed."
   ]
  },
  {
   "cell_type": "markdown",
   "metadata": {},
   "source": [
    "### Model Architecture"
   ]
  },
  {
   "cell_type": "code",
   "execution_count": null,
   "metadata": {
    "collapsed": true
   },
   "outputs": [],
   "source": [
    "### Define your architecture here.\n",
    "### Feel free to use as many code cells as needed."
   ]
  },
  {
   "cell_type": "markdown",
   "metadata": {},
   "source": [
    "### Train, Validate and Test the Model"
   ]
  },
  {
   "cell_type": "markdown",
   "metadata": {},
   "source": [
    "A validation set can be used to assess how well the model is performing. A low accuracy on the training and validation\n",
    "sets imply underfitting. A high accuracy on the training set but low accuracy on the validation set implies overfitting."
   ]
  },
  {
   "cell_type": "code",
   "execution_count": 1,
   "metadata": {
    "collapsed": true
   },
   "outputs": [],
   "source": [
    "### Train your model here.\n",
    "### Calculate and report the accuracy on the training and validation set.\n",
    "### Once a final model architecture is selected, \n",
    "### the accuracy on the test set should be calculated and reported as well.\n",
    "### Feel free to use as many code cells as needed."
   ]
  },
  {
   "cell_type": "markdown",
   "metadata": {},
   "source": [
    "---\n",
    "\n",
    "## Step 3: Test a Model on New Images\n",
    "\n",
    "To give yourself more insight into how your model is working, download at least five pictures of German traffic signs from the web and use your model to predict the traffic sign type.\n",
    "\n",
    "You may find `signnames.csv` useful as it contains mappings from the class id (integer) to the actual sign name."
   ]
  },
  {
   "cell_type": "markdown",
   "metadata": {},
   "source": [
    "### Load and Output the Images"
   ]
  },
  {
   "cell_type": "code",
   "execution_count": null,
   "metadata": {
    "collapsed": true
   },
   "outputs": [],
   "source": [
    "### Load the images and plot them here.\n",
    "### Feel free to use as many code cells as needed."
   ]
  },
  {
   "cell_type": "markdown",
   "metadata": {},
   "source": [
    "### Predict the Sign Type for Each Image"
   ]
  },
  {
   "cell_type": "code",
   "execution_count": 3,
   "metadata": {
    "collapsed": true
   },
   "outputs": [],
   "source": [
    "### Run the predictions here and use the model to output the prediction for each image.\n",
    "### Make sure to pre-process the images with the same pre-processing pipeline used earlier.\n",
    "### Feel free to use as many code cells as needed."
   ]
  },
  {
   "cell_type": "markdown",
   "metadata": {},
   "source": [
    "### Analyze Performance"
   ]
  },
  {
   "cell_type": "code",
   "execution_count": 4,
   "metadata": {
    "collapsed": true
   },
   "outputs": [],
   "source": [
    "### Calculate the accuracy for these 5 new images. \n",
    "### For example, if the model predicted 1 out of 5 signs correctly, it's 20% accurate on these new images."
   ]
  },
  {
   "cell_type": "markdown",
   "metadata": {},
   "source": [
    "### Output Top 5 Softmax Probabilities For Each Image Found on the Web"
   ]
  },
  {
   "cell_type": "markdown",
   "metadata": {},
   "source": [
    "For each of the new images, print out the model's softmax probabilities to show the **certainty** of the model's predictions (limit the output to the top 5 probabilities for each image). [`tf.nn.top_k`](https://www.tensorflow.org/versions/r0.12/api_docs/python/nn.html#top_k) could prove helpful here. \n",
    "\n",
    "The example below demonstrates how tf.nn.top_k can be used to find the top k predictions for each image.\n",
    "\n",
    "`tf.nn.top_k` will return the values and indices (class ids) of the top k predictions. So if k=3, for each sign, it'll return the 3 largest probabilities (out of a possible 43) and the correspoding class ids.\n",
    "\n",
    "Take this numpy array as an example. The values in the array represent predictions. The array contains softmax probabilities for five candidate images with six possible classes. `tf.nn.top_k` is used to choose the three classes with the highest probability:\n",
    "\n",
    "```\n",
    "# (5, 6) array\n",
    "a = np.array([[ 0.24879643,  0.07032244,  0.12641572,  0.34763842,  0.07893497,\n",
    "         0.12789202],\n",
    "       [ 0.28086119,  0.27569815,  0.08594638,  0.0178669 ,  0.18063401,\n",
    "         0.15899337],\n",
    "       [ 0.26076848,  0.23664738,  0.08020603,  0.07001922,  0.1134371 ,\n",
    "         0.23892179],\n",
    "       [ 0.11943333,  0.29198961,  0.02605103,  0.26234032,  0.1351348 ,\n",
    "         0.16505091],\n",
    "       [ 0.09561176,  0.34396535,  0.0643941 ,  0.16240774,  0.24206137,\n",
    "         0.09155967]])\n",
    "```\n",
    "\n",
    "Running it through `sess.run(tf.nn.top_k(tf.constant(a), k=3))` produces:\n",
    "\n",
    "```\n",
    "TopKV2(values=array([[ 0.34763842,  0.24879643,  0.12789202],\n",
    "       [ 0.28086119,  0.27569815,  0.18063401],\n",
    "       [ 0.26076848,  0.23892179,  0.23664738],\n",
    "       [ 0.29198961,  0.26234032,  0.16505091],\n",
    "       [ 0.34396535,  0.24206137,  0.16240774]]), indices=array([[3, 0, 5],\n",
    "       [0, 1, 4],\n",
    "       [0, 5, 1],\n",
    "       [1, 3, 5],\n",
    "       [1, 4, 3]], dtype=int32))\n",
    "```\n",
    "\n",
    "Looking just at the first row we get `[ 0.34763842,  0.24879643,  0.12789202]`, you can confirm these are the 3 largest probabilities in `a`. You'll also notice `[3, 0, 5]` are the corresponding indices."
   ]
  },
  {
   "cell_type": "code",
   "execution_count": 3,
   "metadata": {
    "collapsed": true
   },
   "outputs": [],
   "source": [
    "### Print out the top five softmax probabilities for the predictions on the German traffic sign images found on the web. \n",
    "### Feel free to use as many code cells as needed."
   ]
  },
  {
   "cell_type": "markdown",
   "metadata": {},
   "source": [
    "### Project Writeup\n",
    "\n",
    "Once you have completed the code implementation, document your results in a project writeup using this [template](https://github.com/udacity/CarND-Traffic-Sign-Classifier-Project/blob/master/writeup_template.md) as a guide. The writeup can be in a markdown or pdf file. "
   ]
  },
  {
   "cell_type": "markdown",
   "metadata": {},
   "source": [
    "> **Note**: Once you have completed all of the code implementations and successfully answered each question above, you may finalize your work by exporting the iPython Notebook as an HTML document. You can do this by using the menu above and navigating to  \\n\",\n",
    "    \"**File -> Download as -> HTML (.html)**. Include the finished document along with this notebook as your submission."
   ]
  },
  {
   "cell_type": "markdown",
   "metadata": {},
   "source": [
    "---\n",
    "\n",
    "## Step 4 (Optional): Visualize the Neural Network's State with Test Images\n",
    "\n",
    " This Section is not required to complete but acts as an additional excersise for understaning the output of a neural network's weights. While neural networks can be a great learning device they are often referred to as a black box. We can understand what the weights of a neural network look like better by plotting their feature maps. After successfully training your neural network you can see what it's feature maps look like by plotting the output of the network's weight layers in response to a test stimuli image. From these plotted feature maps, it's possible to see what characteristics of an image the network finds interesting. For a sign, maybe the inner network feature maps react with high activation to the sign's boundary outline or to the contrast in the sign's painted symbol.\n",
    "\n",
    " Provided for you below is the function code that allows you to get the visualization output of any tensorflow weight layer you want. The inputs to the function should be a stimuli image, one used during training or a new one you provided, and then the tensorflow variable name that represents the layer's state during the training process, for instance if you wanted to see what the [LeNet lab's](https://classroom.udacity.com/nanodegrees/nd013/parts/fbf77062-5703-404e-b60c-95b78b2f3f9e/modules/6df7ae49-c61c-4bb2-a23e-6527e69209ec/lessons/601ae704-1035-4287-8b11-e2c2716217ad/concepts/d4aca031-508f-4e0b-b493-e7b706120f81) feature maps looked like for it's second convolutional layer you could enter conv2 as the tf_activation variable.\n",
    "\n",
    "For an example of what feature map outputs look like, check out NVIDIA's results in their paper [End-to-End Deep Learning for Self-Driving Cars](https://devblogs.nvidia.com/parallelforall/deep-learning-self-driving-cars/) in the section Visualization of internal CNN State. NVIDIA was able to show that their network's inner weights had high activations to road boundary lines by comparing feature maps from an image with a clear path to one without. Try experimenting with a similar test to show that your trained network's weights are looking for interesting features, whether it's looking at differences in feature maps from images with or without a sign, or even what feature maps look like in a trained network vs a completely untrained one on the same sign image.\n",
    "\n",
    "<figure>\n",
    " <img src=\"visualize_cnn.png\" width=\"380\" alt=\"Combined Image\" />\n",
    " <figcaption>\n",
    " <p></p> \n",
    " <p style=\"text-align: center;\"> Your output should look something like this (above)</p> \n",
    " </figcaption>\n",
    "</figure>\n",
    " <p></p> \n"
   ]
  },
  {
   "cell_type": "code",
   "execution_count": null,
   "metadata": {
    "collapsed": true
   },
   "outputs": [],
   "source": [
    "### Visualize your network's feature maps here.\n",
    "### Feel free to use as many code cells as needed.\n",
    "\n",
    "# image_input: the test image being fed into the network to produce the feature maps\n",
    "# tf_activation: should be a tf variable name used during your training procedure that represents the calculated state of a specific weight layer\n",
    "# activation_min/max: can be used to view the activation contrast in more detail, by default matplot sets min and max to the actual min and max values of the output\n",
    "# plt_num: used to plot out multiple different weight feature map sets on the same block, just extend the plt number for each new feature map entry\n",
    "\n",
    "def outputFeatureMap(image_input, tf_activation, activation_min=-1, activation_max=-1 ,plt_num=1):\n",
    "    # Here make sure to preprocess your image_input in a way your network expects\n",
    "    # with size, normalization, ect if needed\n",
    "    # image_input =\n",
    "    # Note: x should be the same name as your network's tensorflow data placeholder variable\n",
    "    # If you get an error tf_activation is not defined it may be having trouble accessing the variable from inside a function\n",
    "    activation = tf_activation.eval(session=sess,feed_dict={x : image_input})\n",
    "    featuremaps = activation.shape[3]\n",
    "    plt.figure(plt_num, figsize=(15,15))\n",
    "    for featuremap in range(featuremaps):\n",
    "        plt.subplot(6,8, featuremap+1) # sets the number of feature maps to show on each row and column\n",
    "        plt.title('FeatureMap ' + str(featuremap)) # displays the feature map number\n",
    "        if activation_min != -1 & activation_max != -1:\n",
    "            plt.imshow(activation[0,:,:, featuremap], interpolation=\"nearest\", vmin =activation_min, vmax=activation_max, cmap=\"gray\")\n",
    "        elif activation_max != -1:\n",
    "            plt.imshow(activation[0,:,:, featuremap], interpolation=\"nearest\", vmax=activation_max, cmap=\"gray\")\n",
    "        elif activation_min !=-1:\n",
    "            plt.imshow(activation[0,:,:, featuremap], interpolation=\"nearest\", vmin=activation_min, cmap=\"gray\")\n",
    "        else:\n",
    "            plt.imshow(activation[0,:,:, featuremap], interpolation=\"nearest\", cmap=\"gray\")"
   ]
  },
  {
   "cell_type": "code",
   "execution_count": null,
   "metadata": {},
   "outputs": [],
   "source": []
  },
  {
   "cell_type": "markdown",
   "metadata": {},
   "source": [
    "## Building a Traffic Sign Recognition Classifier, Deep Learning Approach \n",
    "\n",
    "In this notebook, a template is provided for you to implement your functionality in stages, which is required to successfully complete this project. If additional code is required that cannot be included in the notebook, be sure that the Python code is successfully imported and included in your submission if necessary. \n",
    "\n",
    "> **Note**: Once you have completed all of the code implementations, you need to finalize your work by exporting the iPython Notebook as an HTML document. Before exporting the notebook to html, all of the code cells need to have been run so that reviewers can see the final implementation and output. You can then export the notebook by using the menu above and navigating to  \\n\",\n",
    "    \"**File -> Download as -> HTML (.html)**. Include the finished document along with this notebook as your submission. \n",
    "\n",
    "In addition to implementing code, there is a writeup to complete. The writeup should be completed in a separate file, which can be either a markdown file or a pdf document. There is a [write up template](https://github.com/udacity/CarND-Traffic-Sign-Classifier-Project/blob/master/writeup_template.md) that can be used to guide the writing process. Completing the code template and writeup template will cover all of the [rubric points](https://review.udacity.com/#!/rubrics/481/view) for this project.\n",
    "\n",
    "The [rubric](https://review.udacity.com/#!/rubrics/481/view) contains \"Stand Out Suggestions\" for enhancing the project beyond the minimum requirements. The stand out suggestions are optional. If you decide to pursue the \"stand out suggestions\", you can include the code in this Ipython notebook and also discuss the results in the writeup file.\n",
    "\n",
    "\n",
    ">**Note:** Code and Markdown cells can be executed using the **Shift + Enter** keyboard shortcut. In addition, Markdown cells can be edited by typically double-clicking the cell to enter edit mode."
   ]
  },
  {
   "cell_type": "markdown",
   "metadata": {},
   "source": [
    "Visualize the German Traffic Signs Dataset using the pickled file(s). This is open ended, suggestions include: plotting traffic sign images, plotting the count of each sign, etc. \n",
    "\n",
    "The [Matplotlib](http://matplotlib.org/) [examples](http://matplotlib.org/examples/index.html) and [gallery](http://matplotlib.org/gallery.html) pages are a great resource for doing visualizations in Python.\n",
    "\n",
    "**NOTE:** It's recommended you start with something simple first. If you wish to do more, come back to it after you've completed the rest of the sections. It can be interesting to look at the distribution of classes in the training, validation and test set. Is the distribution the same? Are there more examples of some classes than others?"
   ]
  },
  {
   "cell_type": "markdown",
   "metadata": {},
   "source": [
    "----\n",
    "\n",
    "## Design and Test a Model Architecture\n",
    "\n",
    "Design and implement a deep learning model that learns to recognize traffic signs. Train and test your model on the [German Traffic Sign Dataset](http://benchmark.ini.rub.de/?section=gtsrb&subsection=dataset).\n",
    "\n",
    "The LeNet-5 implementation shown in the [classroom](https://classroom.udacity.com/nanodegrees/nd013/parts/fbf77062-5703-404e-b60c-95b78b2f3f9e/modules/6df7ae49-c61c-4bb2-a23e-6527e69209ec/lessons/601ae704-1035-4287-8b11-e2c2716217ad/concepts/d4aca031-508f-4e0b-b493-e7b706120f81) at the end of the CNN lesson is a solid starting point. You'll have to change the number of classes and possibly the preprocessing, but aside from that it's plug and play! \n",
    "\n",
    "With the LeNet-5 solution from the lecture, you should expect a validation set accuracy of about 0.89. To meet specifications, the validation set accuracy will need to be at least 0.93. It is possible to get an even higher accuracy, but 0.93 is the minimum for a successful project submission. \n",
    "\n",
    "There are various aspects to consider when thinking about this problem:\n",
    "\n",
    "- Neural network architecture (is the network over or underfitting?)\n",
    "- Play around preprocessing techniques (normalization, rgb to grayscale, etc)\n",
    "- Number of examples per label (some have more than others).\n",
    "- Generate fake data.\n",
    "\n",
    "Here is an example of a [published baseline model on this problem](http://yann.lecun.com/exdb/publis/pdf/sermanet-ijcnn-11.pdf). It's not required to be familiar with the approach used in the paper but, it's good practice to try to read papers like these."
   ]
  },
  {
   "cell_type": "code",
   "execution_count": null,
   "metadata": {},
   "outputs": [],
   "source": []
  },
  {
   "cell_type": "code",
   "execution_count": null,
   "metadata": {},
   "outputs": [],
   "source": []
  }
 ],
 "metadata": {
  "anaconda-cloud": {},
  "kernelspec": {
   "display_name": "Python 3",
   "language": "python",
   "name": "python3"
  },
  "language_info": {
   "codemirror_mode": {
    "name": "ipython",
    "version": 3
   },
   "file_extension": ".py",
   "mimetype": "text/x-python",
   "name": "python",
   "nbconvert_exporter": "python",
   "pygments_lexer": "ipython3",
   "version": "3.7.1"
  }
 },
 "nbformat": 4,
 "nbformat_minor": 1
}
